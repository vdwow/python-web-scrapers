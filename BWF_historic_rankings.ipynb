{
 "cells": [
  {
   "cell_type": "code",
   "execution_count": 1,
   "metadata": {
    "ExecuteTime": {
     "end_time": "2021-11-24T16:23:43.921478Z",
     "start_time": "2021-11-24T16:23:42.563633Z"
    }
   },
   "outputs": [],
   "source": [
    "import pandas as pd\n",
    "from selenium import webdriver\n",
    "import time\n",
    "import datetime\n",
    "#\n",
    "from selenium.webdriver.common.keys import Keys\n",
    "from selenium.webdriver import ActionChains\n",
    "from selenium.common.exceptions import NoSuchElementException\n",
    "from selenium.webdriver.common.by import By\n",
    "from selenium.webdriver.support.ui import Select\n",
    "#\n",
    "import bs4\n",
    "import urllib\n",
    "#\n",
    "import random"
   ]
  },
  {
   "cell_type": "markdown",
   "metadata": {},
   "source": [
    "## SCRAPPING DATA"
   ]
  },
  {
   "cell_type": "code",
   "execution_count": 2,
   "metadata": {},
   "outputs": [],
   "source": [
    "data_old = pd.read_csv('bwf_historic_rankings.csv')\n",
    "data_old = data_old.drop('Unnamed: 0', axis = 1)"
   ]
  },
  {
   "cell_type": "code",
   "execution_count": 3,
   "metadata": {},
   "outputs": [
    {
     "data": {
      "text/html": [
       "<div>\n",
       "<style scoped>\n",
       "    .dataframe tbody tr th:only-of-type {\n",
       "        vertical-align: middle;\n",
       "    }\n",
       "\n",
       "    .dataframe tbody tr th {\n",
       "        vertical-align: top;\n",
       "    }\n",
       "\n",
       "    .dataframe thead th {\n",
       "        text-align: right;\n",
       "    }\n",
       "</style>\n",
       "<table border=\"1\" class=\"dataframe\">\n",
       "  <thead>\n",
       "    <tr style=\"text-align: right;\">\n",
       "      <th></th>\n",
       "      <th>date</th>\n",
       "      <th>draw</th>\n",
       "      <th>rank</th>\n",
       "      <th>points</th>\n",
       "      <th>country</th>\n",
       "      <th>name</th>\n",
       "    </tr>\n",
       "  </thead>\n",
       "  <tbody>\n",
       "    <tr>\n",
       "      <th>0</th>\n",
       "      <td>2022-08-15</td>\n",
       "      <td>MS</td>\n",
       "      <td>1</td>\n",
       "      <td>121606</td>\n",
       "      <td>DENMARK</td>\n",
       "      <td>VIKTOR AXELSEN</td>\n",
       "    </tr>\n",
       "    <tr>\n",
       "      <th>1</th>\n",
       "      <td>2022-08-15</td>\n",
       "      <td>MS</td>\n",
       "      <td>2</td>\n",
       "      <td>112704</td>\n",
       "      <td>JAPAN</td>\n",
       "      <td>KENTO MOMOTA</td>\n",
       "    </tr>\n",
       "    <tr>\n",
       "      <th>2</th>\n",
       "      <td>2022-08-15</td>\n",
       "      <td>MS</td>\n",
       "      <td>3</td>\n",
       "      <td>98300</td>\n",
       "      <td>DENMARK</td>\n",
       "      <td>ANDERS ANTONSEN</td>\n",
       "    </tr>\n",
       "    <tr>\n",
       "      <th>3</th>\n",
       "      <td>2022-08-15</td>\n",
       "      <td>MS</td>\n",
       "      <td>4</td>\n",
       "      <td>93776</td>\n",
       "      <td>CHINESE TAIPEI</td>\n",
       "      <td>CHOU TIEN CHEN</td>\n",
       "    </tr>\n",
       "    <tr>\n",
       "      <th>4</th>\n",
       "      <td>2022-08-15</td>\n",
       "      <td>MS</td>\n",
       "      <td>5</td>\n",
       "      <td>91578</td>\n",
       "      <td>MALAYSIA</td>\n",
       "      <td>LEE ZII JIA</td>\n",
       "    </tr>\n",
       "  </tbody>\n",
       "</table>\n",
       "</div>"
      ],
      "text/plain": [
       "         date draw  rank  points         country             name\n",
       "0  2022-08-15   MS     1  121606         DENMARK   VIKTOR AXELSEN\n",
       "1  2022-08-15   MS     2  112704           JAPAN     KENTO MOMOTA\n",
       "2  2022-08-15   MS     3   98300         DENMARK  ANDERS ANTONSEN\n",
       "3  2022-08-15   MS     4   93776  CHINESE TAIPEI  CHOU TIEN CHEN \n",
       "4  2022-08-15   MS     5   91578        MALAYSIA      LEE ZII JIA"
      ]
     },
     "execution_count": 3,
     "metadata": {},
     "output_type": "execute_result"
    }
   ],
   "source": [
    "data_old.head()"
   ]
  },
  {
   "cell_type": "code",
   "execution_count": 4,
   "metadata": {},
   "outputs": [
    {
     "data": {
      "text/plain": [
       "'2022-08-15'"
      ]
     },
     "execution_count": 4,
     "metadata": {},
     "output_type": "execute_result"
    }
   ],
   "source": [
    "last_fetched_date = data_old['date'].max()\n",
    "last_fetched_date"
   ]
  },
  {
   "cell_type": "code",
   "execution_count": 8,
   "metadata": {
    "ExecuteTime": {
     "end_time": "2021-10-27T19:07:35.234928Z",
     "start_time": "2021-10-27T19:07:33.374036Z"
    }
   },
   "outputs": [],
   "source": [
    "driver = webdriver.Chrome()\n",
    "\n",
    "driver.get('https://badmintonstatistics.net/Rankings')\n",
    "driver.maximize_window()"
   ]
  },
  {
   "cell_type": "code",
   "execution_count": 9,
   "metadata": {},
   "outputs": [],
   "source": [
    "select = Select(driver.find_element(By.XPATH, '//*[@id=\"rankingPeriodsSelect\"]'))\n",
    "# select by visible text\n",
    "select.select_by_index('0')"
   ]
  },
  {
   "cell_type": "code",
   "execution_count": 10,
   "metadata": {},
   "outputs": [
    {
     "data": {
      "text/plain": [
       "'26-12-2022'"
      ]
     },
     "execution_count": 10,
     "metadata": {},
     "output_type": "execute_result"
    }
   ],
   "source": [
    "#getting last ID vs historic data\n",
    "last_current_week = driver.find_element(By.XPATH, '//*[@id=\"rankingPeriodsSelect\"]/option[1]').text.replace('/', '-')\n",
    "last_current_week"
   ]
  },
  {
   "cell_type": "code",
   "execution_count": 11,
   "metadata": {
    "ExecuteTime": {
     "end_time": "2021-10-27T19:49:09.971782Z",
     "start_time": "2021-10-27T19:49:09.956768Z"
    }
   },
   "outputs": [],
   "source": [
    "dic_ranking = {'date':[], 'draw':[], 'top_100':[]}"
   ]
  },
  {
   "cell_type": "code",
   "execution_count": 12,
   "metadata": {},
   "outputs": [
    {
     "data": {
      "text/plain": [
       "'2022-08-15'"
      ]
     },
     "execution_count": 12,
     "metadata": {},
     "output_type": "execute_result"
    }
   ],
   "source": [
    "last_fetched_date"
   ]
  },
  {
   "cell_type": "code",
   "execution_count": 13,
   "metadata": {},
   "outputs": [
    {
     "data": {
      "text/plain": [
       "['2022-12-26', '2022-12-19', '2022-12-12', '2022-12-05', '2022-11-28']"
      ]
     },
     "execution_count": 13,
     "metadata": {},
     "output_type": "execute_result"
    }
   ],
   "source": [
    "date_listing = driver.find_element(By.XPATH, '//*[@id=\"rankingPeriodsSelect\"]').text\n",
    "date_listing = date_listing.replace(' ','').replace('/','-').split('\\n')\n",
    "date_listing = [x[6:10] + '-' + x[3:5] + '-' + x[0:2] for x in date_listing]\n",
    "date_listing[0:5]"
   ]
  },
  {
   "cell_type": "code",
   "execution_count": 14,
   "metadata": {},
   "outputs": [
    {
     "data": {
      "text/plain": [
       "['2022-12-26', '2022-12-19', '2022-12-12', '2022-12-05', '2022-11-28']"
      ]
     },
     "metadata": {},
     "output_type": "display_data"
    },
    {
     "data": {
      "text/plain": [
       "['2022-09-19', '2022-09-12', '2022-09-05', '2022-08-29', '2022-08-22']"
      ]
     },
     "metadata": {},
     "output_type": "display_data"
    }
   ],
   "source": [
    "date_listing_filtered = [x for x in date_listing if x > last_fetched_date]\n",
    "display(date_listing_filtered[:5])\n",
    "display(date_listing_filtered[-5:])"
   ]
  },
  {
   "cell_type": "code",
   "execution_count": 15,
   "metadata": {
    "ExecuteTime": {
     "end_time": "2021-10-27T21:14:20.751485Z",
     "start_time": "2021-10-27T20:49:50.118567Z"
    }
   },
   "outputs": [],
   "source": [
    "for date in date_listing_filtered:\n",
    "\n",
    "    for draw in ['MS','WS','MD','WD','XD']:\n",
    "        \n",
    "        driver.get('https://badmintonstatistics.net/Rankings?date=' + date + '&category=' + draw + '&country=%&page=1&pagesize=100')\n",
    "\n",
    "        top_100 = driver.find_element(By.XPATH, '//*[@id=\"RankingList\"]/div[2]/table/tbody')\n",
    "\n",
    "        dic_ranking['date'].append(date)\n",
    "        dic_ranking['draw'].append(draw)\n",
    "        dic_ranking['top_100'].append(top_100.text)\n",
    "\n",
    "        #time.sleep(random.randint(3,5))"
   ]
  },
  {
   "cell_type": "code",
   "execution_count": 16,
   "metadata": {
    "ExecuteTime": {
     "end_time": "2021-10-27T21:15:12.428438Z",
     "start_time": "2021-10-27T21:15:12.409420Z"
    }
   },
   "outputs": [
    {
     "data": {
      "text/html": [
       "<div>\n",
       "<style scoped>\n",
       "    .dataframe tbody tr th:only-of-type {\n",
       "        vertical-align: middle;\n",
       "    }\n",
       "\n",
       "    .dataframe tbody tr th {\n",
       "        vertical-align: top;\n",
       "    }\n",
       "\n",
       "    .dataframe thead th {\n",
       "        text-align: right;\n",
       "    }\n",
       "</style>\n",
       "<table border=\"1\" class=\"dataframe\">\n",
       "  <thead>\n",
       "    <tr style=\"text-align: right;\">\n",
       "      <th></th>\n",
       "      <th>date</th>\n",
       "      <th>draw</th>\n",
       "      <th>top_100</th>\n",
       "    </tr>\n",
       "  </thead>\n",
       "  <tbody>\n",
       "    <tr>\n",
       "      <th>0</th>\n",
       "      <td>2022-12-26</td>\n",
       "      <td>MS</td>\n",
       "      <td>1 Viktor AXELSEN MS 108056\\n2 LEE Zii Jia MS 7...</td>\n",
       "    </tr>\n",
       "    <tr>\n",
       "      <th>1</th>\n",
       "      <td>2022-12-26</td>\n",
       "      <td>WS</td>\n",
       "      <td>1 Akane YAMAGUCHI WS 103613\\n2 TAI Tzu Ying WS...</td>\n",
       "    </tr>\n",
       "    <tr>\n",
       "      <th>2</th>\n",
       "      <td>2022-12-26</td>\n",
       "      <td>MD</td>\n",
       "      <td>1 Fajar ALFIAN / Muhammad Rian ARDIANTO MD 886...</td>\n",
       "    </tr>\n",
       "    <tr>\n",
       "      <th>3</th>\n",
       "      <td>2022-12-26</td>\n",
       "      <td>WD</td>\n",
       "      <td>1 CHEN Qingchen / JIA Yifan WD 105816\\n2 Nami ...</td>\n",
       "    </tr>\n",
       "    <tr>\n",
       "      <th>4</th>\n",
       "      <td>2022-12-26</td>\n",
       "      <td>XD</td>\n",
       "      <td>1 ZHENG Siwei / HUANG Yaqiong XD 109600\\n2 Dec...</td>\n",
       "    </tr>\n",
       "    <tr>\n",
       "      <th>...</th>\n",
       "      <td>...</td>\n",
       "      <td>...</td>\n",
       "      <td>...</td>\n",
       "    </tr>\n",
       "    <tr>\n",
       "      <th>90</th>\n",
       "      <td>2022-08-22</td>\n",
       "      <td>MS</td>\n",
       "      <td>1 Viktor AXELSEN MS 121606\\n2 Kento MOMOTA MS ...</td>\n",
       "    </tr>\n",
       "    <tr>\n",
       "      <th>91</th>\n",
       "      <td>2022-08-22</td>\n",
       "      <td>WS</td>\n",
       "      <td>1 Akane YAMAGUCHI WS 111013\\n2 TAI Tzu Ying WS...</td>\n",
       "    </tr>\n",
       "    <tr>\n",
       "      <th>92</th>\n",
       "      <td>2022-08-22</td>\n",
       "      <td>MD</td>\n",
       "      <td>1 Marcus Fernaldi GIDEON / Kevin Sanjaya SUKAM...</td>\n",
       "    </tr>\n",
       "    <tr>\n",
       "      <th>93</th>\n",
       "      <td>2022-08-22</td>\n",
       "      <td>WD</td>\n",
       "      <td>1 CHEN Qingchen / JIA Yifan WD 108666\\n2 Yuki ...</td>\n",
       "    </tr>\n",
       "    <tr>\n",
       "      <th>94</th>\n",
       "      <td>2022-08-22</td>\n",
       "      <td>XD</td>\n",
       "      <td>1 Dechapol PUAVARANUKROH / Sapsiree TAERATTANA...</td>\n",
       "    </tr>\n",
       "  </tbody>\n",
       "</table>\n",
       "<p>95 rows × 3 columns</p>\n",
       "</div>"
      ],
      "text/plain": [
       "          date draw                                            top_100\n",
       "0   2022-12-26   MS  1 Viktor AXELSEN MS 108056\\n2 LEE Zii Jia MS 7...\n",
       "1   2022-12-26   WS  1 Akane YAMAGUCHI WS 103613\\n2 TAI Tzu Ying WS...\n",
       "2   2022-12-26   MD  1 Fajar ALFIAN / Muhammad Rian ARDIANTO MD 886...\n",
       "3   2022-12-26   WD  1 CHEN Qingchen / JIA Yifan WD 105816\\n2 Nami ...\n",
       "4   2022-12-26   XD  1 ZHENG Siwei / HUANG Yaqiong XD 109600\\n2 Dec...\n",
       "..         ...  ...                                                ...\n",
       "90  2022-08-22   MS  1 Viktor AXELSEN MS 121606\\n2 Kento MOMOTA MS ...\n",
       "91  2022-08-22   WS  1 Akane YAMAGUCHI WS 111013\\n2 TAI Tzu Ying WS...\n",
       "92  2022-08-22   MD  1 Marcus Fernaldi GIDEON / Kevin Sanjaya SUKAM...\n",
       "93  2022-08-22   WD  1 CHEN Qingchen / JIA Yifan WD 108666\\n2 Yuki ...\n",
       "94  2022-08-22   XD  1 Dechapol PUAVARANUKROH / Sapsiree TAERATTANA...\n",
       "\n",
       "[95 rows x 3 columns]"
      ]
     },
     "execution_count": 16,
     "metadata": {},
     "output_type": "execute_result"
    }
   ],
   "source": [
    "delta = pd.DataFrame.from_dict(dic_ranking)\n",
    "delta"
   ]
  },
  {
   "cell_type": "code",
   "execution_count": 17,
   "metadata": {
    "ExecuteTime": {
     "end_time": "2021-10-27T21:15:43.724489Z",
     "start_time": "2021-10-27T21:15:43.149967Z"
    }
   },
   "outputs": [],
   "source": [
    "delta.to_csv('export_delta_top100_bwf.csv')"
   ]
  },
  {
   "cell_type": "markdown",
   "metadata": {},
   "source": [
    "## CLEANING DATA"
   ]
  },
  {
   "cell_type": "code",
   "execution_count": 18,
   "metadata": {},
   "outputs": [],
   "source": [
    "def prep_data(df):\n",
    "\n",
    "    df = pd.DataFrame(df.top_100.str.split('\\n').tolist(), index=df[['date','draw']]).stack().reset_index()\n",
    "    \n",
    "    df.columns = ['date / draw', 'to_drop', 'content']\n",
    "\n",
    "    df['date'] = df['date / draw'].str[0]\n",
    "    df['draw'] = df['date / draw'].str[1]\n",
    "    df['rank'] = df['content'].str.split(' ', 1).str[0]\n",
    "    df['points'] = df['content'].str.split(' ').str[-1]\n",
    "    df['country'] = df['content'].str.split(' ').str[-3].str.upper()\n",
    "    df['name'] = df['content'].str.split(' ').str[1:-3]\n",
    "\n",
    "    df['country'] = df['country'].str.replace('KONG','HONG KONG')\n",
    "    df['country'] = df['country'].str.replace('TAIPEI','CHINESE TAIPEI')\n",
    "    \n",
    "    df['name'] = df['name'].apply(lambda x: ','.join(map(str, x)))\n",
    "    df['name'] = df['name'].str.replace(',',' ').str.upper()\n",
    "    df['name'] = df['name'].str.replace('CHINESE','')\n",
    "    \n",
    "    df['points'] = df['points'].astype('int')\n",
    "    \n",
    "    df['rank'] = df['rank'].astype('int')\n",
    "\n",
    "    df = df.drop(['date / draw','content', 'to_drop'], axis = 1)\n",
    "    \n",
    "    display(df.info())\n",
    "    display(df.head())\n",
    "    \n",
    "    return df"
   ]
  },
  {
   "cell_type": "code",
   "execution_count": 19,
   "metadata": {
    "ExecuteTime": {
     "end_time": "2021-11-24T16:25:08.785938Z",
     "start_time": "2021-11-24T16:25:01.073953Z"
    }
   },
   "outputs": [
    {
     "name": "stdout",
     "output_type": "stream",
     "text": [
      "<class 'pandas.core.frame.DataFrame'>\n",
      "RangeIndex: 9500 entries, 0 to 9499\n",
      "Data columns (total 6 columns):\n",
      " #   Column   Non-Null Count  Dtype \n",
      "---  ------   --------------  ----- \n",
      " 0   date     9500 non-null   object\n",
      " 1   draw     9500 non-null   object\n",
      " 2   rank     9500 non-null   int32 \n",
      " 3   points   9500 non-null   int32 \n",
      " 4   country  9500 non-null   object\n",
      " 5   name     9500 non-null   object\n",
      "dtypes: int32(2), object(4)\n",
      "memory usage: 371.2+ KB\n"
     ]
    },
    {
     "data": {
      "text/plain": [
       "None"
      ]
     },
     "metadata": {},
     "output_type": "display_data"
    },
    {
     "data": {
      "text/html": [
       "<div>\n",
       "<style scoped>\n",
       "    .dataframe tbody tr th:only-of-type {\n",
       "        vertical-align: middle;\n",
       "    }\n",
       "\n",
       "    .dataframe tbody tr th {\n",
       "        vertical-align: top;\n",
       "    }\n",
       "\n",
       "    .dataframe thead th {\n",
       "        text-align: right;\n",
       "    }\n",
       "</style>\n",
       "<table border=\"1\" class=\"dataframe\">\n",
       "  <thead>\n",
       "    <tr style=\"text-align: right;\">\n",
       "      <th></th>\n",
       "      <th>date</th>\n",
       "      <th>draw</th>\n",
       "      <th>rank</th>\n",
       "      <th>points</th>\n",
       "      <th>country</th>\n",
       "      <th>name</th>\n",
       "    </tr>\n",
       "  </thead>\n",
       "  <tbody>\n",
       "    <tr>\n",
       "      <th>0</th>\n",
       "      <td>2022-12-26</td>\n",
       "      <td>MS</td>\n",
       "      <td>1</td>\n",
       "      <td>108056</td>\n",
       "      <td>AXELSEN</td>\n",
       "      <td>VIKTOR</td>\n",
       "    </tr>\n",
       "    <tr>\n",
       "      <th>1</th>\n",
       "      <td>2022-12-26</td>\n",
       "      <td>MS</td>\n",
       "      <td>2</td>\n",
       "      <td>79468</td>\n",
       "      <td>JIA</td>\n",
       "      <td>LEE ZII</td>\n",
       "    </tr>\n",
       "    <tr>\n",
       "      <th>2</th>\n",
       "      <td>2022-12-26</td>\n",
       "      <td>MS</td>\n",
       "      <td>3</td>\n",
       "      <td>77394</td>\n",
       "      <td>YEW</td>\n",
       "      <td>LOH KEAN</td>\n",
       "    </tr>\n",
       "    <tr>\n",
       "      <th>3</th>\n",
       "      <td>2022-12-26</td>\n",
       "      <td>MS</td>\n",
       "      <td>4</td>\n",
       "      <td>75812</td>\n",
       "      <td>CHRISTIE</td>\n",
       "      <td>JONATAN</td>\n",
       "    </tr>\n",
       "    <tr>\n",
       "      <th>4</th>\n",
       "      <td>2022-12-26</td>\n",
       "      <td>MS</td>\n",
       "      <td>5</td>\n",
       "      <td>75749</td>\n",
       "      <td>GINTING</td>\n",
       "      <td>ANTHONY SINISUKA</td>\n",
       "    </tr>\n",
       "  </tbody>\n",
       "</table>\n",
       "</div>"
      ],
      "text/plain": [
       "         date draw  rank  points   country              name\n",
       "0  2022-12-26   MS     1  108056   AXELSEN            VIKTOR\n",
       "1  2022-12-26   MS     2   79468       JIA           LEE ZII\n",
       "2  2022-12-26   MS     3   77394       YEW          LOH KEAN\n",
       "3  2022-12-26   MS     4   75812  CHRISTIE           JONATAN\n",
       "4  2022-12-26   MS     5   75749   GINTING  ANTHONY SINISUKA"
      ]
     },
     "metadata": {},
     "output_type": "display_data"
    }
   ],
   "source": [
    "delta_prep = prep_data(delta)"
   ]
  },
  {
   "cell_type": "code",
   "execution_count": 20,
   "metadata": {},
   "outputs": [
    {
     "name": "stdout",
     "output_type": "stream",
     "text": [
      "(9500, 6)\n",
      "(829000, 6)\n"
     ]
    }
   ],
   "source": [
    "print(delta_prep.shape)\n",
    "print(data_old.shape)"
   ]
  },
  {
   "cell_type": "code",
   "execution_count": 21,
   "metadata": {},
   "outputs": [],
   "source": [
    "data_full = pd.concat([delta_prep, data_old], ignore_index=True)"
   ]
  },
  {
   "cell_type": "code",
   "execution_count": 22,
   "metadata": {},
   "outputs": [
    {
     "data": {
      "text/html": [
       "<div>\n",
       "<style scoped>\n",
       "    .dataframe tbody tr th:only-of-type {\n",
       "        vertical-align: middle;\n",
       "    }\n",
       "\n",
       "    .dataframe tbody tr th {\n",
       "        vertical-align: top;\n",
       "    }\n",
       "\n",
       "    .dataframe thead th {\n",
       "        text-align: right;\n",
       "    }\n",
       "</style>\n",
       "<table border=\"1\" class=\"dataframe\">\n",
       "  <thead>\n",
       "    <tr style=\"text-align: right;\">\n",
       "      <th></th>\n",
       "      <th>date</th>\n",
       "      <th>draw</th>\n",
       "      <th>rank</th>\n",
       "      <th>points</th>\n",
       "      <th>country</th>\n",
       "      <th>name</th>\n",
       "    </tr>\n",
       "  </thead>\n",
       "  <tbody>\n",
       "    <tr>\n",
       "      <th>0</th>\n",
       "      <td>2022-12-26</td>\n",
       "      <td>MS</td>\n",
       "      <td>1</td>\n",
       "      <td>108056</td>\n",
       "      <td>AXELSEN</td>\n",
       "      <td>VIKTOR</td>\n",
       "    </tr>\n",
       "    <tr>\n",
       "      <th>1</th>\n",
       "      <td>2022-12-26</td>\n",
       "      <td>MS</td>\n",
       "      <td>2</td>\n",
       "      <td>79468</td>\n",
       "      <td>JIA</td>\n",
       "      <td>LEE ZII</td>\n",
       "    </tr>\n",
       "    <tr>\n",
       "      <th>2</th>\n",
       "      <td>2022-12-26</td>\n",
       "      <td>MS</td>\n",
       "      <td>3</td>\n",
       "      <td>77394</td>\n",
       "      <td>YEW</td>\n",
       "      <td>LOH KEAN</td>\n",
       "    </tr>\n",
       "    <tr>\n",
       "      <th>3</th>\n",
       "      <td>2022-12-26</td>\n",
       "      <td>MS</td>\n",
       "      <td>4</td>\n",
       "      <td>75812</td>\n",
       "      <td>CHRISTIE</td>\n",
       "      <td>JONATAN</td>\n",
       "    </tr>\n",
       "    <tr>\n",
       "      <th>4</th>\n",
       "      <td>2022-12-26</td>\n",
       "      <td>MS</td>\n",
       "      <td>5</td>\n",
       "      <td>75749</td>\n",
       "      <td>GINTING</td>\n",
       "      <td>ANTHONY SINISUKA</td>\n",
       "    </tr>\n",
       "  </tbody>\n",
       "</table>\n",
       "</div>"
      ],
      "text/plain": [
       "         date draw  rank  points   country              name\n",
       "0  2022-12-26   MS     1  108056   AXELSEN            VIKTOR\n",
       "1  2022-12-26   MS     2   79468       JIA           LEE ZII\n",
       "2  2022-12-26   MS     3   77394       YEW          LOH KEAN\n",
       "3  2022-12-26   MS     4   75812  CHRISTIE           JONATAN\n",
       "4  2022-12-26   MS     5   75749   GINTING  ANTHONY SINISUKA"
      ]
     },
     "execution_count": 22,
     "metadata": {},
     "output_type": "execute_result"
    }
   ],
   "source": [
    "data_full.head()"
   ]
  },
  {
   "cell_type": "code",
   "execution_count": 23,
   "metadata": {},
   "outputs": [],
   "source": [
    "data_full.to_csv('bwf_historic_rankings.csv')"
   ]
  },
  {
   "cell_type": "code",
   "execution_count": null,
   "metadata": {},
   "outputs": [],
   "source": []
  }
 ],
 "metadata": {
  "hide_input": false,
  "kernelspec": {
   "display_name": "Python 3.10.5 64-bit",
   "language": "python",
   "name": "python3"
  },
  "language_info": {
   "codemirror_mode": {
    "name": "ipython",
    "version": 3
   },
   "file_extension": ".py",
   "mimetype": "text/x-python",
   "name": "python",
   "nbconvert_exporter": "python",
   "pygments_lexer": "ipython3",
   "version": "3.10.5 (tags/v3.10.5:f377153, Jun  6 2022, 16:14:13) [MSC v.1929 64 bit (AMD64)]"
  },
  "toc": {
   "base_numbering": 1,
   "nav_menu": {},
   "number_sections": true,
   "sideBar": true,
   "skip_h1_title": false,
   "title_cell": "Table of Contents",
   "title_sidebar": "Contents",
   "toc_cell": false,
   "toc_position": {},
   "toc_section_display": true,
   "toc_window_display": false
  },
  "vscode": {
   "interpreter": {
    "hash": "38ab5aec3b6b6d2a13455cf3c0e7673913054737acc71c96a9f271dcbc4106af"
   }
  }
 },
 "nbformat": 4,
 "nbformat_minor": 4
}

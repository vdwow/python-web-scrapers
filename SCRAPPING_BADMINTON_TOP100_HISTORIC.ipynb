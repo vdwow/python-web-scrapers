{
 "cells": [
  {
   "cell_type": "code",
   "execution_count": 71,
   "metadata": {
    "ExecuteTime": {
     "end_time": "2021-11-24T16:23:43.921478Z",
     "start_time": "2021-11-24T16:23:42.563633Z"
    }
   },
   "outputs": [],
   "source": [
    "import pandas as pd\n",
    "from selenium import webdriver\n",
    "import time\n",
    "import datetime\n",
    "#\n",
    "from selenium.webdriver.common.keys import Keys\n",
    "from selenium.webdriver import ActionChains\n",
    "from selenium.common.exceptions import NoSuchElementException\n",
    "from selenium.webdriver.common.by import By\n",
    "from selenium.webdriver.support.ui import Select\n",
    "#\n",
    "import bs4\n",
    "import urllib\n",
    "#\n",
    "import random"
   ]
  },
  {
   "cell_type": "markdown",
   "metadata": {},
   "source": [
    "## SCRAPPING DATA"
   ]
  },
  {
   "cell_type": "code",
   "execution_count": 75,
   "metadata": {},
   "outputs": [],
   "source": [
    "data_old = pd.read_csv('export_histo_top100_badminton.csv')"
   ]
  },
  {
   "cell_type": "code",
   "execution_count": 76,
   "metadata": {},
   "outputs": [
    {
     "data": {
      "text/html": [
       "<div>\n",
       "<style scoped>\n",
       "    .dataframe tbody tr th:only-of-type {\n",
       "        vertical-align: middle;\n",
       "    }\n",
       "\n",
       "    .dataframe tbody tr th {\n",
       "        vertical-align: top;\n",
       "    }\n",
       "\n",
       "    .dataframe thead th {\n",
       "        text-align: right;\n",
       "    }\n",
       "</style>\n",
       "<table border=\"1\" class=\"dataframe\">\n",
       "  <thead>\n",
       "    <tr style=\"text-align: right;\">\n",
       "      <th></th>\n",
       "      <th>Unnamed: 0</th>\n",
       "      <th>date</th>\n",
       "      <th>draw</th>\n",
       "      <th>top_100</th>\n",
       "    </tr>\n",
       "  </thead>\n",
       "  <tbody>\n",
       "    <tr>\n",
       "      <th>0</th>\n",
       "      <td>0</td>\n",
       "      <td>2021-10-25</td>\n",
       "      <td>MS</td>\n",
       "      <td>Rank Players Country Category Points\\r\\n1 Kent...</td>\n",
       "    </tr>\n",
       "    <tr>\n",
       "      <th>1</th>\n",
       "      <td>1</td>\n",
       "      <td>2021-10-25</td>\n",
       "      <td>WS</td>\n",
       "      <td>Rank Players Country Category Points\\r\\n1 TAI ...</td>\n",
       "    </tr>\n",
       "    <tr>\n",
       "      <th>2</th>\n",
       "      <td>2</td>\n",
       "      <td>2021-10-25</td>\n",
       "      <td>MD</td>\n",
       "      <td>Rank Players Country Category Points\\r\\n1 Marc...</td>\n",
       "    </tr>\n",
       "    <tr>\n",
       "      <th>3</th>\n",
       "      <td>3</td>\n",
       "      <td>2021-10-25</td>\n",
       "      <td>WD</td>\n",
       "      <td>Rank Players Country Category Points\\r\\n1 Yuki...</td>\n",
       "    </tr>\n",
       "    <tr>\n",
       "      <th>4</th>\n",
       "      <td>4</td>\n",
       "      <td>2021-10-25</td>\n",
       "      <td>XD</td>\n",
       "      <td>Rank Players Country Category Points\\r\\n1 ZHEN...</td>\n",
       "    </tr>\n",
       "  </tbody>\n",
       "</table>\n",
       "</div>"
      ],
      "text/plain": [
       "   Unnamed: 0        date draw  \\\n",
       "0           0  2021-10-25   MS   \n",
       "1           1  2021-10-25   WS   \n",
       "2           2  2021-10-25   MD   \n",
       "3           3  2021-10-25   WD   \n",
       "4           4  2021-10-25   XD   \n",
       "\n",
       "                                             top_100  \n",
       "0  Rank Players Country Category Points\\r\\n1 Kent...  \n",
       "1  Rank Players Country Category Points\\r\\n1 TAI ...  \n",
       "2  Rank Players Country Category Points\\r\\n1 Marc...  \n",
       "3  Rank Players Country Category Points\\r\\n1 Yuki...  \n",
       "4  Rank Players Country Category Points\\r\\n1 ZHEN...  "
      ]
     },
     "execution_count": 76,
     "metadata": {},
     "output_type": "execute_result"
    }
   ],
   "source": [
    "data_old.head()"
   ]
  },
  {
   "cell_type": "code",
   "execution_count": 77,
   "metadata": {},
   "outputs": [],
   "source": [
    "last_fetched_date = data_old['date'].max()\n",
    "last_fetched_date = last_fetched_date[8:10] + '-' + last_fetched_date[5:7] + '-' + last_fetched_date[0:4]\n",
    "last_fetched_date"
   ]
  },
  {
   "cell_type": "code",
   "execution_count": 78,
   "metadata": {
    "ExecuteTime": {
     "end_time": "2021-10-27T19:07:35.234928Z",
     "start_time": "2021-10-27T19:07:33.374036Z"
    }
   },
   "outputs": [],
   "source": [
    "driver = webdriver.Chrome()\n",
    "\n",
    "driver.get('https://badmintonstatistics.net/Rankings')\n",
    "driver.maximize_window()"
   ]
  },
  {
   "cell_type": "code",
   "execution_count": 79,
   "metadata": {},
   "outputs": [],
   "source": [
    "select = Select(driver.find_element(By.XPATH, '//*[@id=\"rankingPeriodsSelect\"]'))\n",
    "# select by visible text\n",
    "select.select_by_index('0')"
   ]
  },
  {
   "cell_type": "code",
   "execution_count": 80,
   "metadata": {},
   "outputs": [
    {
     "data": {
      "text/plain": [
       "'15-08-2022'"
      ]
     },
     "execution_count": 80,
     "metadata": {},
     "output_type": "execute_result"
    }
   ],
   "source": [
    "#getting last ID vs historic data\n",
    "last_current_week = driver.find_element(By.XPATH, '//*[@id=\"rankingPeriodsSelect\"]/option[1]').text.replace('/', '-')\n",
    "last_current_week"
   ]
  },
  {
   "cell_type": "code",
   "execution_count": 81,
   "metadata": {
    "ExecuteTime": {
     "end_time": "2021-10-27T19:49:09.971782Z",
     "start_time": "2021-10-27T19:49:09.956768Z"
    }
   },
   "outputs": [],
   "source": [
    "dic_ranking = {'date':[], 'draw':[], 'top_100':[]}"
   ]
  },
  {
   "cell_type": "code",
   "execution_count": 82,
   "metadata": {},
   "outputs": [
    {
     "data": {
      "text/plain": [
       "'25-10-2021'"
      ]
     },
     "execution_count": 82,
     "metadata": {},
     "output_type": "execute_result"
    }
   ],
   "source": [
    "last_fetched_date"
   ]
  },
  {
   "cell_type": "code",
   "execution_count": 84,
   "metadata": {},
   "outputs": [
    {
     "data": {
      "text/plain": [
       "['15-08-2022',\n",
       " '08-08-2022',\n",
       " '01-08-2022',\n",
       " '25-07-2022',\n",
       " '18-07-2022',\n",
       " '11-07-2022']"
      ]
     },
     "execution_count": 84,
     "metadata": {},
     "output_type": "execute_result"
    }
   ],
   "source": [
    "date_listing = driver.find_element(By.XPATH, '//*[@id=\"rankingPeriodsSelect\"]').text\n",
    "date_listing = date_listing.replace(' ','').replace('/','-').split('\\n')\n",
    "date_listing[0:6]"
   ]
  },
  {
   "cell_type": "code",
   "execution_count": 66,
   "metadata": {},
   "outputs": [
    {
     "data": {
      "text/plain": [
       "['27-06-2022',\n",
       " '30-05-2022',\n",
       " '28-03-2022',\n",
       " '28-02-2022',\n",
       " '31-01-2022',\n",
       " '27-12-2021',\n",
       " '29-11-2021',\n",
       " '27-09-2021',\n",
       " '30-08-2021',\n",
       " '26-07-2021',\n",
       " '28-06-2021',\n",
       " '31-05-2021',\n",
       " '26-04-2021',\n",
       " '29-03-2021',\n",
       " '31-08-2020',\n",
       " '27-01-2020',\n",
       " '30-12-2019',\n",
       " '25-11-2019',\n",
       " '28-10-2019',\n",
       " '30-09-2019',\n",
       " '26-08-2019',\n",
       " '29-07-2019',\n",
       " '27-05-2019',\n",
       " '29-04-2019',\n",
       " '28-01-2019',\n",
       " '31-12-2018',\n",
       " '26-11-2018',\n",
       " '29-10-2018',\n",
       " '27-08-2018',\n",
       " '30-07-2018',\n",
       " '28-05-2018',\n",
       " '30-04-2018',\n",
       " '26-03-2018',\n",
       " '26-02-2018',\n",
       " '29-01-2018',\n",
       " '25-12-2017',\n",
       " '27-11-2017',\n",
       " '30-10-2017',\n",
       " '28-08-2017',\n",
       " '31-07-2017',\n",
       " '26-06-2017',\n",
       " '29-05-2017',\n",
       " '27-03-2017',\n",
       " '27-02-2017',\n",
       " '30-01-2017',\n",
       " '26-12-2016',\n",
       " '28-11-2016',\n",
       " '31-10-2016',\n",
       " '26-09-2016',\n",
       " '29-08-2016',\n",
       " '27-06-2016',\n",
       " '30-05-2016',\n",
       " '28-03-2016',\n",
       " '29-02-2016',\n",
       " '28-12-2015',\n",
       " '30-11-2015',\n",
       " '26-10-2015',\n",
       " '28-09-2015',\n",
       " '31-08-2015',\n",
       " '27-07-2015',\n",
       " '29-06-2015',\n",
       " '27-04-2015',\n",
       " '30-03-2015',\n",
       " '26-01-2015',\n",
       " '29-12-2014',\n",
       " '27-10-2014',\n",
       " '29-09-2014',\n",
       " '28-07-2014',\n",
       " '30-06-2014',\n",
       " '26-05-2014',\n",
       " '28-04-2014',\n",
       " '31-03-2014',\n",
       " '27-01-2014',\n",
       " '30-12-2013',\n",
       " '25-11-2013',\n",
       " '28-10-2013',\n",
       " '30-09-2013',\n",
       " '26-08-2013',\n",
       " '29-07-2013',\n",
       " '27-05-2013',\n",
       " '29-04-2013',\n",
       " '28-01-2013',\n",
       " '31-12-2012',\n",
       " '26-11-2012',\n",
       " '29-10-2012',\n",
       " '27-08-2012',\n",
       " '30-07-2012',\n",
       " '28-05-2012',\n",
       " '30-04-2012',\n",
       " '26-03-2012',\n",
       " '27-02-2012',\n",
       " '30-01-2012',\n",
       " '26-12-2011',\n",
       " '28-11-2011',\n",
       " '31-10-2011',\n",
       " '26-09-2011',\n",
       " '29-08-2011',\n",
       " '27-06-2011',\n",
       " '30-05-2011',\n",
       " '28-03-2011',\n",
       " '28-02-2011',\n",
       " '31-01-2011',\n",
       " '27-12-2010',\n",
       " '29-11-2010',\n",
       " '27-09-2010',\n",
       " '30-08-2010',\n",
       " '26-07-2010',\n",
       " '28-06-2010',\n",
       " '31-05-2010',\n",
       " '26-04-2010',\n",
       " '29-03-2010',\n",
       " '28-12-2009',\n",
       " '30-11-2009',\n",
       " '26-10-2009',\n",
       " '28-09-2009',\n",
       " '31-08-2009',\n",
       " '27-07-2009',\n",
       " '29-06-2009',\n",
       " '27-04-2009',\n",
       " '30-03-2009',\n",
       " '26-01-2009',\n",
       " '29-12-2008',\n",
       " '27-10-2008',\n",
       " '29-09-2008',\n",
       " '28-07-2008',\n",
       " '30-06-2008',\n",
       " '26-05-2008',\n",
       " '28-04-2008',\n",
       " '31-03-2008',\n",
       " '28-01-2008',\n",
       " '31-12-2007',\n",
       " '26-11-2007',\n",
       " '29-10-2007',\n",
       " '27-08-2007',\n",
       " '30-07-2007',\n",
       " '28-05-2007',\n",
       " '30-04-2007',\n",
       " '26-03-2007',\n",
       " '26-02-2007',\n",
       " '29-01-2007',\n",
       " '25-12-2006',\n",
       " '27-11-2006',\n",
       " '30-10-2006',\n",
       " '28-08-2006',\n",
       " '31-07-2006',\n",
       " '26-06-2006',\n",
       " '29-05-2006',\n",
       " '27-03-2006',\n",
       " '27-02-2006',\n",
       " '30-01-2006',\n",
       " '26-12-2005',\n",
       " '28-11-2005',\n",
       " '31-10-2005',\n",
       " '26-09-2005',\n",
       " '29-08-2005',\n",
       " '27-06-2005',\n",
       " '30-05-2005',\n",
       " '28-03-2005',\n",
       " '28-02-2005',\n",
       " '31-01-2005',\n",
       " '27-12-2004',\n",
       " '29-11-2004',\n",
       " '27-09-2004',\n",
       " '30-08-2004',\n",
       " '26-07-2004',\n",
       " '28-06-2004',\n",
       " '31-05-2004',\n",
       " '26-04-2004',\n",
       " '29-03-2004',\n",
       " '26-01-2004',\n",
       " '29-12-2003',\n",
       " '27-10-2003',\n",
       " '29-09-2003',\n",
       " '28-07-2003',\n",
       " '30-06-2003',\n",
       " '26-05-2003',\n",
       " '28-04-2003',\n",
       " '31-03-2003',\n",
       " '27-01-2003',\n",
       " '30-12-2002',\n",
       " '25-11-2002',\n",
       " '28-10-2002',\n",
       " '30-09-2002',\n",
       " '26-08-2002',\n",
       " '29-07-2002',\n",
       " '27-05-2002',\n",
       " '29-04-2002',\n",
       " '28-01-2002',\n",
       " '31-12-2001',\n",
       " '26-11-2001',\n",
       " '29-10-2001',\n",
       " '27-08-2001',\n",
       " '30-07-2001',\n",
       " '28-05-2001',\n",
       " '30-04-2001',\n",
       " '26-03-2001',\n",
       " '26-02-2001',\n",
       " '29-01-2001',\n",
       " '25-12-2000',\n",
       " '27-11-2000',\n",
       " '30-10-2000',\n",
       " '28-08-2000',\n",
       " '31-07-2000',\n",
       " '26-06-2000',\n",
       " '29-05-2000',\n",
       " '27-03-2000',\n",
       " '28-02-2000',\n",
       " '31-01-2000',\n",
       " '27-12-1999',\n",
       " '29-11-1999',\n",
       " '27-09-1999',\n",
       " '30-08-1999',\n",
       " '26-07-1999',\n",
       " '28-06-1999',\n",
       " '31-05-1999',\n",
       " '26-04-1999',\n",
       " '29-03-1999',\n",
       " '28-12-1998',\n",
       " '30-11-1998',\n",
       " '26-10-1998',\n",
       " '28-09-1998',\n",
       " '31-08-1998',\n",
       " '27-07-1998',\n",
       " '29-06-1998',\n",
       " '27-04-1998',\n",
       " '30-03-1998',\n",
       " '26-01-1998',\n",
       " '29-12-1997',\n",
       " '27-10-1997',\n",
       " '29-09-1997',\n",
       " '28-07-1997',\n",
       " '30-06-1997',\n",
       " '26-05-1997',\n",
       " '28-04-1997',\n",
       " '31-03-1997',\n",
       " '27-01-1997',\n",
       " '30-12-1996',\n",
       " '25-11-1996',\n",
       " '28-10-1996',\n",
       " '30-09-1996',\n",
       " '26-08-1996',\n",
       " '29-07-1996',\n",
       " '27-05-1996',\n",
       " '29-04-1996',\n",
       " '26-02-1996',\n",
       " '29-01-1996',\n",
       " '25-12-1995',\n",
       " '27-11-1995',\n",
       " '30-10-1995',\n",
       " '28-08-1995',\n",
       " '31-07-1995',\n",
       " '26-06-1995',\n",
       " '29-05-1995',\n",
       " '27-03-1995',\n",
       " '27-02-1995',\n",
       " '30-01-1995',\n",
       " '26-12-1994',\n",
       " '28-11-1994',\n",
       " '31-10-1994',\n",
       " '26-09-1994',\n",
       " '29-08-1994',\n",
       " '27-06-1994',\n",
       " '30-05-1994',\n",
       " '28-03-1994',\n",
       " '28-02-1994',\n",
       " '31-01-1994',\n",
       " '27-12-1993',\n",
       " '29-11-1993',\n",
       " '27-09-1993',\n",
       " '30-08-1993',\n",
       " '26-07-1993',\n",
       " '28-06-1993',\n",
       " '31-05-1993',\n",
       " '26-04-1993',\n",
       " '29-03-1993',\n",
       " '28-12-1992',\n",
       " '30-11-1992',\n",
       " '26-10-1992',\n",
       " '28-09-1992',\n",
       " '31-08-1992',\n",
       " '27-07-1992',\n",
       " '29-06-1992',\n",
       " '27-04-1992',\n",
       " '30-03-1992',\n",
       " '27-01-1992',\n",
       " '30-12-1991',\n",
       " '25-11-1991',\n",
       " '28-10-1991',\n",
       " '30-09-1991',\n",
       " '26-08-1991',\n",
       " '29-07-1991',\n",
       " '27-05-1991',\n",
       " '29-04-1991',\n",
       " '28-01-1991',\n",
       " '31-12-1990',\n",
       " '26-11-1990',\n",
       " '29-10-1990',\n",
       " '27-08-1990',\n",
       " '30-07-1990',\n",
       " '28-05-1990',\n",
       " '30-04-1990',\n",
       " '26-03-1990',\n",
       " '26-02-1990',\n",
       " '29-01-1990']"
      ]
     },
     "execution_count": 66,
     "metadata": {},
     "output_type": "execute_result"
    }
   ],
   "source": [
    "date_listing_filtered = [x for x in date_listing if x > last_fetched_date]\n",
    "date_listing_filtered"
   ]
  },
  {
   "cell_type": "code",
   "execution_count": 53,
   "metadata": {
    "ExecuteTime": {
     "end_time": "2021-10-27T21:14:20.751485Z",
     "start_time": "2021-10-27T20:49:50.118567Z"
    }
   },
   "outputs": [],
   "source": [
    "for date in date_listing[1000:]:\n",
    "    \n",
    "    temp_date = date[6:10]+'-'+date[3:5]+'-'+date[0:2]\n",
    "\n",
    "    for draw in ['MS','WS','MD','WD','XD']:\n",
    "        \n",
    "        driver.get('https://badmintonstatistics.net/Rankings?date='+temp_date+'&category='+draw+'&country=%&page=1&pagesize=100')\n",
    "\n",
    "        top_100 = driver.find_elements_by_xpath('//*[@id=\"RankingList\"]/div[2]/table/tbody')\n",
    "\n",
    "        dic_ranking['date'].append(temp_date)\n",
    "        dic_ranking['draw'].append(draw)\n",
    "        dic_ranking['top_100'].append(top_100[0].text)\n",
    "\n",
    "        #time.sleep(random.randint(3,5))"
   ]
  },
  {
   "cell_type": "code",
   "execution_count": 54,
   "metadata": {
    "ExecuteTime": {
     "end_time": "2021-10-27T21:15:12.428438Z",
     "start_time": "2021-10-27T21:15:12.409420Z"
    }
   },
   "outputs": [],
   "source": [
    "top_100 = pd.DataFrame.from_dict(dic_ranking)"
   ]
  },
  {
   "cell_type": "code",
   "execution_count": 56,
   "metadata": {
    "ExecuteTime": {
     "end_time": "2021-10-27T21:15:43.724489Z",
     "start_time": "2021-10-27T21:15:43.149967Z"
    }
   },
   "outputs": [],
   "source": [
    "top_100.to_csv('export_histo_top100_badminton.csv')"
   ]
  },
  {
   "cell_type": "markdown",
   "metadata": {},
   "source": [
    "## LOADING DATA"
   ]
  },
  {
   "cell_type": "code",
   "execution_count": 74,
   "metadata": {},
   "outputs": [],
   "source": [
    "#checking last scraped data\n",
    "data = pd.read_csv(\".\\export_histo_top100_badminton.csv\")"
   ]
  },
  {
   "cell_type": "code",
   "execution_count": 75,
   "metadata": {},
   "outputs": [
    {
     "data": {
      "text/html": [
       "<div>\n",
       "<style scoped>\n",
       "    .dataframe tbody tr th:only-of-type {\n",
       "        vertical-align: middle;\n",
       "    }\n",
       "\n",
       "    .dataframe tbody tr th {\n",
       "        vertical-align: top;\n",
       "    }\n",
       "\n",
       "    .dataframe thead th {\n",
       "        text-align: right;\n",
       "    }\n",
       "</style>\n",
       "<table border=\"1\" class=\"dataframe\">\n",
       "  <thead>\n",
       "    <tr style=\"text-align: right;\">\n",
       "      <th></th>\n",
       "      <th>Unnamed: 0</th>\n",
       "      <th>date</th>\n",
       "      <th>draw</th>\n",
       "      <th>top_100</th>\n",
       "    </tr>\n",
       "  </thead>\n",
       "  <tbody>\n",
       "    <tr>\n",
       "      <th>0</th>\n",
       "      <td>0</td>\n",
       "      <td>2021-10-25</td>\n",
       "      <td>MS</td>\n",
       "      <td>Rank Players Country Category Points\\n1 Kento ...</td>\n",
       "    </tr>\n",
       "    <tr>\n",
       "      <th>1</th>\n",
       "      <td>1</td>\n",
       "      <td>2021-10-25</td>\n",
       "      <td>WS</td>\n",
       "      <td>Rank Players Country Category Points\\n1 TAI Tz...</td>\n",
       "    </tr>\n",
       "    <tr>\n",
       "      <th>2</th>\n",
       "      <td>2</td>\n",
       "      <td>2021-10-25</td>\n",
       "      <td>MD</td>\n",
       "      <td>Rank Players Country Category Points\\n1 Marcus...</td>\n",
       "    </tr>\n",
       "    <tr>\n",
       "      <th>3</th>\n",
       "      <td>3</td>\n",
       "      <td>2021-10-25</td>\n",
       "      <td>WD</td>\n",
       "      <td>Rank Players Country Category Points\\n1 Yuki F...</td>\n",
       "    </tr>\n",
       "    <tr>\n",
       "      <th>4</th>\n",
       "      <td>4</td>\n",
       "      <td>2021-10-25</td>\n",
       "      <td>XD</td>\n",
       "      <td>Rank Players Country Category Points\\n1 ZHENG ...</td>\n",
       "    </tr>\n",
       "  </tbody>\n",
       "</table>\n",
       "</div>"
      ],
      "text/plain": [
       "   Unnamed: 0        date draw  \\\n",
       "0           0  2021-10-25   MS   \n",
       "1           1  2021-10-25   WS   \n",
       "2           2  2021-10-25   MD   \n",
       "3           3  2021-10-25   WD   \n",
       "4           4  2021-10-25   XD   \n",
       "\n",
       "                                             top_100  \n",
       "0  Rank Players Country Category Points\\n1 Kento ...  \n",
       "1  Rank Players Country Category Points\\n1 TAI Tz...  \n",
       "2  Rank Players Country Category Points\\n1 Marcus...  \n",
       "3  Rank Players Country Category Points\\n1 Yuki F...  \n",
       "4  Rank Players Country Category Points\\n1 ZHENG ...  "
      ]
     },
     "execution_count": 75,
     "metadata": {},
     "output_type": "execute_result"
    }
   ],
   "source": [
    "data.head()"
   ]
  },
  {
   "cell_type": "markdown",
   "metadata": {},
   "source": [
    "## FORMATING DATA"
   ]
  },
  {
   "cell_type": "code",
   "execution_count": 102,
   "metadata": {},
   "outputs": [],
   "source": [
    "def prep_data(df):\n",
    "\n",
    "    df = df.drop('Unnamed: 0', axis = 1)\n",
    "\n",
    "    df = pd.DataFrame(df.top_100.str.split('\\n').tolist(), index=df[['date','draw']]).stack().reset_index()\n",
    "    \n",
    "    df.columns = ['date / draw', 'to_drop', 'content']\n",
    "\n",
    "    df = df[df['to_drop'] != 0].drop('to_drop', axis = 1)\n",
    "\n",
    "    df['date'] = df['date / draw'].str[0]\n",
    "    df['draw'] = df['date / draw'].str[1]\n",
    "    df['rank'] = df['content'].str.split(' ', 1).str[0]\n",
    "    df['points'] = df['content'].str.split(' ').str[-1]\n",
    "    df['country'] = df['content'].str.split(' ').str[-3].str.upper()\n",
    "    df['name'] = df['content'].str.split(' ').str[1:-3]\n",
    "\n",
    "    df['country'] = df['country'].str.replace('KONG','HONG KONG')\n",
    "    df['country'] = df['country'].str.replace('TAIPEI','CHINESE TAIPEI')\n",
    "    \n",
    "    df['name'] = df['name'].apply(lambda x: ','.join(map(str, x)))\n",
    "    df['name'] = df['name'].str.replace(',',' ').str.upper()\n",
    "    df['name'] = df['name'].str.replace('CHINESE','')\n",
    "    \n",
    "    df['points'] = df['points'].astype('int')\n",
    "    \n",
    "    df['rank'] = df['rank'].astype('int')\n",
    "\n",
    "    df = df.drop(['date / draw','content'], axis = 1)\n",
    "    \n",
    "    print(df.info())\n",
    "    print(df.head())\n",
    "    \n",
    "    return df"
   ]
  },
  {
   "cell_type": "code",
   "execution_count": 103,
   "metadata": {
    "ExecuteTime": {
     "end_time": "2021-11-24T16:25:08.785938Z",
     "start_time": "2021-11-24T16:25:01.073953Z"
    }
   },
   "outputs": [
    {
     "name": "stdout",
     "output_type": "stream",
     "text": [
      "<class 'pandas.core.frame.DataFrame'>\n",
      "Int64Index: 808000 entries, 1 to 816079\n",
      "Data columns (total 6 columns):\n",
      " #   Column   Non-Null Count   Dtype \n",
      "---  ------   --------------   ----- \n",
      " 0   date     808000 non-null  object\n",
      " 1   draw     808000 non-null  object\n",
      " 2   rank     808000 non-null  int32 \n",
      " 3   points   808000 non-null  int32 \n",
      " 4   country  808000 non-null  object\n",
      " 5   name     808000 non-null  object\n",
      "dtypes: int32(2), object(4)\n",
      "memory usage: 37.0+ MB\n",
      "None\n",
      "         date draw  rank  points         country                      name\n",
      "1  2021-10-25   MS     1  109118           JAPAN              KENTO MOMOTA\n",
      "2  2021-10-25   MS     2  103786         DENMARK            VIKTOR AXELSEN\n",
      "3  2021-10-25   MS     3   94875         DENMARK           ANDERS ANTONSEN\n",
      "4  2021-10-25   MS     4   89828  CHINESE TAIPEI           CHOU TIEN CHEN \n",
      "5  2021-10-25   MS     5   85332       INDONESIA  ANTHONY SINISUKA GINTING\n"
     ]
    }
   ],
   "source": [
    "data_prep = prep_data(data)"
   ]
  },
  {
   "cell_type": "code",
   "execution_count": 96,
   "metadata": {
    "ExecuteTime": {
     "end_time": "2021-11-24T16:28:11.173304Z",
     "start_time": "2021-11-24T16:28:11.157346Z"
    }
   },
   "outputs": [
    {
     "data": {
      "text/plain": [
       "INDONESIA         68050\n",
       "CHINA             67326\n",
       "DENMARK           65930\n",
       "MALAYSIA          50995\n",
       "KOREA             47178\n",
       "JAPAN             45130\n",
       "ENGLAND           44912\n",
       "CHINESE TAIPEI    31760\n",
       "GERMANY           29778\n",
       "THAILAND          27756\n",
       "Name: country, dtype: int64"
      ]
     },
     "execution_count": 96,
     "metadata": {},
     "output_type": "execute_result"
    }
   ],
   "source": [
    "data_prep['country'].value_counts().head(10)"
   ]
  },
  {
   "cell_type": "code",
   "execution_count": 94,
   "metadata": {},
   "outputs": [
    {
     "data": {
      "text/plain": [
       "LIN DAN             1011\n",
       "BOONSAK PONSANA      980\n",
       "PETER HOEG GADE      952\n",
       "LEE CHONG WEI        935\n",
       "LEE HYUN IL          928\n",
       "SONY DWI KUNCORO     891\n",
       "CHARMAINE REID       884\n",
       "ZHANG NING           881\n",
       "PETYA NEDELCHEVA     872\n",
       "JURGEN KOCH          865\n",
       "Name: name, dtype: int64"
      ]
     },
     "execution_count": 94,
     "metadata": {},
     "output_type": "execute_result"
    }
   ],
   "source": [
    "data_prep['name'].value_counts().head(10)"
   ]
  },
  {
   "cell_type": "code",
   "execution_count": 99,
   "metadata": {},
   "outputs": [
    {
     "data": {
      "text/plain": [
       "LEE CHONG WEI                                       400\n",
       "ZHANG NAN / ZHAO YUNLEI                             244\n",
       "LIN DAN                                             212\n",
       "SUSI SUSANTI                                        189\n",
       "MARCUS FERNALDI GIDEON / KEVIN SANJAYA SUKAMULJO    179\n",
       "GE FEI / GU JUN                                     178\n",
       "TAI TZU YING                                        177\n",
       "GAO LING / HUANG SUI CHINA /                        170\n",
       "YANG WEI / ZHANG JIEWEN                             161\n",
       "ARDY B WIRANATA                                     157\n",
       "Name: name, dtype: int64"
      ]
     },
     "execution_count": 99,
     "metadata": {},
     "output_type": "execute_result"
    }
   ],
   "source": [
    "data_prep[data_prep['rank'] == '1']['name'].value_counts().head(10)"
   ]
  },
  {
   "cell_type": "code",
   "execution_count": 106,
   "metadata": {},
   "outputs": [
    {
     "data": {
      "text/html": [
       "<div>\n",
       "<style scoped>\n",
       "    .dataframe tbody tr th:only-of-type {\n",
       "        vertical-align: middle;\n",
       "    }\n",
       "\n",
       "    .dataframe tbody tr th {\n",
       "        vertical-align: top;\n",
       "    }\n",
       "\n",
       "    .dataframe thead th {\n",
       "        text-align: right;\n",
       "    }\n",
       "</style>\n",
       "<table border=\"1\" class=\"dataframe\">\n",
       "  <thead>\n",
       "    <tr style=\"text-align: right;\">\n",
       "      <th></th>\n",
       "      <th>date</th>\n",
       "      <th>draw</th>\n",
       "      <th>rank</th>\n",
       "      <th>points</th>\n",
       "      <th>country</th>\n",
       "      <th>name</th>\n",
       "    </tr>\n",
       "  </thead>\n",
       "  <tbody>\n",
       "    <tr>\n",
       "      <th>32725</th>\n",
       "      <td>2019-09-23</td>\n",
       "      <td>XD</td>\n",
       "      <td>1</td>\n",
       "      <td>115902</td>\n",
       "      <td>CHINA</td>\n",
       "      <td>ZHENG SIWEI / HUANG YAQIONG</td>\n",
       "    </tr>\n",
       "  </tbody>\n",
       "</table>\n",
       "</div>"
      ],
      "text/plain": [
       "             date draw  rank  points country                         name\n",
       "32725  2019-09-23   XD     1  115902   CHINA  ZHENG SIWEI / HUANG YAQIONG"
      ]
     },
     "execution_count": 106,
     "metadata": {},
     "output_type": "execute_result"
    }
   ],
   "source": [
    "data_prep.sort_values(by='points', ascending=False).head(1)"
   ]
  },
  {
   "cell_type": "code",
   "execution_count": null,
   "metadata": {},
   "outputs": [],
   "source": []
  }
 ],
 "metadata": {
  "hide_input": false,
  "kernelspec": {
   "display_name": "Python 3.10.5 64-bit",
   "language": "python",
   "name": "python3"
  },
  "language_info": {
   "codemirror_mode": {
    "name": "ipython",
    "version": 3
   },
   "file_extension": ".py",
   "mimetype": "text/x-python",
   "name": "python",
   "nbconvert_exporter": "python",
   "pygments_lexer": "ipython3",
   "version": "3.10.5"
  },
  "toc": {
   "base_numbering": 1,
   "nav_menu": {},
   "number_sections": true,
   "sideBar": true,
   "skip_h1_title": false,
   "title_cell": "Table of Contents",
   "title_sidebar": "Contents",
   "toc_cell": false,
   "toc_position": {},
   "toc_section_display": true,
   "toc_window_display": false
  },
  "vscode": {
   "interpreter": {
    "hash": "38ab5aec3b6b6d2a13455cf3c0e7673913054737acc71c96a9f271dcbc4106af"
   }
  }
 },
 "nbformat": 4,
 "nbformat_minor": 4
}

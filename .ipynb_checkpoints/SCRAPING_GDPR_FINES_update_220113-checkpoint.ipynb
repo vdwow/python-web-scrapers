{
 "cells": [
  {
   "cell_type": "markdown",
   "metadata": {},
   "source": [
    "## Importing Libraries"
   ]
  },
  {
   "cell_type": "code",
   "execution_count": 2,
   "metadata": {
    "ExecuteTime": {
     "end_time": "2022-01-13T15:19:12.362686Z",
     "start_time": "2022-01-13T15:19:10.279513Z"
    }
   },
   "outputs": [],
   "source": [
    "import pandas as pd\n",
    "import numpy as np\n",
    "\n",
    "from selenium import webdriver\n",
    "from selenium.webdriver.common.keys import Keys\n",
    "from selenium.webdriver import ActionChains\n",
    "import time\n",
    "import random\n",
    "\n",
    "from datetime import datetime\n",
    "\n",
    "#visulaization modules\n",
    "#import missingno as msno\n",
    "import matplotlib\n",
    "import matplotlib.pyplot as plt\n",
    "import seaborn as sns\n",
    "\n",
    "%matplotlib inline"
   ]
  },
  {
   "cell_type": "markdown",
   "metadata": {},
   "source": [
    "## Scraping data"
   ]
  },
  {
   "cell_type": "code",
   "execution_count": 3,
   "metadata": {
    "ExecuteTime": {
     "end_time": "2022-01-13T15:19:18.514016Z",
     "start_time": "2022-01-13T15:19:13.821612Z"
    }
   },
   "outputs": [],
   "source": [
    "driver = webdriver.Chrome()\n",
    "driver.get(\"https://www.enforcementtracker.com/\")\n",
    "driver.maximize_window()"
   ]
  },
  {
   "cell_type": "code",
   "execution_count": 4,
   "metadata": {
    "ExecuteTime": {
     "end_time": "2022-01-13T15:19:20.660936Z",
     "start_time": "2022-01-13T15:19:20.213109Z"
    }
   },
   "outputs": [],
   "source": [
    "headers = []\n",
    "for i in range(2,14):\n",
    "    elem = driver.find_element_by_xpath('//*[@id=\"penalties\"]/thead/tr[1]/th['+str(i)+']')\n",
    "    if elem.text != '':\n",
    "        headers.append(elem.text)"
   ]
  },
  {
   "cell_type": "code",
   "execution_count": 5,
   "metadata": {
    "ExecuteTime": {
     "end_time": "2022-01-13T15:19:20.929935Z",
     "start_time": "2022-01-13T15:19:20.920954Z"
    }
   },
   "outputs": [
    {
     "data": {
      "text/plain": [
       "['ETid',\n",
       " 'Country',\n",
       " 'Date of Decision',\n",
       " 'Fine [€]',\n",
       " 'Controller/Processor',\n",
       " 'Quoted Art.',\n",
       " 'Type',\n",
       " 'Source']"
      ]
     },
     "execution_count": 5,
     "metadata": {},
     "output_type": "execute_result"
    }
   ],
   "source": [
    "headers"
   ]
  },
  {
   "cell_type": "code",
   "execution_count": 14,
   "metadata": {
    "ExecuteTime": {
     "end_time": "2022-01-13T15:24:05.744371Z",
     "start_time": "2022-01-13T15:22:31.002269Z"
    },
    "jupyter": {
     "outputs_hidden": true
    },
    "scrolled": true
   },
   "outputs": [
    {
     "name": "stdout",
     "output_type": "stream",
     "text": [
      "Page 1 en cours de chargement.\n",
      "Page 1 récupérée !\n",
      "Page 2 en cours de chargement.\n",
      "Page 2 récupérée !\n"
     ]
    }
   ],
   "source": [
    "data = []\n",
    "content = []\n",
    "\n",
    "for page in range(1,3):\n",
    "    print('Page '+str(page)+' en cours de chargement.')\n",
    "    for i in range(1,101):\n",
    "        for j in range(2,13):\n",
    "            elem = driver.find_element_by_xpath('//*[@id=\"penalties\"]/tbody/tr['+str(i)+']/td['+str(j)+']')\n",
    "            if elem.text != '':\n",
    "                content.append(elem.text)\n",
    "    \n",
    "        data.append(content)\n",
    "        content = []\n",
    "    \n",
    "    driver.execute_script(\"window.scrollTo(0, document.body.scrollHeight);\")\n",
    "        \n",
    "    ActionChains(driver).click(driver.find_element_by_xpath('//*[@id=\"penalties_paginate\"]/span/a['+str(page+1)+']')).perform()        \n",
    "    \n",
    "    print(\"Page \"+str(page)+\" récupérée !\")\n",
    "    #page+=1\n",
    "    time.sleep(random.randint(2, 7))"
   ]
  },
  {
   "cell_type": "markdown",
   "metadata": {},
   "source": [
    "## Loading Data"
   ]
  },
  {
   "cell_type": "code",
   "execution_count": 15,
   "metadata": {
    "ExecuteTime": {
     "end_time": "2022-01-13T15:24:10.207085Z",
     "start_time": "2022-01-13T15:24:10.191459Z"
    }
   },
   "outputs": [],
   "source": [
    "df = pd.DataFrame(data, columns = ['ID','Country','Date','Amount','Controller_Processor','Quoted_Art','Type','Source'])"
   ]
  },
  {
   "cell_type": "code",
   "execution_count": 16,
   "metadata": {
    "ExecuteTime": {
     "end_time": "2022-01-13T15:24:11.481235Z",
     "start_time": "2022-01-13T15:24:11.473266Z"
    }
   },
   "outputs": [
    {
     "data": {
      "text/plain": [
       "(200, 8)"
      ]
     },
     "execution_count": 16,
     "metadata": {},
     "output_type": "execute_result"
    }
   ],
   "source": [
    "df.shape"
   ]
  },
  {
   "cell_type": "code",
   "execution_count": 17,
   "metadata": {
    "ExecuteTime": {
     "end_time": "2022-01-13T15:24:12.762788Z",
     "start_time": "2022-01-13T15:24:12.732865Z"
    }
   },
   "outputs": [
    {
     "data": {
      "text/html": [
       "<div>\n",
       "<style scoped>\n",
       "    .dataframe tbody tr th:only-of-type {\n",
       "        vertical-align: middle;\n",
       "    }\n",
       "\n",
       "    .dataframe tbody tr th {\n",
       "        vertical-align: top;\n",
       "    }\n",
       "\n",
       "    .dataframe thead th {\n",
       "        text-align: right;\n",
       "    }\n",
       "</style>\n",
       "<table border=\"1\" class=\"dataframe\">\n",
       "  <thead>\n",
       "    <tr style=\"text-align: right;\">\n",
       "      <th></th>\n",
       "      <th>ID</th>\n",
       "      <th>Country</th>\n",
       "      <th>Date</th>\n",
       "      <th>Amount</th>\n",
       "      <th>Controller_Processor</th>\n",
       "      <th>Quoted_Art</th>\n",
       "      <th>Type</th>\n",
       "      <th>Source</th>\n",
       "    </tr>\n",
       "  </thead>\n",
       "  <tbody>\n",
       "    <tr>\n",
       "      <th>0</th>\n",
       "      <td>ETid-987</td>\n",
       "      <td>IRELAND</td>\n",
       "      <td>2021-12-02</td>\n",
       "      <td>60,000</td>\n",
       "      <td>Irish Teacher Council</td>\n",
       "      <td>Art. 5 (1) GDPR, Art. 32 (1) GDPR, Art. 33 GDPR</td>\n",
       "      <td>Insufficient technical and organisational meas...</td>\n",
       "      <td>link</td>\n",
       "    </tr>\n",
       "    <tr>\n",
       "      <th>1</th>\n",
       "      <td>ETid-986</td>\n",
       "      <td>GREECE</td>\n",
       "      <td>2021-12-31</td>\n",
       "      <td>30,000</td>\n",
       "      <td>INFO COMMUNICATION SERVICES</td>\n",
       "      <td>Art. 13 GDPR, Art. 14 GDPR, Art. 11 Law 3471/2006</td>\n",
       "      <td>Insufficient fulfilment of information obligat...</td>\n",
       "      <td>link</td>\n",
       "    </tr>\n",
       "    <tr>\n",
       "      <th>2</th>\n",
       "      <td>ETid-985</td>\n",
       "      <td>GREECE</td>\n",
       "      <td>2021-12-31</td>\n",
       "      <td>25,000</td>\n",
       "      <td>PLUS REAL ADVERTISEMENT</td>\n",
       "      <td>Art. 13 GDPR, Art. 14 GDPR, Art. 11 Law 3471/2006</td>\n",
       "      <td>Insufficient fulfilment of information obligat...</td>\n",
       "      <td>link</td>\n",
       "    </tr>\n",
       "    <tr>\n",
       "      <th>3</th>\n",
       "      <td>ETid-984</td>\n",
       "      <td>POLAND</td>\n",
       "      <td>2021-12-09</td>\n",
       "      <td>10,000</td>\n",
       "      <td>Warsaw University of Technology</td>\n",
       "      <td>Art. 5 (1) f) GDPR, Art. 5 (2) GDPR, Art. 24 (...</td>\n",
       "      <td>Insufficient technical and organisational meas...</td>\n",
       "      <td>link link</td>\n",
       "    </tr>\n",
       "    <tr>\n",
       "      <th>4</th>\n",
       "      <td>ETid-983</td>\n",
       "      <td>SPAIN</td>\n",
       "      <td>2022-01-11</td>\n",
       "      <td>9,000</td>\n",
       "      <td>EDUCANDO JUNTOS SL</td>\n",
       "      <td>Art. 6 (1) GDPR, Art. 17 GDPR</td>\n",
       "      <td>Insufficient legal basis for data processing</td>\n",
       "      <td>link</td>\n",
       "    </tr>\n",
       "  </tbody>\n",
       "</table>\n",
       "</div>"
      ],
      "text/plain": [
       "         ID  Country        Date  Amount             Controller_Processor  \\\n",
       "0  ETid-987  IRELAND  2021-12-02  60,000            Irish Teacher Council   \n",
       "1  ETid-986   GREECE  2021-12-31  30,000      INFO COMMUNICATION SERVICES   \n",
       "2  ETid-985   GREECE  2021-12-31  25,000          PLUS REAL ADVERTISEMENT   \n",
       "3  ETid-984   POLAND  2021-12-09  10,000  Warsaw University of Technology   \n",
       "4  ETid-983    SPAIN  2022-01-11   9,000               EDUCANDO JUNTOS SL   \n",
       "\n",
       "                                          Quoted_Art  \\\n",
       "0    Art. 5 (1) GDPR, Art. 32 (1) GDPR, Art. 33 GDPR   \n",
       "1  Art. 13 GDPR, Art. 14 GDPR, Art. 11 Law 3471/2006   \n",
       "2  Art. 13 GDPR, Art. 14 GDPR, Art. 11 Law 3471/2006   \n",
       "3  Art. 5 (1) f) GDPR, Art. 5 (2) GDPR, Art. 24 (...   \n",
       "4                      Art. 6 (1) GDPR, Art. 17 GDPR   \n",
       "\n",
       "                                                Type     Source  \n",
       "0  Insufficient technical and organisational meas...       link  \n",
       "1  Insufficient fulfilment of information obligat...       link  \n",
       "2  Insufficient fulfilment of information obligat...       link  \n",
       "3  Insufficient technical and organisational meas...  link link  \n",
       "4       Insufficient legal basis for data processing       link  "
      ]
     },
     "metadata": {},
     "output_type": "display_data"
    },
    {
     "name": "stdout",
     "output_type": "stream",
     "text": [
      "<class 'pandas.core.frame.DataFrame'>\n",
      "RangeIndex: 200 entries, 0 to 199\n",
      "Data columns (total 8 columns):\n",
      " #   Column                Non-Null Count  Dtype \n",
      "---  ------                --------------  ----- \n",
      " 0   ID                    200 non-null    object\n",
      " 1   Country               200 non-null    object\n",
      " 2   Date                  200 non-null    object\n",
      " 3   Amount                200 non-null    object\n",
      " 4   Controller_Processor  200 non-null    object\n",
      " 5   Quoted_Art            200 non-null    object\n",
      " 6   Type                  200 non-null    object\n",
      " 7   Source                200 non-null    object\n",
      "dtypes: object(8)\n",
      "memory usage: 12.6+ KB\n"
     ]
    },
    {
     "data": {
      "text/plain": [
       "None"
      ]
     },
     "metadata": {},
     "output_type": "display_data"
    }
   ],
   "source": [
    "display(df.head(5))\n",
    "display(df.info())"
   ]
  },
  {
   "cell_type": "code",
   "execution_count": 18,
   "metadata": {
    "ExecuteTime": {
     "end_time": "2022-01-13T15:24:17.222175Z",
     "start_time": "2022-01-13T15:24:17.102000Z"
    }
   },
   "outputs": [
    {
     "data": {
      "text/html": [
       "<div>\n",
       "<style scoped>\n",
       "    .dataframe tbody tr th:only-of-type {\n",
       "        vertical-align: middle;\n",
       "    }\n",
       "\n",
       "    .dataframe tbody tr th {\n",
       "        vertical-align: top;\n",
       "    }\n",
       "\n",
       "    .dataframe thead th {\n",
       "        text-align: right;\n",
       "    }\n",
       "</style>\n",
       "<table border=\"1\" class=\"dataframe\">\n",
       "  <thead>\n",
       "    <tr style=\"text-align: right;\">\n",
       "      <th></th>\n",
       "      <th>ID</th>\n",
       "      <th>Country</th>\n",
       "      <th>Date</th>\n",
       "      <th>Amount</th>\n",
       "      <th>Controller_Processor</th>\n",
       "      <th>Quoted_Art</th>\n",
       "      <th>Type</th>\n",
       "      <th>Source</th>\n",
       "    </tr>\n",
       "  </thead>\n",
       "  <tbody>\n",
       "    <tr>\n",
       "      <th>0</th>\n",
       "      <td>ETid-870</td>\n",
       "      <td>SPAIN</td>\n",
       "      <td>2021-10-13</td>\n",
       "      <td>40,000</td>\n",
       "      <td>Vodafone España, S.A.U.</td>\n",
       "      <td>Art. 5 (1) f) GDPR, Art. 32 GDPR</td>\n",
       "      <td>Non-compliance with general data processing pr...</td>\n",
       "      <td>link</td>\n",
       "    </tr>\n",
       "    <tr>\n",
       "      <th>1</th>\n",
       "      <td>ETid-869</td>\n",
       "      <td>ITALY</td>\n",
       "      <td>2021-09-16</td>\n",
       "      <td>5,000</td>\n",
       "      <td>La Prima S.r.l.</td>\n",
       "      <td>Art. 5 GDPR, Art. 6 GDPR, Art. 24 GDPR, Art. 2...</td>\n",
       "      <td>Insufficient legal basis for data processing</td>\n",
       "      <td>link</td>\n",
       "    </tr>\n",
       "    <tr>\n",
       "      <th>2</th>\n",
       "      <td>ETid-868</td>\n",
       "      <td>SPAIN</td>\n",
       "      <td>2021-10-11</td>\n",
       "      <td>10,000</td>\n",
       "      <td>MAF.COM ESQUI CLUB</td>\n",
       "      <td>Art. 7 GDPR</td>\n",
       "      <td>Insufficient legal basis for data processing</td>\n",
       "      <td>link</td>\n",
       "    </tr>\n",
       "    <tr>\n",
       "      <th>3</th>\n",
       "      <td>ETid-867</td>\n",
       "      <td>SPAIN</td>\n",
       "      <td>2021-10-08</td>\n",
       "      <td>30,000</td>\n",
       "      <td>ORANGE ESPAGNE, S.A.U.</td>\n",
       "      <td>Art. 6 (1) a) GDPR</td>\n",
       "      <td>Insufficient legal basis for data processing</td>\n",
       "      <td>link</td>\n",
       "    </tr>\n",
       "    <tr>\n",
       "      <th>4</th>\n",
       "      <td>ETid-866</td>\n",
       "      <td>LUXEMBOURG</td>\n",
       "      <td>2021-08-05</td>\n",
       "      <td>135,000</td>\n",
       "      <td>Insurance company</td>\n",
       "      <td>Art. 5 (1) f) GDPR, Art. 32 (1) a), b) GDPR, A...</td>\n",
       "      <td>Insufficient technical and organisational meas...</td>\n",
       "      <td>link</td>\n",
       "    </tr>\n",
       "  </tbody>\n",
       "</table>\n",
       "</div>"
      ],
      "text/plain": [
       "         ID     Country        Date   Amount     Controller_Processor  \\\n",
       "0  ETid-870       SPAIN  2021-10-13   40,000  Vodafone España, S.A.U.   \n",
       "1  ETid-869       ITALY  2021-09-16    5,000          La Prima S.r.l.   \n",
       "2  ETid-868       SPAIN  2021-10-11   10,000       MAF.COM ESQUI CLUB   \n",
       "3  ETid-867       SPAIN  2021-10-08   30,000   ORANGE ESPAGNE, S.A.U.   \n",
       "4  ETid-866  LUXEMBOURG  2021-08-05  135,000        Insurance company   \n",
       "\n",
       "                                          Quoted_Art  \\\n",
       "0                   Art. 5 (1) f) GDPR, Art. 32 GDPR   \n",
       "1  Art. 5 GDPR, Art. 6 GDPR, Art. 24 GDPR, Art. 2...   \n",
       "2                                        Art. 7 GDPR   \n",
       "3                                 Art. 6 (1) a) GDPR   \n",
       "4  Art. 5 (1) f) GDPR, Art. 32 (1) a), b) GDPR, A...   \n",
       "\n",
       "                                                Type Source  \n",
       "0  Non-compliance with general data processing pr...   link  \n",
       "1       Insufficient legal basis for data processing   link  \n",
       "2       Insufficient legal basis for data processing   link  \n",
       "3       Insufficient legal basis for data processing   link  \n",
       "4  Insufficient technical and organisational meas...   link  "
      ]
     },
     "metadata": {},
     "output_type": "display_data"
    },
    {
     "name": "stdout",
     "output_type": "stream",
     "text": [
      "<class 'pandas.core.frame.DataFrame'>\n",
      "RangeIndex: 870 entries, 0 to 869\n",
      "Data columns (total 8 columns):\n",
      " #   Column                Non-Null Count  Dtype \n",
      "---  ------                --------------  ----- \n",
      " 0   ID                    870 non-null    object\n",
      " 1   Country               870 non-null    object\n",
      " 2   Date                  870 non-null    object\n",
      " 3   Amount                870 non-null    object\n",
      " 4   Controller_Processor  870 non-null    object\n",
      " 5   Quoted_Art            870 non-null    object\n",
      " 6   Type                  870 non-null    object\n",
      " 7   Source                869 non-null    object\n",
      "dtypes: object(8)\n",
      "memory usage: 54.5+ KB\n",
      "None\n"
     ]
    }
   ],
   "source": [
    "url_old_data = ('https://raw.githubusercontent.com/vdwow/data-scraping/master/gdpr_fines/data_enforcment.csv')\n",
    "data_old = pd.read_csv(url_old_data).drop('Unnamed: 0', axis = 1)\n",
    "display(data_old.head())\n",
    "print(data_old.info())"
   ]
  },
  {
   "cell_type": "code",
   "execution_count": 19,
   "metadata": {
    "ExecuteTime": {
     "end_time": "2022-01-13T15:24:18.417726Z",
     "start_time": "2022-01-13T15:24:18.388841Z"
    }
   },
   "outputs": [
    {
     "data": {
      "text/html": [
       "<div>\n",
       "<style scoped>\n",
       "    .dataframe tbody tr th:only-of-type {\n",
       "        vertical-align: middle;\n",
       "    }\n",
       "\n",
       "    .dataframe tbody tr th {\n",
       "        vertical-align: top;\n",
       "    }\n",
       "\n",
       "    .dataframe thead th {\n",
       "        text-align: right;\n",
       "    }\n",
       "</style>\n",
       "<table border=\"1\" class=\"dataframe\">\n",
       "  <thead>\n",
       "    <tr style=\"text-align: right;\">\n",
       "      <th></th>\n",
       "      <th>ID</th>\n",
       "      <th>Country</th>\n",
       "      <th>Date</th>\n",
       "      <th>Amount</th>\n",
       "      <th>Controller_Processor</th>\n",
       "      <th>Quoted_Art</th>\n",
       "      <th>Type</th>\n",
       "      <th>Source</th>\n",
       "    </tr>\n",
       "  </thead>\n",
       "  <tbody>\n",
       "    <tr>\n",
       "      <th>0</th>\n",
       "      <td>ETid-987</td>\n",
       "      <td>IRELAND</td>\n",
       "      <td>2021-12-02</td>\n",
       "      <td>60,000</td>\n",
       "      <td>Irish Teacher Council</td>\n",
       "      <td>Art. 5 (1) GDPR, Art. 32 (1) GDPR, Art. 33 GDPR</td>\n",
       "      <td>Insufficient technical and organisational meas...</td>\n",
       "      <td>link</td>\n",
       "    </tr>\n",
       "    <tr>\n",
       "      <th>1</th>\n",
       "      <td>ETid-986</td>\n",
       "      <td>GREECE</td>\n",
       "      <td>2021-12-31</td>\n",
       "      <td>30,000</td>\n",
       "      <td>INFO COMMUNICATION SERVICES</td>\n",
       "      <td>Art. 13 GDPR, Art. 14 GDPR, Art. 11 Law 3471/2006</td>\n",
       "      <td>Insufficient fulfilment of information obligat...</td>\n",
       "      <td>link</td>\n",
       "    </tr>\n",
       "    <tr>\n",
       "      <th>2</th>\n",
       "      <td>ETid-985</td>\n",
       "      <td>GREECE</td>\n",
       "      <td>2021-12-31</td>\n",
       "      <td>25,000</td>\n",
       "      <td>PLUS REAL ADVERTISEMENT</td>\n",
       "      <td>Art. 13 GDPR, Art. 14 GDPR, Art. 11 Law 3471/2006</td>\n",
       "      <td>Insufficient fulfilment of information obligat...</td>\n",
       "      <td>link</td>\n",
       "    </tr>\n",
       "    <tr>\n",
       "      <th>3</th>\n",
       "      <td>ETid-984</td>\n",
       "      <td>POLAND</td>\n",
       "      <td>2021-12-09</td>\n",
       "      <td>10,000</td>\n",
       "      <td>Warsaw University of Technology</td>\n",
       "      <td>Art. 5 (1) f) GDPR, Art. 5 (2) GDPR, Art. 24 (...</td>\n",
       "      <td>Insufficient technical and organisational meas...</td>\n",
       "      <td>link link</td>\n",
       "    </tr>\n",
       "    <tr>\n",
       "      <th>4</th>\n",
       "      <td>ETid-983</td>\n",
       "      <td>SPAIN</td>\n",
       "      <td>2022-01-11</td>\n",
       "      <td>9,000</td>\n",
       "      <td>EDUCANDO JUNTOS SL</td>\n",
       "      <td>Art. 6 (1) GDPR, Art. 17 GDPR</td>\n",
       "      <td>Insufficient legal basis for data processing</td>\n",
       "      <td>link</td>\n",
       "    </tr>\n",
       "    <tr>\n",
       "      <th>...</th>\n",
       "      <td>...</td>\n",
       "      <td>...</td>\n",
       "      <td>...</td>\n",
       "      <td>...</td>\n",
       "      <td>...</td>\n",
       "      <td>...</td>\n",
       "      <td>...</td>\n",
       "      <td>...</td>\n",
       "    </tr>\n",
       "    <tr>\n",
       "      <th>1065</th>\n",
       "      <td>ETid-5</td>\n",
       "      <td>BELGIUM</td>\n",
       "      <td>2019-05-28</td>\n",
       "      <td>2,000</td>\n",
       "      <td>Mayor</td>\n",
       "      <td>Art. 5 (1) b) GDPR, Art. 6 GDPR</td>\n",
       "      <td>Insufficient legal basis for data processing</td>\n",
       "      <td>link</td>\n",
       "    </tr>\n",
       "    <tr>\n",
       "      <th>1066</th>\n",
       "      <td>ETid-4</td>\n",
       "      <td>AUSTRIA</td>\n",
       "      <td>2018-12-20</td>\n",
       "      <td>2,200</td>\n",
       "      <td>Private person</td>\n",
       "      <td>Art. 5 (1) a) GDPR, Art. 5 (1) c) GDPR, Art. 6...</td>\n",
       "      <td>Insufficient legal basis for data processing</td>\n",
       "      <td>link</td>\n",
       "    </tr>\n",
       "    <tr>\n",
       "      <th>1067</th>\n",
       "      <td>ETid-3</td>\n",
       "      <td>AUSTRIA</td>\n",
       "      <td>2018-09-27</td>\n",
       "      <td>300</td>\n",
       "      <td>Private car owner</td>\n",
       "      <td>Art. 5 (1) a) GDPR, Art. 6 GDPR</td>\n",
       "      <td>Insufficient legal basis for data processing</td>\n",
       "      <td>link</td>\n",
       "    </tr>\n",
       "    <tr>\n",
       "      <th>1068</th>\n",
       "      <td>ETid-2</td>\n",
       "      <td>AUSTRIA</td>\n",
       "      <td>2018</td>\n",
       "      <td>1,800</td>\n",
       "      <td>Kebab restaurant</td>\n",
       "      <td>Art. 5 GDPR, Art. 13 GDPR, Art. 14 GDPR</td>\n",
       "      <td>Insufficient legal basis for data processing</td>\n",
       "      <td>link</td>\n",
       "    </tr>\n",
       "    <tr>\n",
       "      <th>1069</th>\n",
       "      <td>ETid-1</td>\n",
       "      <td>AUSTRIA</td>\n",
       "      <td>2018-12-09</td>\n",
       "      <td>4,800</td>\n",
       "      <td>Betting place</td>\n",
       "      <td>Art. 13 GDPR</td>\n",
       "      <td>Insufficient fulfilment of information obligat...</td>\n",
       "      <td>link</td>\n",
       "    </tr>\n",
       "  </tbody>\n",
       "</table>\n",
       "<p>987 rows × 8 columns</p>\n",
       "</div>"
      ],
      "text/plain": [
       "            ID  Country        Date  Amount             Controller_Processor  \\\n",
       "0     ETid-987  IRELAND  2021-12-02  60,000            Irish Teacher Council   \n",
       "1     ETid-986   GREECE  2021-12-31  30,000      INFO COMMUNICATION SERVICES   \n",
       "2     ETid-985   GREECE  2021-12-31  25,000          PLUS REAL ADVERTISEMENT   \n",
       "3     ETid-984   POLAND  2021-12-09  10,000  Warsaw University of Technology   \n",
       "4     ETid-983    SPAIN  2022-01-11   9,000               EDUCANDO JUNTOS SL   \n",
       "...        ...      ...         ...     ...                              ...   \n",
       "1065    ETid-5  BELGIUM  2019-05-28   2,000                            Mayor   \n",
       "1066    ETid-4  AUSTRIA  2018-12-20   2,200                   Private person   \n",
       "1067    ETid-3  AUSTRIA  2018-09-27     300                Private car owner   \n",
       "1068    ETid-2  AUSTRIA        2018   1,800                 Kebab restaurant   \n",
       "1069    ETid-1  AUSTRIA  2018-12-09   4,800                    Betting place   \n",
       "\n",
       "                                             Quoted_Art  \\\n",
       "0       Art. 5 (1) GDPR, Art. 32 (1) GDPR, Art. 33 GDPR   \n",
       "1     Art. 13 GDPR, Art. 14 GDPR, Art. 11 Law 3471/2006   \n",
       "2     Art. 13 GDPR, Art. 14 GDPR, Art. 11 Law 3471/2006   \n",
       "3     Art. 5 (1) f) GDPR, Art. 5 (2) GDPR, Art. 24 (...   \n",
       "4                         Art. 6 (1) GDPR, Art. 17 GDPR   \n",
       "...                                                 ...   \n",
       "1065                    Art. 5 (1) b) GDPR, Art. 6 GDPR   \n",
       "1066  Art. 5 (1) a) GDPR, Art. 5 (1) c) GDPR, Art. 6...   \n",
       "1067                    Art. 5 (1) a) GDPR, Art. 6 GDPR   \n",
       "1068            Art. 5 GDPR, Art. 13 GDPR, Art. 14 GDPR   \n",
       "1069                                       Art. 13 GDPR   \n",
       "\n",
       "                                                   Type     Source  \n",
       "0     Insufficient technical and organisational meas...       link  \n",
       "1     Insufficient fulfilment of information obligat...       link  \n",
       "2     Insufficient fulfilment of information obligat...       link  \n",
       "3     Insufficient technical and organisational meas...  link link  \n",
       "4          Insufficient legal basis for data processing       link  \n",
       "...                                                 ...        ...  \n",
       "1065       Insufficient legal basis for data processing       link  \n",
       "1066       Insufficient legal basis for data processing       link  \n",
       "1067       Insufficient legal basis for data processing       link  \n",
       "1068       Insufficient legal basis for data processing       link  \n",
       "1069  Insufficient fulfilment of information obligat...       link  \n",
       "\n",
       "[987 rows x 8 columns]"
      ]
     },
     "execution_count": 19,
     "metadata": {},
     "output_type": "execute_result"
    }
   ],
   "source": [
    "new_data = pd.concat([df, data_old], ignore_index=True)\n",
    "new_data = new_data.drop_duplicates(subset = 'ID')\n",
    "new_data"
   ]
  },
  {
   "cell_type": "code",
   "execution_count": 20,
   "metadata": {
    "ExecuteTime": {
     "end_time": "2022-01-13T15:24:21.508369Z",
     "start_time": "2022-01-13T15:24:21.492505Z"
    }
   },
   "outputs": [
    {
     "name": "stdout",
     "output_type": "stream",
     "text": [
      "no duplicates !\n"
     ]
    }
   ],
   "source": [
    "#check unicité IDs\n",
    "if new_data['ID'].value_counts().sort_values(ascending = False)[0] < 2:\n",
    "    print('no duplicates !')\n",
    "else:\n",
    "    print('dedup to be done !')"
   ]
  },
  {
   "cell_type": "code",
   "execution_count": 21,
   "metadata": {
    "ExecuteTime": {
     "end_time": "2022-01-13T15:24:26.786152Z",
     "start_time": "2022-01-13T15:24:26.770229Z"
    }
   },
   "outputs": [],
   "source": [
    "#export pour sécu\n",
    "new_data.to_csv('export_fines_220113.csv')"
   ]
  }
 ],
 "metadata": {
  "hide_input": false,
  "kernelspec": {
   "display_name": "Python 3",
   "language": "python",
   "name": "python3"
  },
  "language_info": {
   "codemirror_mode": {
    "name": "ipython",
    "version": 3
   },
   "file_extension": ".py",
   "mimetype": "text/x-python",
   "name": "python",
   "nbconvert_exporter": "python",
   "pygments_lexer": "ipython3",
   "version": "3.8.5"
  },
  "toc": {
   "base_numbering": 1,
   "nav_menu": {},
   "number_sections": true,
   "sideBar": true,
   "skip_h1_title": false,
   "title_cell": "Table of Contents",
   "title_sidebar": "Contents",
   "toc_cell": false,
   "toc_position": {},
   "toc_section_display": true,
   "toc_window_display": false
  }
 },
 "nbformat": 4,
 "nbformat_minor": 4
}

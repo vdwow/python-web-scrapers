{
 "cells": [
  {
   "cell_type": "markdown",
   "metadata": {},
   "source": [
    "# TO DO :"
   ]
  },
  {
   "cell_type": "markdown",
   "metadata": {},
   "source": [
    "- voir comment récupérer la date de parution"
   ]
  },
  {
   "cell_type": "markdown",
   "metadata": {},
   "source": [
    "- Pour un terme donné (ex : SWIFT), analyser la récurence, la présence chez tel ou tel acteur, l'évolution de la récurence dans le temps (ie est ce un sujet plus ou moins en vogue)\n",
    "\n"
   ]
  },
  {
   "cell_type": "code",
   "execution_count": 1,
   "metadata": {
    "ExecuteTime": {
     "end_time": "2021-10-27T07:28:54.987761Z",
     "start_time": "2021-10-27T07:28:53.286637Z"
    }
   },
   "outputs": [],
   "source": [
    "import pandas as pd\n",
    "# ^^^ pyforest auto-imports - don't write above this line\n",
    "from selenium import webdriver\n",
    "import time\n",
    "from selenium.webdriver.common.keys import Keys\n",
    "from selenium.webdriver import ActionChains\n",
    "from selenium.common.exceptions import NoSuchElementException\n",
    "\n",
    "import bs4\n",
    "import urllib\n",
    "\n",
    "\n",
    "import random"
   ]
  },
  {
   "cell_type": "markdown",
   "metadata": {},
   "source": [
    "## LINKEDIN"
   ]
  },
  {
   "cell_type": "code",
   "execution_count": 2,
   "metadata": {
    "ExecuteTime": {
     "end_time": "2021-10-27T07:29:11.405425Z",
     "start_time": "2021-10-27T07:28:56.943593Z"
    }
   },
   "outputs": [],
   "source": [
    "driver = webdriver.Chrome()\n",
    "\n",
    "email = \"valentin.defour@gmail.com\"\n",
    "password = \"val1192*\"\n",
    "\n",
    "# Go to linkedin and login\n",
    "driver.get('https://www.linkedin.com/login')\n",
    "time.sleep(3)\n",
    "driver.find_element_by_id('username').send_keys(email)\n",
    "driver.find_element_by_id('password').send_keys(password)\n",
    "driver.find_element_by_id('password').send_keys(Keys.RETURN)\n",
    "time.sleep(5)\n",
    "\n",
    "driver.maximize_window()\n",
    "\n",
    "driver.get(\"https://www.linkedin.com/jobs/\")\n",
    "time.sleep(5)\n",
    "\n",
    "#ActionChains(driver).click(driver.find_element_by_xpath('//*[@id=\"ember121\"]/div/div/p[1]')).perform()"
   ]
  },
  {
   "cell_type": "code",
   "execution_count": 15,
   "metadata": {
    "ExecuteTime": {
     "end_time": "2021-10-27T08:29:20.066868Z",
     "start_time": "2021-10-27T08:27:17.957694Z"
    }
   },
   "outputs": [
    {
     "ename": "IndexError",
     "evalue": "list index out of range",
     "output_type": "error",
     "traceback": [
      "\u001b[1;31m---------------------------------------------------------------------------\u001b[0m",
      "\u001b[1;31mIndexError\u001b[0m                                Traceback (most recent call last)",
      "\u001b[1;32m<ipython-input-15-b2b2e2e5002d>\u001b[0m in \u001b[0;36m<module>\u001b[1;34m\u001b[0m\n\u001b[0;32m     19\u001b[0m         \u001b[0mtitle_temp\u001b[0m \u001b[1;33m=\u001b[0m \u001b[0meach_job\u001b[0m\u001b[1;33m.\u001b[0m\u001b[0mtext\u001b[0m\u001b[1;33m.\u001b[0m\u001b[0msplit\u001b[0m\u001b[1;33m(\u001b[0m\u001b[1;34m'\\n'\u001b[0m\u001b[1;33m)\u001b[0m\u001b[1;33m[\u001b[0m\u001b[1;36m0\u001b[0m\u001b[1;33m]\u001b[0m\u001b[1;33m\u001b[0m\u001b[1;33m\u001b[0m\u001b[0m\n\u001b[0;32m     20\u001b[0m         \u001b[0mcompany_temp\u001b[0m \u001b[1;33m=\u001b[0m \u001b[0meach_job\u001b[0m\u001b[1;33m.\u001b[0m\u001b[0mtext\u001b[0m\u001b[1;33m.\u001b[0m\u001b[0msplit\u001b[0m\u001b[1;33m(\u001b[0m\u001b[1;34m'\\n'\u001b[0m\u001b[1;33m)\u001b[0m\u001b[1;33m[\u001b[0m\u001b[1;36m1\u001b[0m\u001b[1;33m]\u001b[0m\u001b[1;33m\u001b[0m\u001b[1;33m\u001b[0m\u001b[0m\n\u001b[1;32m---> 21\u001b[1;33m         \u001b[0mplace_temp\u001b[0m \u001b[1;33m=\u001b[0m \u001b[0meach_job\u001b[0m\u001b[1;33m.\u001b[0m\u001b[0mtext\u001b[0m\u001b[1;33m.\u001b[0m\u001b[0msplit\u001b[0m\u001b[1;33m(\u001b[0m\u001b[1;34m'\\n'\u001b[0m\u001b[1;33m)\u001b[0m\u001b[1;33m[\u001b[0m\u001b[1;36m2\u001b[0m\u001b[1;33m]\u001b[0m\u001b[1;33m\u001b[0m\u001b[1;33m\u001b[0m\u001b[0m\n\u001b[0m\u001b[0;32m     22\u001b[0m \u001b[1;33m\u001b[0m\u001b[0m\n\u001b[0;32m     23\u001b[0m         \u001b[1;32mif\u001b[0m \u001b[0mlen\u001b[0m\u001b[1;33m(\u001b[0m\u001b[0meach_job\u001b[0m\u001b[1;33m.\u001b[0m\u001b[0mtext\u001b[0m\u001b[1;33m.\u001b[0m\u001b[0msplit\u001b[0m\u001b[1;33m(\u001b[0m\u001b[1;34m'\\n'\u001b[0m\u001b[1;33m)\u001b[0m\u001b[1;33m)\u001b[0m \u001b[1;33m>\u001b[0m \u001b[1;36m6\u001b[0m \u001b[1;33m:\u001b[0m\u001b[1;33m\u001b[0m\u001b[1;33m\u001b[0m\u001b[0m\n",
      "\u001b[1;31mIndexError\u001b[0m: list index out of range"
     ]
    }
   ],
   "source": [
    "dic_annonces = {'title':[],'company':[],'place':[],'n_appliants':[],'content':[],\n",
    "               'type':[], 'ppl_domain':[], 'date':[]}\n",
    "\n",
    "# scrolls a single page:\n",
    "for n_page in range(30):\n",
    "    \n",
    "    # get a list of all the listings elements's in the side bar\n",
    "    list_items = driver.find_elements_by_class_name(\"occludable-update\")\n",
    "    \n",
    "    for each_job in list_items:\n",
    "\n",
    "        # executes JavaScript to scroll the div into view\n",
    "        driver.execute_script(\"arguments[0].scrollIntoView();\", each_job)\n",
    "        each_job.click()\n",
    "        time.sleep(random.randint(5,10))\n",
    "\n",
    "        # get info:\n",
    "\n",
    "        title_temp = each_job.text.split('\\n')[0]\n",
    "        company_temp = each_job.text.split('\\n')[1]\n",
    "        place_temp = each_job.text.split('\\n')[2]\n",
    "        \n",
    "        if len(each_job.text.split('\\n')) > 6 :\n",
    "               n_appliants_temp = each_job.text.split('\\n')[6]\n",
    "        else :\n",
    "               n_appliants_temp = \"unknown\"\n",
    "        \n",
    "        try:\n",
    "            content_temp = \"Content : \" + driver.find_element_by_id(\"job-details\").text\n",
    "        except NoSuchElementException:\n",
    "            content_temp = \"NA\"\n",
    "        \n",
    "        try:\n",
    "            type_temp = driver.find_element_by_xpath('/html/body/div[6]/div[3]/div[3]/div[2]/div/section[2]/div/div/div[1]/div/div[1]/div/div[2]/div[2]/div[1]/span').text\n",
    "        except NoSuchElementException:\n",
    "            type_temp = \"NA\"\n",
    "        \n",
    "        try:\n",
    "            date_temp = driver.find_element_by_xpath('/html/body/div[6]/div[3]/div[3]/div[2]/div/section[2]/div/div/div[1]/div/div[1]/div/div[2]/div[1]/span[2]/span[1]').text\n",
    "        except NoSuchElementException:\n",
    "            date_temp = \"NA\"\n",
    "        \n",
    "        try:\n",
    "            ppl_domain_temp = driver.find_element_by_xpath('/html/body/div[6]/div[3]/div[3]/div[2]/div/section[2]/div/div/div[1]/div/div[1]/div/div[2]/div[2]/div[2]/span').text\n",
    "        except NoSuchElementException:\n",
    "            ppl_domain_temp = \"NA\"\n",
    "        \n",
    "        dic_annonces['title'].append(title_temp)\n",
    "        dic_annonces['company'].append(company_temp)\n",
    "        dic_annonces['place'].append(place_temp)\n",
    "        dic_annonces['n_appliants'].append(n_appliants_temp)\n",
    "        dic_annonces['content'].append(content_temp)\n",
    "        dic_annonces['ppl_domain'].append(ppl_domain_temp)\n",
    "        dic_annonces['date'].append(date_temp)\n",
    "        dic_annonces['type'].append(type_temp)\n",
    "\n",
    "    time.sleep(10)\n",
    "    \n",
    "    first_url = driver.current_url\n",
    "    \n",
    "    driver.get(driver.current_url+'&start='+str(len(dic_annonces['title'])))"
   ]
  },
  {
   "cell_type": "code",
   "execution_count": 16,
   "metadata": {
    "ExecuteTime": {
     "end_time": "2021-10-27T08:29:23.016749Z",
     "start_time": "2021-10-27T08:29:22.998733Z"
    }
   },
   "outputs": [
    {
     "data": {
      "text/html": [
       "<div>\n",
       "<style scoped>\n",
       "    .dataframe tbody tr th:only-of-type {\n",
       "        vertical-align: middle;\n",
       "    }\n",
       "\n",
       "    .dataframe tbody tr th {\n",
       "        vertical-align: top;\n",
       "    }\n",
       "\n",
       "    .dataframe thead th {\n",
       "        text-align: right;\n",
       "    }\n",
       "</style>\n",
       "<table border=\"1\" class=\"dataframe\">\n",
       "  <thead>\n",
       "    <tr style=\"text-align: right;\">\n",
       "      <th></th>\n",
       "      <th>title</th>\n",
       "      <th>company</th>\n",
       "      <th>place</th>\n",
       "      <th>n_appliants</th>\n",
       "      <th>content</th>\n",
       "      <th>type</th>\n",
       "      <th>ppl_domain</th>\n",
       "      <th>date</th>\n",
       "    </tr>\n",
       "  </thead>\n",
       "  <tbody>\n",
       "    <tr>\n",
       "      <th>0</th>\n",
       "      <td>Release Train Engineer f/h</td>\n",
       "      <td>Merck Group</td>\n",
       "      <td>Molsheim, Grand Est, France</td>\n",
       "      <td>unknown</td>\n",
       "      <td>Content : Votre rôle :\\n\\nEn tant que l'un des...</td>\n",
       "      <td>NA</td>\n",
       "      <td>NA</td>\n",
       "      <td>NA</td>\n",
       "    </tr>\n",
       "    <tr>\n",
       "      <th>1</th>\n",
       "      <td>Release Train Engineer - RTE NIORT / Freelance</td>\n",
       "      <td>Freelance-info.fr</td>\n",
       "      <td>Niort, Nouvelle-Aquitaine, France</td>\n",
       "      <td>0 candidat</td>\n",
       "      <td>Content : SIDERLOG Conseil est un cabinet de c...</td>\n",
       "      <td>NA</td>\n",
       "      <td>NA</td>\n",
       "      <td>NA</td>\n",
       "    </tr>\n",
       "    <tr>\n",
       "      <th>2</th>\n",
       "      <td>Release Train Engineer</td>\n",
       "      <td>No Company Do Not Post</td>\n",
       "      <td>Issy-les-Moulineaux, Île-de-France, France</td>\n",
       "      <td>unknown</td>\n",
       "      <td>Content : LE GROUPE LA POSTE change, nos métie...</td>\n",
       "      <td>NA</td>\n",
       "      <td>NA</td>\n",
       "      <td>NA</td>\n",
       "    </tr>\n",
       "    <tr>\n",
       "      <th>3</th>\n",
       "      <td>Release train engineer (RTE) : kanban&amp;#44; saf...</td>\n",
       "      <td>Freelance-info.fr</td>\n",
       "      <td>Niort, Nouvelle-Aquitaine, France</td>\n",
       "      <td>unknown</td>\n",
       "      <td>Content : Contexte de la mission\\n\\nPour notre...</td>\n",
       "      <td>NA</td>\n",
       "      <td>NA</td>\n",
       "      <td>NA</td>\n",
       "    </tr>\n",
       "    <tr>\n",
       "      <th>4</th>\n",
       "      <td>RTE - Release Train Engineer / Freelance</td>\n",
       "      <td>Freelance-info.fr</td>\n",
       "      <td>Bordeaux, Nouvelle-Aquitaine, France</td>\n",
       "      <td>unknown</td>\n",
       "      <td>Content : Fonction recherchée : RTE\\nRelease T...</td>\n",
       "      <td>NA</td>\n",
       "      <td>NA</td>\n",
       "      <td>NA</td>\n",
       "    </tr>\n",
       "  </tbody>\n",
       "</table>\n",
       "</div>"
      ],
      "text/plain": [
       "                                               title                 company  \\\n",
       "0                         Release Train Engineer f/h             Merck Group   \n",
       "1     Release Train Engineer - RTE NIORT / Freelance       Freelance-info.fr   \n",
       "2                             Release Train Engineer  No Company Do Not Post   \n",
       "3  Release train engineer (RTE) : kanban&#44; saf...       Freelance-info.fr   \n",
       "4           RTE - Release Train Engineer / Freelance       Freelance-info.fr   \n",
       "\n",
       "                                        place n_appliants  \\\n",
       "0                 Molsheim, Grand Est, France     unknown   \n",
       "1           Niort, Nouvelle-Aquitaine, France  0 candidat   \n",
       "2  Issy-les-Moulineaux, Île-de-France, France     unknown   \n",
       "3           Niort, Nouvelle-Aquitaine, France     unknown   \n",
       "4        Bordeaux, Nouvelle-Aquitaine, France     unknown   \n",
       "\n",
       "                                             content type ppl_domain date  \n",
       "0  Content : Votre rôle :\\n\\nEn tant que l'un des...   NA         NA   NA  \n",
       "1  Content : SIDERLOG Conseil est un cabinet de c...   NA         NA   NA  \n",
       "2  Content : LE GROUPE LA POSTE change, nos métie...   NA         NA   NA  \n",
       "3  Content : Contexte de la mission\\n\\nPour notre...   NA         NA   NA  \n",
       "4  Content : Fonction recherchée : RTE\\nRelease T...   NA         NA   NA  "
      ]
     },
     "metadata": {},
     "output_type": "display_data"
    },
    {
     "name": "stdout",
     "output_type": "stream",
     "text": [
      "<class 'pandas.core.frame.DataFrame'>\n",
      "RangeIndex: 13 entries, 0 to 12\n",
      "Data columns (total 8 columns):\n",
      " #   Column       Non-Null Count  Dtype \n",
      "---  ------       --------------  ----- \n",
      " 0   title        13 non-null     object\n",
      " 1   company      13 non-null     object\n",
      " 2   place        13 non-null     object\n",
      " 3   n_appliants  13 non-null     object\n",
      " 4   content      13 non-null     object\n",
      " 5   type         13 non-null     object\n",
      " 6   ppl_domain   13 non-null     object\n",
      " 7   date         13 non-null     object\n",
      "dtypes: object(8)\n",
      "memory usage: 960.0+ bytes\n"
     ]
    }
   ],
   "source": [
    "RTE = pd.DataFrame.from_dict(dic_annonces)\n",
    "display(RTE.head())\n",
    "RTE.info()"
   ]
  },
  {
   "cell_type": "code",
   "execution_count": 22,
   "metadata": {
    "ExecuteTime": {
     "end_time": "2021-10-27T08:30:41.890840Z",
     "start_time": "2021-10-27T08:30:41.876829Z"
    }
   },
   "outputs": [],
   "source": [
    "def prep_dataset(df) :\n",
    "    \n",
    "    df = df.applymap(lambda s:s.upper() if type(s) == str else s)\n",
    "    df['place'] = df['place'].str.split(',', expand = True)[0]\n",
    "    df['n_appliants'] = df['n_appliants'].str.split(' ', expand = True)[0]\n",
    "    df['size_company'] = df['ppl_domain'].str.split('·', expand = True)[0]\n",
    "    #df['domain_company'] = df['ppl_domain'].str.split('·', expand = True)[1]\n",
    "    df = df.drop(['ppl_domain','n_appliants'], axis = 1)\n",
    "    df['content'] = df['content'].str.replace('\\n','')\n",
    "    \n",
    "    #print(df.head())\n",
    "    \n",
    "    return df"
   ]
  },
  {
   "cell_type": "code",
   "execution_count": 23,
   "metadata": {
    "ExecuteTime": {
     "end_time": "2021-10-27T08:30:42.323232Z",
     "start_time": "2021-10-27T08:30:42.312223Z"
    }
   },
   "outputs": [],
   "source": [
    "RTE = prep_dataset(RTE)"
   ]
  },
  {
   "cell_type": "code",
   "execution_count": 24,
   "metadata": {
    "ExecuteTime": {
     "end_time": "2021-10-27T08:30:43.195777Z",
     "start_time": "2021-10-27T08:30:43.175760Z"
    }
   },
   "outputs": [
    {
     "name": "stdout",
     "output_type": "stream",
     "text": [
      "<class 'pandas.core.frame.DataFrame'>\n",
      "RangeIndex: 13 entries, 0 to 12\n",
      "Data columns (total 7 columns):\n",
      " #   Column        Non-Null Count  Dtype \n",
      "---  ------        --------------  ----- \n",
      " 0   title         13 non-null     object\n",
      " 1   company       13 non-null     object\n",
      " 2   place         13 non-null     object\n",
      " 3   content       13 non-null     object\n",
      " 4   type          13 non-null     object\n",
      " 5   date          13 non-null     object\n",
      " 6   size_company  13 non-null     object\n",
      "dtypes: object(7)\n",
      "memory usage: 856.0+ bytes\n"
     ]
    }
   ],
   "source": [
    "RTE.info()"
   ]
  },
  {
   "cell_type": "code",
   "execution_count": 25,
   "metadata": {
    "ExecuteTime": {
     "end_time": "2021-10-27T08:30:43.576123Z",
     "start_time": "2021-10-27T08:30:43.559107Z"
    }
   },
   "outputs": [
    {
     "data": {
      "text/html": [
       "<div>\n",
       "<style scoped>\n",
       "    .dataframe tbody tr th:only-of-type {\n",
       "        vertical-align: middle;\n",
       "    }\n",
       "\n",
       "    .dataframe tbody tr th {\n",
       "        vertical-align: top;\n",
       "    }\n",
       "\n",
       "    .dataframe thead th {\n",
       "        text-align: right;\n",
       "    }\n",
       "</style>\n",
       "<table border=\"1\" class=\"dataframe\">\n",
       "  <thead>\n",
       "    <tr style=\"text-align: right;\">\n",
       "      <th></th>\n",
       "      <th>title</th>\n",
       "      <th>company</th>\n",
       "      <th>place</th>\n",
       "      <th>content</th>\n",
       "      <th>type</th>\n",
       "      <th>date</th>\n",
       "      <th>size_company</th>\n",
       "    </tr>\n",
       "  </thead>\n",
       "  <tbody>\n",
       "    <tr>\n",
       "      <th>0</th>\n",
       "      <td>RELEASE TRAIN ENGINEER F/H</td>\n",
       "      <td>MERCK GROUP</td>\n",
       "      <td>MOLSHEIM</td>\n",
       "      <td>CONTENT : VOTRE RÔLE :EN TANT QUE L'UN DES REL...</td>\n",
       "      <td>NA</td>\n",
       "      <td>NA</td>\n",
       "      <td>NA</td>\n",
       "    </tr>\n",
       "    <tr>\n",
       "      <th>1</th>\n",
       "      <td>RELEASE TRAIN ENGINEER - RTE NIORT / FREELANCE</td>\n",
       "      <td>FREELANCE-INFO.FR</td>\n",
       "      <td>NIORT</td>\n",
       "      <td>CONTENT : SIDERLOG CONSEIL EST UN CABINET DE C...</td>\n",
       "      <td>NA</td>\n",
       "      <td>NA</td>\n",
       "      <td>NA</td>\n",
       "    </tr>\n",
       "    <tr>\n",
       "      <th>2</th>\n",
       "      <td>RELEASE TRAIN ENGINEER</td>\n",
       "      <td>NO COMPANY DO NOT POST</td>\n",
       "      <td>ISSY-LES-MOULINEAUX</td>\n",
       "      <td>CONTENT : LE GROUPE LA POSTE CHANGE, NOS MÉTIE...</td>\n",
       "      <td>NA</td>\n",
       "      <td>NA</td>\n",
       "      <td>NA</td>\n",
       "    </tr>\n",
       "    <tr>\n",
       "      <th>3</th>\n",
       "      <td>RELEASE TRAIN ENGINEER (RTE) : KANBAN&amp;#44; SAF...</td>\n",
       "      <td>FREELANCE-INFO.FR</td>\n",
       "      <td>NIORT</td>\n",
       "      <td>CONTENT : CONTEXTE DE LA MISSIONPOUR NOTRE CLI...</td>\n",
       "      <td>NA</td>\n",
       "      <td>NA</td>\n",
       "      <td>NA</td>\n",
       "    </tr>\n",
       "    <tr>\n",
       "      <th>4</th>\n",
       "      <td>RTE - RELEASE TRAIN ENGINEER / FREELANCE</td>\n",
       "      <td>FREELANCE-INFO.FR</td>\n",
       "      <td>BORDEAUX</td>\n",
       "      <td>CONTENT : FONCTION RECHERCHÉE : RTERELEASE TRA...</td>\n",
       "      <td>NA</td>\n",
       "      <td>NA</td>\n",
       "      <td>NA</td>\n",
       "    </tr>\n",
       "    <tr>\n",
       "      <th>5</th>\n",
       "      <td>RELEASE TRAIN ENGINEER - RTE (H/F)</td>\n",
       "      <td>EMAGINE CONSULTING</td>\n",
       "      <td>NIORT</td>\n",
       "      <td>CONTENT : CETTE OFFRE D’EMPLOI PROVIENT D’UN S...</td>\n",
       "      <td>NA</td>\n",
       "      <td>NA</td>\n",
       "      <td>NA</td>\n",
       "    </tr>\n",
       "    <tr>\n",
       "      <th>6</th>\n",
       "      <td>BORDEAUX-RELEASE TRAIN ENGINEER-A139013/33 / F...</td>\n",
       "      <td>FREELANCE-INFO.FR</td>\n",
       "      <td>BORDEAUX</td>\n",
       "      <td>CONTENT : POUR UN DE NOS CLIENTS DIRECTS, NOUS...</td>\n",
       "      <td>NA</td>\n",
       "      <td>NA</td>\n",
       "      <td>NA</td>\n",
       "    </tr>\n",
       "    <tr>\n",
       "      <th>7</th>\n",
       "      <td>RELEASE TRAIN ENGINEER - PARIS H/F</td>\n",
       "      <td>CAPGEMINI ENGINEERING</td>\n",
       "      <td>ISSY-LES-MOULINEAUX</td>\n",
       "      <td>CONTENT : PUBLIÉE PARCLAIRE PHILIPP 2ETEAM LEA...</td>\n",
       "      <td>NA</td>\n",
       "      <td>NA</td>\n",
       "      <td>NA</td>\n",
       "    </tr>\n",
       "    <tr>\n",
       "      <th>8</th>\n",
       "      <td>DÉVELOPPEUR EBX F/H</td>\n",
       "      <td>BPIFRANCE</td>\n",
       "      <td>MAISONS-ALFORT</td>\n",
       "      <td>CONTENT : BPIFRANCE A LANCÉ UN LARGE PROGRAMME...</td>\n",
       "      <td>NA</td>\n",
       "      <td>NA</td>\n",
       "      <td>NA</td>\n",
       "    </tr>\n",
       "    <tr>\n",
       "      <th>9</th>\n",
       "      <td>CHARGÉ D'ANIMATION ET COMMUNICATION TRIBU AGIL...</td>\n",
       "      <td>SOCIÉTÉ GÉNÉRALE</td>\n",
       "      <td>FONTENAY-SOUS-BOIS</td>\n",
       "      <td>CONTENT : VOS MISSIONS AU QUOTIDIENNOUS SOMMES...</td>\n",
       "      <td>NA</td>\n",
       "      <td>NA</td>\n",
       "      <td>NA</td>\n",
       "    </tr>\n",
       "    <tr>\n",
       "      <th>10</th>\n",
       "      <td>CHEF DE PROJET TRANSFORMATION AGILE (H/F)</td>\n",
       "      <td>CONTINENTAL</td>\n",
       "      <td>TOULOUSE</td>\n",
       "      <td>CONTENT : DESCRIPTION1/ LEAD THE TRANSFORMATIO...</td>\n",
       "      <td>NA</td>\n",
       "      <td>NA</td>\n",
       "      <td>NA</td>\n",
       "    </tr>\n",
       "    <tr>\n",
       "      <th>11</th>\n",
       "      <td>SCRUM MASTER/CHEF DE PROJET</td>\n",
       "      <td>HAYS</td>\n",
       "      <td>TOULON</td>\n",
       "      <td>CONTENT : PUBLIÉE PARLAURA BOUFFIER 2ECHARGÉE ...</td>\n",
       "      <td>NA</td>\n",
       "      <td>NA</td>\n",
       "      <td>NA</td>\n",
       "    </tr>\n",
       "    <tr>\n",
       "      <th>12</th>\n",
       "      <td>SCRUM MASTER</td>\n",
       "      <td>ISAGRI</td>\n",
       "      <td>BEAUVAIS</td>\n",
       "      <td>CONTENT : PUBLIÉE PARFANNY DELAHAYECHARGÉE DE ...</td>\n",
       "      <td>NA</td>\n",
       "      <td>NA</td>\n",
       "      <td>NA</td>\n",
       "    </tr>\n",
       "  </tbody>\n",
       "</table>\n",
       "</div>"
      ],
      "text/plain": [
       "                                                title                 company  \\\n",
       "0                          RELEASE TRAIN ENGINEER F/H             MERCK GROUP   \n",
       "1      RELEASE TRAIN ENGINEER - RTE NIORT / FREELANCE       FREELANCE-INFO.FR   \n",
       "2                              RELEASE TRAIN ENGINEER  NO COMPANY DO NOT POST   \n",
       "3   RELEASE TRAIN ENGINEER (RTE) : KANBAN&#44; SAF...       FREELANCE-INFO.FR   \n",
       "4            RTE - RELEASE TRAIN ENGINEER / FREELANCE       FREELANCE-INFO.FR   \n",
       "5                  RELEASE TRAIN ENGINEER - RTE (H/F)      EMAGINE CONSULTING   \n",
       "6   BORDEAUX-RELEASE TRAIN ENGINEER-A139013/33 / F...       FREELANCE-INFO.FR   \n",
       "7                  RELEASE TRAIN ENGINEER - PARIS H/F   CAPGEMINI ENGINEERING   \n",
       "8                                 DÉVELOPPEUR EBX F/H               BPIFRANCE   \n",
       "9   CHARGÉ D'ANIMATION ET COMMUNICATION TRIBU AGIL...        SOCIÉTÉ GÉNÉRALE   \n",
       "10          CHEF DE PROJET TRANSFORMATION AGILE (H/F)             CONTINENTAL   \n",
       "11                        SCRUM MASTER/CHEF DE PROJET                    HAYS   \n",
       "12                                       SCRUM MASTER                  ISAGRI   \n",
       "\n",
       "                  place                                            content  \\\n",
       "0              MOLSHEIM  CONTENT : VOTRE RÔLE :EN TANT QUE L'UN DES REL...   \n",
       "1                 NIORT  CONTENT : SIDERLOG CONSEIL EST UN CABINET DE C...   \n",
       "2   ISSY-LES-MOULINEAUX  CONTENT : LE GROUPE LA POSTE CHANGE, NOS MÉTIE...   \n",
       "3                 NIORT  CONTENT : CONTEXTE DE LA MISSIONPOUR NOTRE CLI...   \n",
       "4              BORDEAUX  CONTENT : FONCTION RECHERCHÉE : RTERELEASE TRA...   \n",
       "5                 NIORT  CONTENT : CETTE OFFRE D’EMPLOI PROVIENT D’UN S...   \n",
       "6              BORDEAUX  CONTENT : POUR UN DE NOS CLIENTS DIRECTS, NOUS...   \n",
       "7   ISSY-LES-MOULINEAUX  CONTENT : PUBLIÉE PARCLAIRE PHILIPP 2ETEAM LEA...   \n",
       "8        MAISONS-ALFORT  CONTENT : BPIFRANCE A LANCÉ UN LARGE PROGRAMME...   \n",
       "9    FONTENAY-SOUS-BOIS  CONTENT : VOS MISSIONS AU QUOTIDIENNOUS SOMMES...   \n",
       "10             TOULOUSE  CONTENT : DESCRIPTION1/ LEAD THE TRANSFORMATIO...   \n",
       "11               TOULON  CONTENT : PUBLIÉE PARLAURA BOUFFIER 2ECHARGÉE ...   \n",
       "12             BEAUVAIS  CONTENT : PUBLIÉE PARFANNY DELAHAYECHARGÉE DE ...   \n",
       "\n",
       "   type date size_company  \n",
       "0    NA   NA           NA  \n",
       "1    NA   NA           NA  \n",
       "2    NA   NA           NA  \n",
       "3    NA   NA           NA  \n",
       "4    NA   NA           NA  \n",
       "5    NA   NA           NA  \n",
       "6    NA   NA           NA  \n",
       "7    NA   NA           NA  \n",
       "8    NA   NA           NA  \n",
       "9    NA   NA           NA  \n",
       "10   NA   NA           NA  \n",
       "11   NA   NA           NA  \n",
       "12   NA   NA           NA  "
      ]
     },
     "execution_count": 25,
     "metadata": {},
     "output_type": "execute_result"
    }
   ],
   "source": [
    "RTE.head(50)"
   ]
  },
  {
   "cell_type": "code",
   "execution_count": 26,
   "metadata": {
    "ExecuteTime": {
     "end_time": "2021-10-27T08:31:03.999586Z",
     "start_time": "2021-10-27T08:31:03.982571Z"
    }
   },
   "outputs": [],
   "source": [
    "RTE.to_csv('export_RTE_SPECIFIC_271021.csv')"
   ]
  },
  {
   "cell_type": "markdown",
   "metadata": {},
   "source": [
    "## INDEED"
   ]
  },
  {
   "cell_type": "code",
   "execution_count": null,
   "metadata": {},
   "outputs": [],
   "source": [
    "driver = webdriver.Chrome()\n",
    "\n",
    "# Go to linkedin and login\n",
    "driver.get('https://fr.indeed.com/jobs?q=data&l=Paris%20(75)&vjk=c651afe72e3b7150')\n",
    "driver.maximize_window()\n",
    "\n",
    "dic_annonces = {'title':[],'company':[],'place':[],'n_appliants':[],'content':[],\n",
    "               'type':[], 'ppl_domain':[]}\n",
    "\n"
   ]
  },
  {
   "cell_type": "code",
   "execution_count": null,
   "metadata": {},
   "outputs": [],
   "source": [
    "list_items"
   ]
  },
  {
   "cell_type": "code",
   "execution_count": null,
   "metadata": {},
   "outputs": [],
   "source": [
    "for i in range(0,20):\n",
    "    \n",
    "    job_card = driver.find_elements_by_xpath('//div[contains(@class,\"clickcard\")]')\n",
    "    \n",
    "    for job in job_card:\n",
    "       \n",
    "    #.  not all companies have review\n",
    "        try:\n",
    "            review = job.find_element_by_xpath('.//span[@class=\"ratingsContent\"]').text\n",
    "        except:\n",
    "            review = \"None\"\n",
    "        reviews.append(review)\n",
    "   #.   not all positions have salary\n",
    "        try:\n",
    "            salary = job.find_element_by_xpath('.//span[@class=\"salaryText\"]').text\n",
    "        except:\n",
    "            salary = \"None\"\n",
    "    #.  tells only to look at the element       \n",
    "        salaries.append(salary)\n",
    "        \n",
    "        try:\n",
    "            location = job.find_element_by_xpath('.//span[contains(@class,\"location\")]').text\n",
    "        except:\n",
    "            location = \"None\"\n",
    "    #.  tells only to look at the element       \n",
    "        locations.append(location)\n",
    "        \n",
    "        try:\n",
    "            title  = job.find_element_by_xpath('.//h2[@class=\"title\"]//a').text\n",
    "        except:\n",
    "            title = job.find_element_by_xpath('.//h2[@class=\"title\"]//a').get_attribute(name=\"title\")\n",
    "        titles.append(title)\n",
    "        links.append(job.find_element_by_xpath('.//h2[@class=\"title\"]//a').get_attribute(name=\"href\"))\n",
    "        companies.append(job.find_element_by_xpath('.//span[@class=\"company\"]').text)\n",
    "        \n",
    "    \n",
    "    try:\n",
    "        next_page = driver.find_element_by_xpath('//a[@aria-label={}]//span[@class=\"pn\"]'.format(i+2))\n",
    "        next_page.click()\n",
    "\n",
    "    except:\n",
    "        next_page = driver.find_element_by_xpath('//a[@aria-label=\"Next\"]//span[@class=\"np\"]')\n",
    "        next_page.click()\n",
    "    #except:\n",
    "        #next_page = driver.find_element_by_xpath('//a[.//span[contains(text(),\"Next\")]]')\n",
    "        #next_page.click()\n",
    "        \n",
    "    \n",
    "    print(\"Page: {}\".format(str(i+2)))"
   ]
  },
  {
   "cell_type": "markdown",
   "metadata": {},
   "source": [
    "## GLASSDOOR"
   ]
  },
  {
   "cell_type": "code",
   "execution_count": null,
   "metadata": {},
   "outputs": [],
   "source": []
  },
  {
   "cell_type": "markdown",
   "metadata": {},
   "source": [
    "## CADREMPLOI"
   ]
  },
  {
   "cell_type": "code",
   "execution_count": null,
   "metadata": {},
   "outputs": [],
   "source": []
  }
 ],
 "metadata": {
  "kernelspec": {
   "display_name": "Python 3",
   "language": "python",
   "name": "python3"
  },
  "language_info": {
   "codemirror_mode": {
    "name": "ipython",
    "version": 3
   },
   "file_extension": ".py",
   "mimetype": "text/x-python",
   "name": "python",
   "nbconvert_exporter": "python",
   "pygments_lexer": "ipython3",
   "version": "3.8.5"
  },
  "toc": {
   "base_numbering": 1,
   "nav_menu": {},
   "number_sections": true,
   "sideBar": true,
   "skip_h1_title": false,
   "title_cell": "Table of Contents",
   "title_sidebar": "Contents",
   "toc_cell": false,
   "toc_position": {},
   "toc_section_display": true,
   "toc_window_display": true
  }
 },
 "nbformat": 4,
 "nbformat_minor": 4
}

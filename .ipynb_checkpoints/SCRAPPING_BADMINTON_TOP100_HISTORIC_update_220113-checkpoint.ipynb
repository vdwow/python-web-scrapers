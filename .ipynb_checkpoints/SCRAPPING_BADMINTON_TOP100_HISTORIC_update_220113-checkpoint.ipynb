{
 "cells": [
  {
   "cell_type": "code",
   "execution_count": 1,
   "metadata": {
    "ExecuteTime": {
     "end_time": "2021-11-24T16:23:43.921478Z",
     "start_time": "2021-11-24T16:23:42.563633Z"
    }
   },
   "outputs": [],
   "source": [
    "import pandas as pd\n",
    "# ^^^ pyforest auto-imports - don't write above this line\n",
    "from selenium import webdriver\n",
    "import time\n",
    "from selenium.webdriver.common.keys import Keys\n",
    "from selenium.webdriver import ActionChains\n",
    "from selenium.common.exceptions import NoSuchElementException\n",
    "\n",
    "import bs4\n",
    "import urllib\n",
    "\n",
    "\n",
    "import random"
   ]
  },
  {
   "cell_type": "markdown",
   "metadata": {},
   "source": [
    "## SCRAPPING"
   ]
  },
  {
   "cell_type": "code",
   "execution_count": 5,
   "metadata": {
    "ExecuteTime": {
     "end_time": "2021-10-27T19:07:35.234928Z",
     "start_time": "2021-10-27T19:07:33.374036Z"
    }
   },
   "outputs": [],
   "source": [
    "driver = webdriver.Chrome()\n",
    "\n",
    "driver.get('https://badmintonstatistics.net/Rankings?date=2021-10-25&category=MS&country=%&page=1&pagesize=100')\n",
    "driver.maximize_window()"
   ]
  },
  {
   "cell_type": "code",
   "execution_count": 48,
   "metadata": {
    "ExecuteTime": {
     "end_time": "2021-10-27T19:49:09.971782Z",
     "start_time": "2021-10-27T19:49:09.956768Z"
    }
   },
   "outputs": [],
   "source": [
    "dic_ranking = {'date':[], 'draw':[], 'top_100':[]}"
   ]
  },
  {
   "cell_type": "code",
   "execution_count": 53,
   "metadata": {
    "ExecuteTime": {
     "end_time": "2021-10-27T21:14:20.751485Z",
     "start_time": "2021-10-27T20:49:50.118567Z"
    }
   },
   "outputs": [],
   "source": [
    "date_listing = driver.find_element_by_xpath('//*[@id=\"rankingPeriodsSelect\"]').text\n",
    "date_listing = date_listing.replace(' ','').replace('/','-').split('\\n')\n",
    "\n",
    "for date in date_listing[1000:]:\n",
    "    \n",
    "    temp_date = date[6:10]+'-'+date[3:5]+'-'+date[0:2]\n",
    "\n",
    "    for draw in ['MS','WS','MD','WD','XD']:\n",
    "        \n",
    "        driver.get('https://badmintonstatistics.net/Rankings?date='+temp_date+'&category='+draw+'&country=%&page=1&pagesize=100')\n",
    "\n",
    "        top_100 = driver.find_elements_by_xpath('//*[@id=\"RankingList\"]/div[2]/table/tbody')\n",
    "\n",
    "        dic_ranking['date'].append(temp_date)\n",
    "        dic_ranking['draw'].append(draw)\n",
    "        dic_ranking['top_100'].append(top_100[0].text)\n",
    "\n",
    "        #time.sleep(random.randint(3,5))"
   ]
  },
  {
   "cell_type": "code",
   "execution_count": 54,
   "metadata": {
    "ExecuteTime": {
     "end_time": "2021-10-27T21:15:12.428438Z",
     "start_time": "2021-10-27T21:15:12.409420Z"
    }
   },
   "outputs": [],
   "source": [
    "top_100 = pd.DataFrame.from_dict(dic_ranking)"
   ]
  },
  {
   "cell_type": "code",
   "execution_count": 56,
   "metadata": {
    "ExecuteTime": {
     "end_time": "2021-10-27T21:15:43.724489Z",
     "start_time": "2021-10-27T21:15:43.149967Z"
    }
   },
   "outputs": [],
   "source": [
    "top_100.to_csv('export_histo_top100_badminton.csv')"
   ]
  },
  {
   "cell_type": "markdown",
   "metadata": {},
   "source": [
    "## FORMATING DATA"
   ]
  },
  {
   "cell_type": "code",
   "execution_count": 32,
   "metadata": {},
   "outputs": [],
   "source": [
    "def prep_data(df):\n",
    "\n",
    "    df.drop('Unnamed: 0', axis = 1, inplace = True)\n",
    "\n",
    "    df = pd.DataFrame(df.top_100.str.split('\\n').tolist(), index=df[['date','draw']]).stack().reset_index()\n",
    "    \n",
    "    df.columns = ['date / draw', 'to_drop', 'content']\n",
    "\n",
    "    df = df[df['to_drop'] != 0].drop('to_drop', axis = 1)\n",
    "\n",
    "    df['date'] = df['date / draw'].str[0]\n",
    "    df['draw'] = df['date / draw'].str[1]\n",
    "    df['rank'] = df['content'].str.split(' ', 1).str[0]\n",
    "    df['points'] = df['content'].str.split(' ').str[-1]\n",
    "    df['country'] = df['content'].str.split(' ').str[-3].str.upper()\n",
    "    df['name'] = df['content'].str.split(' ').str[1:-3]\n",
    "\n",
    "    df['country'] = df['country'].str.replace('KONG','HONG KONG')\n",
    "    df['country'] = df['country'].str.replace('TAIPEI','CHINESE TAIPEI')\n",
    "\n",
    "    df = df.drop(['date / draw','content'], axis = 1)\n",
    "    \n",
    "    return df"
   ]
  },
  {
   "cell_type": "code",
   "execution_count": 33,
   "metadata": {
    "ExecuteTime": {
     "end_time": "2021-11-24T16:25:08.785938Z",
     "start_time": "2021-11-24T16:25:01.073953Z"
    }
   },
   "outputs": [
    {
     "data": {
      "application/javascript": [
       "\n",
       "        if (window._pyforest_update_imports_cell) { window._pyforest_update_imports_cell('import pandas as pd'); }\n",
       "    "
      ],
      "text/plain": [
       "<IPython.core.display.Javascript object>"
      ]
     },
     "metadata": {},
     "output_type": "display_data"
    },
    {
     "data": {
      "application/javascript": [
       "\n",
       "        if (window._pyforest_update_imports_cell) { window._pyforest_update_imports_cell('import pandas as pd'); }\n",
       "    "
      ],
      "text/plain": [
       "<IPython.core.display.Javascript object>"
      ]
     },
     "metadata": {},
     "output_type": "display_data"
    }
   ],
   "source": [
    "data = prep_data(pd.read_csv('export_histo_top100_badminton.csv'))"
   ]
  },
  {
   "cell_type": "code",
   "execution_count": 34,
   "metadata": {},
   "outputs": [
    {
     "data": {
      "text/html": [
       "<div>\n",
       "<style scoped>\n",
       "    .dataframe tbody tr th:only-of-type {\n",
       "        vertical-align: middle;\n",
       "    }\n",
       "\n",
       "    .dataframe tbody tr th {\n",
       "        vertical-align: top;\n",
       "    }\n",
       "\n",
       "    .dataframe thead th {\n",
       "        text-align: right;\n",
       "    }\n",
       "</style>\n",
       "<table border=\"1\" class=\"dataframe\">\n",
       "  <thead>\n",
       "    <tr style=\"text-align: right;\">\n",
       "      <th></th>\n",
       "      <th>date</th>\n",
       "      <th>draw</th>\n",
       "      <th>rank</th>\n",
       "      <th>points</th>\n",
       "      <th>country</th>\n",
       "      <th>name</th>\n",
       "    </tr>\n",
       "  </thead>\n",
       "  <tbody>\n",
       "    <tr>\n",
       "      <th>1</th>\n",
       "      <td>2021-10-25</td>\n",
       "      <td>MS</td>\n",
       "      <td>1</td>\n",
       "      <td>109118</td>\n",
       "      <td>JAPAN</td>\n",
       "      <td>[Kento, MOMOTA]</td>\n",
       "    </tr>\n",
       "    <tr>\n",
       "      <th>2</th>\n",
       "      <td>2021-10-25</td>\n",
       "      <td>MS</td>\n",
       "      <td>2</td>\n",
       "      <td>103786</td>\n",
       "      <td>DENMARK</td>\n",
       "      <td>[Viktor, AXELSEN]</td>\n",
       "    </tr>\n",
       "    <tr>\n",
       "      <th>3</th>\n",
       "      <td>2021-10-25</td>\n",
       "      <td>MS</td>\n",
       "      <td>3</td>\n",
       "      <td>94875</td>\n",
       "      <td>DENMARK</td>\n",
       "      <td>[Anders, ANTONSEN]</td>\n",
       "    </tr>\n",
       "    <tr>\n",
       "      <th>4</th>\n",
       "      <td>2021-10-25</td>\n",
       "      <td>MS</td>\n",
       "      <td>4</td>\n",
       "      <td>89828</td>\n",
       "      <td>CHINESE TAIPEI</td>\n",
       "      <td>[CHOU, Tien, Chen, Chinese]</td>\n",
       "    </tr>\n",
       "    <tr>\n",
       "      <th>5</th>\n",
       "      <td>2021-10-25</td>\n",
       "      <td>MS</td>\n",
       "      <td>5</td>\n",
       "      <td>85332</td>\n",
       "      <td>INDONESIA</td>\n",
       "      <td>[Anthony, Sinisuka, GINTING]</td>\n",
       "    </tr>\n",
       "    <tr>\n",
       "      <th>6</th>\n",
       "      <td>2021-10-25</td>\n",
       "      <td>MS</td>\n",
       "      <td>6</td>\n",
       "      <td>84400</td>\n",
       "      <td>CHINA</td>\n",
       "      <td>[CHEN, Long]</td>\n",
       "    </tr>\n",
       "    <tr>\n",
       "      <th>7</th>\n",
       "      <td>2021-10-25</td>\n",
       "      <td>MS</td>\n",
       "      <td>7</td>\n",
       "      <td>74770</td>\n",
       "      <td>INDONESIA</td>\n",
       "      <td>[Jonatan, CHRISTIE]</td>\n",
       "    </tr>\n",
       "    <tr>\n",
       "      <th>8</th>\n",
       "      <td>2021-10-25</td>\n",
       "      <td>MS</td>\n",
       "      <td>8</td>\n",
       "      <td>69689</td>\n",
       "      <td>MALAYSIA</td>\n",
       "      <td>[LEE, Zii, Jia]</td>\n",
       "    </tr>\n",
       "    <tr>\n",
       "      <th>9</th>\n",
       "      <td>2021-10-25</td>\n",
       "      <td>MS</td>\n",
       "      <td>9</td>\n",
       "      <td>69270</td>\n",
       "      <td>HONG KONG</td>\n",
       "      <td>[NG, Ka, Long, Angus, Hong]</td>\n",
       "    </tr>\n",
       "    <tr>\n",
       "      <th>10</th>\n",
       "      <td>2021-10-25</td>\n",
       "      <td>MS</td>\n",
       "      <td>10</td>\n",
       "      <td>67141</td>\n",
       "      <td>CHINA</td>\n",
       "      <td>[SHI, Yuqi]</td>\n",
       "    </tr>\n",
       "    <tr>\n",
       "      <th>11</th>\n",
       "      <td>2021-10-25</td>\n",
       "      <td>MS</td>\n",
       "      <td>11</td>\n",
       "      <td>63793</td>\n",
       "      <td>CHINESE TAIPEI</td>\n",
       "      <td>[WANG, Tzu, Wei, Chinese]</td>\n",
       "    </tr>\n",
       "    <tr>\n",
       "      <th>12</th>\n",
       "      <td>2021-10-25</td>\n",
       "      <td>MS</td>\n",
       "      <td>12</td>\n",
       "      <td>61070</td>\n",
       "      <td>DENMARK</td>\n",
       "      <td>[Rasmus, GEMKE]</td>\n",
       "    </tr>\n",
       "    <tr>\n",
       "      <th>13</th>\n",
       "      <td>2021-10-25</td>\n",
       "      <td>MS</td>\n",
       "      <td>13</td>\n",
       "      <td>59285</td>\n",
       "      <td>JAPAN</td>\n",
       "      <td>[Kanta, TSUNEYAMA]</td>\n",
       "    </tr>\n",
       "    <tr>\n",
       "      <th>14</th>\n",
       "      <td>2021-10-25</td>\n",
       "      <td>MS</td>\n",
       "      <td>14</td>\n",
       "      <td>58567</td>\n",
       "      <td>INDIA</td>\n",
       "      <td>[SAI, PRANEETH, B.]</td>\n",
       "    </tr>\n",
       "    <tr>\n",
       "      <th>15</th>\n",
       "      <td>2021-10-25</td>\n",
       "      <td>MS</td>\n",
       "      <td>15</td>\n",
       "      <td>56499</td>\n",
       "      <td>INDIA</td>\n",
       "      <td>[KIDAMBI, Srikanth]</td>\n",
       "    </tr>\n",
       "    <tr>\n",
       "      <th>16</th>\n",
       "      <td>2021-10-25</td>\n",
       "      <td>MS</td>\n",
       "      <td>16</td>\n",
       "      <td>54233</td>\n",
       "      <td>JAPAN</td>\n",
       "      <td>[Kenta, NISHIMOTO]</td>\n",
       "    </tr>\n",
       "    <tr>\n",
       "      <th>17</th>\n",
       "      <td>2021-10-25</td>\n",
       "      <td>MS</td>\n",
       "      <td>17</td>\n",
       "      <td>53961</td>\n",
       "      <td>HONG KONG</td>\n",
       "      <td>[LEE, Cheuk, Yiu, Hong]</td>\n",
       "    </tr>\n",
       "    <tr>\n",
       "      <th>18</th>\n",
       "      <td>2021-10-25</td>\n",
       "      <td>MS</td>\n",
       "      <td>18</td>\n",
       "      <td>53571</td>\n",
       "      <td>THAILAND</td>\n",
       "      <td>[Kantaphon, WANGCHAROEN]</td>\n",
       "    </tr>\n",
       "    <tr>\n",
       "      <th>19</th>\n",
       "      <td>2021-10-25</td>\n",
       "      <td>MS</td>\n",
       "      <td>19</td>\n",
       "      <td>50670</td>\n",
       "      <td>CHINA</td>\n",
       "      <td>[LIN, Dan]</td>\n",
       "    </tr>\n",
       "    <tr>\n",
       "      <th>20</th>\n",
       "      <td>2021-10-25</td>\n",
       "      <td>MS</td>\n",
       "      <td>20</td>\n",
       "      <td>50630</td>\n",
       "      <td>INDONESIA</td>\n",
       "      <td>[Shesar, Hiren, RHUSTAVITO]</td>\n",
       "    </tr>\n",
       "  </tbody>\n",
       "</table>\n",
       "</div>"
      ],
      "text/plain": [
       "          date draw rank  points         country                          name\n",
       "1   2021-10-25   MS    1  109118           JAPAN               [Kento, MOMOTA]\n",
       "2   2021-10-25   MS    2  103786         DENMARK             [Viktor, AXELSEN]\n",
       "3   2021-10-25   MS    3   94875         DENMARK            [Anders, ANTONSEN]\n",
       "4   2021-10-25   MS    4   89828  CHINESE TAIPEI   [CHOU, Tien, Chen, Chinese]\n",
       "5   2021-10-25   MS    5   85332       INDONESIA  [Anthony, Sinisuka, GINTING]\n",
       "6   2021-10-25   MS    6   84400           CHINA                  [CHEN, Long]\n",
       "7   2021-10-25   MS    7   74770       INDONESIA           [Jonatan, CHRISTIE]\n",
       "8   2021-10-25   MS    8   69689        MALAYSIA               [LEE, Zii, Jia]\n",
       "9   2021-10-25   MS    9   69270       HONG KONG   [NG, Ka, Long, Angus, Hong]\n",
       "10  2021-10-25   MS   10   67141           CHINA                   [SHI, Yuqi]\n",
       "11  2021-10-25   MS   11   63793  CHINESE TAIPEI     [WANG, Tzu, Wei, Chinese]\n",
       "12  2021-10-25   MS   12   61070         DENMARK               [Rasmus, GEMKE]\n",
       "13  2021-10-25   MS   13   59285           JAPAN            [Kanta, TSUNEYAMA]\n",
       "14  2021-10-25   MS   14   58567           INDIA           [SAI, PRANEETH, B.]\n",
       "15  2021-10-25   MS   15   56499           INDIA           [KIDAMBI, Srikanth]\n",
       "16  2021-10-25   MS   16   54233           JAPAN            [Kenta, NISHIMOTO]\n",
       "17  2021-10-25   MS   17   53961       HONG KONG       [LEE, Cheuk, Yiu, Hong]\n",
       "18  2021-10-25   MS   18   53571        THAILAND      [Kantaphon, WANGCHAROEN]\n",
       "19  2021-10-25   MS   19   50670           CHINA                    [LIN, Dan]\n",
       "20  2021-10-25   MS   20   50630       INDONESIA   [Shesar, Hiren, RHUSTAVITO]"
      ]
     },
     "execution_count": 34,
     "metadata": {},
     "output_type": "execute_result"
    }
   ],
   "source": [
    "data.head(20)"
   ]
  },
  {
   "cell_type": "code",
   "execution_count": 24,
   "metadata": {
    "ExecuteTime": {
     "end_time": "2021-11-24T16:28:11.173304Z",
     "start_time": "2021-11-24T16:28:11.157346Z"
    }
   },
   "outputs": [
    {
     "data": {
      "text/plain": [
       "INDONESIA      68050\n",
       "CHINA          67326\n",
       "DENMARK        65930\n",
       "MALAYSIA       50995\n",
       "KOREA          47178\n",
       "JAPAN          45130\n",
       "ENGLAND        44912\n",
       "TAIPEI         31760\n",
       "GERMANY        29778\n",
       "THAILAND       27756\n",
       "KONG           23578\n",
       "INDIA          23493\n",
       "SWEDEN         22105\n",
       "CANADA         20881\n",
       "NETHERLANDS    20401\n",
       "AUSTRALIA      19419\n",
       "RUSSIA         18527\n",
       "FRANCE         17882\n",
       "SINGAPORE      15240\n",
       "U.S.A.         13718\n",
       "Name: country, dtype: int64"
      ]
     },
     "execution_count": 24,
     "metadata": {},
     "output_type": "execute_result"
    }
   ],
   "source": [
    "data['country'].value_counts().head(20)"
   ]
  },
  {
   "cell_type": "code",
   "execution_count": 7,
   "metadata": {},
   "outputs": [
    {
     "data": {
      "text/plain": [
       "MS    161600\n",
       "WD    161600\n",
       "XD    161600\n",
       "MD    161600\n",
       "WS    161600\n",
       "Name: draw, dtype: int64"
      ]
     },
     "execution_count": 7,
     "metadata": {},
     "output_type": "execute_result"
    }
   ],
   "source": [
    "data['draw'].value_counts()"
   ]
  },
  {
   "cell_type": "code",
   "execution_count": 35,
   "metadata": {},
   "outputs": [],
   "source": [
    "data.to_csv('export_top_100_cleaned.csv')"
   ]
  }
 ],
 "metadata": {
  "hide_input": false,
  "kernelspec": {
   "display_name": "Python 3",
   "language": "python",
   "name": "python3"
  },
  "language_info": {
   "codemirror_mode": {
    "name": "ipython",
    "version": 3
   },
   "file_extension": ".py",
   "mimetype": "text/x-python",
   "name": "python",
   "nbconvert_exporter": "python",
   "pygments_lexer": "ipython3",
   "version": "3.8.5"
  },
  "toc": {
   "base_numbering": 1,
   "nav_menu": {},
   "number_sections": true,
   "sideBar": true,
   "skip_h1_title": false,
   "title_cell": "Table of Contents",
   "title_sidebar": "Contents",
   "toc_cell": false,
   "toc_position": {},
   "toc_section_display": true,
   "toc_window_display": false
  }
 },
 "nbformat": 4,
 "nbformat_minor": 4
}

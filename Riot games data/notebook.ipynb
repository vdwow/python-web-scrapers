{
 "cells": [
  {
   "cell_type": "code",
   "execution_count": 122,
   "metadata": {},
   "outputs": [
    {
     "ename": "",
     "evalue": "",
     "output_type": "error",
     "traceback": [
      "\u001b[1;31mThe Kernel crashed while executing code in the current cell or a previous cell. \n",
      "\u001b[1;31mPlease review the code in the cell(s) to identify a possible cause of the failure. \n",
      "\u001b[1;31mClick <a href='https://aka.ms/vscodeJupyterKernelCrash'>here</a> for more info. \n",
      "\u001b[1;31mView Jupyter <a href='command:jupyter.viewOutput'>log</a> for further details."
     ]
    }
   ],
   "source": [
    "import pandas as pd\n",
    "from selenium import webdriver\n",
    "import time\n",
    "import datetime\n",
    "#\n",
    "from selenium.webdriver.common.keys import Keys\n",
    "from selenium.webdriver import ActionChains\n",
    "from selenium.common.exceptions import NoSuchElementException\n",
    "from selenium.webdriver.common.by import By\n",
    "from selenium.webdriver.support.ui import Select\n",
    "#\n",
    "import bs4\n",
    "import urllib\n",
    "#\n",
    "import random"
   ]
  },
  {
   "cell_type": "markdown",
   "metadata": {},
   "source": [
    "# LOL"
   ]
  },
  {
   "cell_type": "code",
   "execution_count": 3,
   "metadata": {},
   "outputs": [],
   "source": [
    "driver = webdriver.Chrome()\n",
    "driver.get('https://leagueoflegends.fandom.com/wiki/List_of_champions/Base_statistics')\n",
    "driver.maximize_window()"
   ]
  },
  {
   "cell_type": "code",
   "execution_count": 4,
   "metadata": {},
   "outputs": [
    {
     "ename": "NoSuchElementException",
     "evalue": "Message: no such element: Unable to locate element: {\"method\":\"xpath\",\"selector\":\"/html/body/div[4]/div[4]/div[3]/main/div[3]/div[2]/div[1]/div[1]/div/div\"}\n  (Session info: chrome=121.0.6167.162); For documentation on this error, please visit: https://www.selenium.dev/documentation/webdriver/troubleshooting/errors#no-such-element-exception\nStacktrace:\n\tGetHandleVerifier [0x00007FF69C6E7012+3522402]\n\t(No symbol) [0x00007FF69C308352]\n\t(No symbol) [0x00007FF69C1B5ABB]\n\t(No symbol) [0x00007FF69C1FBF0E]\n\t(No symbol) [0x00007FF69C1FC08C]\n\t(No symbol) [0x00007FF69C23E437]\n\t(No symbol) [0x00007FF69C21F09F]\n\t(No symbol) [0x00007FF69C23BDA3]\n\t(No symbol) [0x00007FF69C21EE03]\n\t(No symbol) [0x00007FF69C1EF4D4]\n\t(No symbol) [0x00007FF69C1F05F1]\n\tGetHandleVerifier [0x00007FF69C719B9D+3730157]\n\tGetHandleVerifier [0x00007FF69C76F02D+4079485]\n\tGetHandleVerifier [0x00007FF69C7675D3+4048163]\n\tGetHandleVerifier [0x00007FF69C43A649+718233]\n\t(No symbol) [0x00007FF69C314A3F]\n\t(No symbol) [0x00007FF69C30FA94]\n\t(No symbol) [0x00007FF69C30FBC2]\n\t(No symbol) [0x00007FF69C2FF2E4]\n\tBaseThreadInitThunk [0x00007FFBF442257D+29]\n\tRtlUserThreadStart [0x00007FFBF594AA58+40]\n",
     "output_type": "error",
     "traceback": [
      "\u001b[1;31m---------------------------------------------------------------------------\u001b[0m",
      "\u001b[1;31mNoSuchElementException\u001b[0m                    Traceback (most recent call last)",
      "Cell \u001b[1;32mIn[4], line 1\u001b[0m\n\u001b[1;32m----> 1\u001b[0m df \u001b[38;5;241m=\u001b[39m pd\u001b[38;5;241m.\u001b[39mDataFrame([x\u001b[38;5;241m.\u001b[39msplit(\u001b[38;5;124m'\u001b[39m\u001b[38;5;124m \u001b[39m\u001b[38;5;124m'\u001b[39m) \u001b[38;5;28;01mfor\u001b[39;00m x \u001b[38;5;129;01min\u001b[39;00m \u001b[43mdriver\u001b[49m\u001b[38;5;241;43m.\u001b[39;49m\u001b[43mfind_element\u001b[49m\u001b[43m(\u001b[49m\u001b[43mBy\u001b[49m\u001b[38;5;241;43m.\u001b[39;49m\u001b[43mXPATH\u001b[49m\u001b[43m,\u001b[49m\u001b[43m \u001b[49m\u001b[38;5;124;43m'\u001b[39;49m\u001b[38;5;124;43m/html/body/div[4]/div[4]/div[3]/main/div[3]/div[2]/div[1]/div[1]/div/div\u001b[39;49m\u001b[38;5;124;43m'\u001b[39;49m\u001b[43m)\u001b[49m\u001b[38;5;241m.\u001b[39mtext\u001b[38;5;241m.\u001b[39msplit(\u001b[38;5;124m'\u001b[39m\u001b[38;5;130;01m\\n\u001b[39;00m\u001b[38;5;124m'\u001b[39m)])\u001b[38;5;241m.\u001b[39mdropna(how \u001b[38;5;241m=\u001b[39m \u001b[38;5;124m'\u001b[39m\u001b[38;5;124mall\u001b[39m\u001b[38;5;124m'\u001b[39m, axis \u001b[38;5;241m=\u001b[39m \u001b[38;5;241m1\u001b[39m)\n\u001b[0;32m      2\u001b[0m headers \u001b[38;5;241m=\u001b[39m [x \u001b[38;5;28;01mfor\u001b[39;00m x \u001b[38;5;129;01min\u001b[39;00m df\u001b[38;5;241m.\u001b[39miloc[\u001b[38;5;241m0\u001b[39m]\u001b[38;5;241m.\u001b[39mto_list() \u001b[38;5;28;01mif\u001b[39;00m x \u001b[38;5;241m!=\u001b[39m \u001b[38;5;28;01mNone\u001b[39;00m]\n\u001b[0;32m      3\u001b[0m df \u001b[38;5;241m=\u001b[39m df\u001b[38;5;241m.\u001b[39mdrop(\u001b[38;5;241m0\u001b[39m, axis \u001b[38;5;241m=\u001b[39m \u001b[38;5;241m0\u001b[39m)\n",
      "File \u001b[1;32m~\\AppData\\Local\\Packages\\PythonSoftwareFoundation.Python.3.11_qbz5n2kfra8p0\\LocalCache\\local-packages\\Python311\\site-packages\\selenium\\webdriver\\remote\\webdriver.py:740\u001b[0m, in \u001b[0;36mWebDriver.find_element\u001b[1;34m(self, by, value)\u001b[0m\n\u001b[0;32m    737\u001b[0m     by \u001b[38;5;241m=\u001b[39m By\u001b[38;5;241m.\u001b[39mCSS_SELECTOR\n\u001b[0;32m    738\u001b[0m     value \u001b[38;5;241m=\u001b[39m \u001b[38;5;124mf\u001b[39m\u001b[38;5;124m'\u001b[39m\u001b[38;5;124m[name=\u001b[39m\u001b[38;5;124m\"\u001b[39m\u001b[38;5;132;01m{\u001b[39;00mvalue\u001b[38;5;132;01m}\u001b[39;00m\u001b[38;5;124m\"\u001b[39m\u001b[38;5;124m]\u001b[39m\u001b[38;5;124m'\u001b[39m\n\u001b[1;32m--> 740\u001b[0m \u001b[38;5;28;01mreturn\u001b[39;00m \u001b[38;5;28;43mself\u001b[39;49m\u001b[38;5;241;43m.\u001b[39;49m\u001b[43mexecute\u001b[49m\u001b[43m(\u001b[49m\u001b[43mCommand\u001b[49m\u001b[38;5;241;43m.\u001b[39;49m\u001b[43mFIND_ELEMENT\u001b[49m\u001b[43m,\u001b[49m\u001b[43m \u001b[49m\u001b[43m{\u001b[49m\u001b[38;5;124;43m\"\u001b[39;49m\u001b[38;5;124;43musing\u001b[39;49m\u001b[38;5;124;43m\"\u001b[39;49m\u001b[43m:\u001b[49m\u001b[43m \u001b[49m\u001b[43mby\u001b[49m\u001b[43m,\u001b[49m\u001b[43m \u001b[49m\u001b[38;5;124;43m\"\u001b[39;49m\u001b[38;5;124;43mvalue\u001b[39;49m\u001b[38;5;124;43m\"\u001b[39;49m\u001b[43m:\u001b[49m\u001b[43m \u001b[49m\u001b[43mvalue\u001b[49m\u001b[43m}\u001b[49m\u001b[43m)\u001b[49m[\u001b[38;5;124m\"\u001b[39m\u001b[38;5;124mvalue\u001b[39m\u001b[38;5;124m\"\u001b[39m]\n",
      "File \u001b[1;32m~\\AppData\\Local\\Packages\\PythonSoftwareFoundation.Python.3.11_qbz5n2kfra8p0\\LocalCache\\local-packages\\Python311\\site-packages\\selenium\\webdriver\\remote\\webdriver.py:346\u001b[0m, in \u001b[0;36mWebDriver.execute\u001b[1;34m(self, driver_command, params)\u001b[0m\n\u001b[0;32m    344\u001b[0m response \u001b[38;5;241m=\u001b[39m \u001b[38;5;28mself\u001b[39m\u001b[38;5;241m.\u001b[39mcommand_executor\u001b[38;5;241m.\u001b[39mexecute(driver_command, params)\n\u001b[0;32m    345\u001b[0m \u001b[38;5;28;01mif\u001b[39;00m response:\n\u001b[1;32m--> 346\u001b[0m     \u001b[38;5;28;43mself\u001b[39;49m\u001b[38;5;241;43m.\u001b[39;49m\u001b[43merror_handler\u001b[49m\u001b[38;5;241;43m.\u001b[39;49m\u001b[43mcheck_response\u001b[49m\u001b[43m(\u001b[49m\u001b[43mresponse\u001b[49m\u001b[43m)\u001b[49m\n\u001b[0;32m    347\u001b[0m     response[\u001b[38;5;124m\"\u001b[39m\u001b[38;5;124mvalue\u001b[39m\u001b[38;5;124m\"\u001b[39m] \u001b[38;5;241m=\u001b[39m \u001b[38;5;28mself\u001b[39m\u001b[38;5;241m.\u001b[39m_unwrap_value(response\u001b[38;5;241m.\u001b[39mget(\u001b[38;5;124m\"\u001b[39m\u001b[38;5;124mvalue\u001b[39m\u001b[38;5;124m\"\u001b[39m, \u001b[38;5;28;01mNone\u001b[39;00m))\n\u001b[0;32m    348\u001b[0m     \u001b[38;5;28;01mreturn\u001b[39;00m response\n",
      "File \u001b[1;32m~\\AppData\\Local\\Packages\\PythonSoftwareFoundation.Python.3.11_qbz5n2kfra8p0\\LocalCache\\local-packages\\Python311\\site-packages\\selenium\\webdriver\\remote\\errorhandler.py:245\u001b[0m, in \u001b[0;36mErrorHandler.check_response\u001b[1;34m(self, response)\u001b[0m\n\u001b[0;32m    243\u001b[0m         alert_text \u001b[38;5;241m=\u001b[39m value[\u001b[38;5;124m\"\u001b[39m\u001b[38;5;124malert\u001b[39m\u001b[38;5;124m\"\u001b[39m]\u001b[38;5;241m.\u001b[39mget(\u001b[38;5;124m\"\u001b[39m\u001b[38;5;124mtext\u001b[39m\u001b[38;5;124m\"\u001b[39m)\n\u001b[0;32m    244\u001b[0m     \u001b[38;5;28;01mraise\u001b[39;00m exception_class(message, screen, stacktrace, alert_text)  \u001b[38;5;66;03m# type: ignore[call-arg]  # mypy is not smart enough here\u001b[39;00m\n\u001b[1;32m--> 245\u001b[0m \u001b[38;5;28;01mraise\u001b[39;00m exception_class(message, screen, stacktrace)\n",
      "\u001b[1;31mNoSuchElementException\u001b[0m: Message: no such element: Unable to locate element: {\"method\":\"xpath\",\"selector\":\"/html/body/div[4]/div[4]/div[3]/main/div[3]/div[2]/div[1]/div[1]/div/div\"}\n  (Session info: chrome=121.0.6167.162); For documentation on this error, please visit: https://www.selenium.dev/documentation/webdriver/troubleshooting/errors#no-such-element-exception\nStacktrace:\n\tGetHandleVerifier [0x00007FF69C6E7012+3522402]\n\t(No symbol) [0x00007FF69C308352]\n\t(No symbol) [0x00007FF69C1B5ABB]\n\t(No symbol) [0x00007FF69C1FBF0E]\n\t(No symbol) [0x00007FF69C1FC08C]\n\t(No symbol) [0x00007FF69C23E437]\n\t(No symbol) [0x00007FF69C21F09F]\n\t(No symbol) [0x00007FF69C23BDA3]\n\t(No symbol) [0x00007FF69C21EE03]\n\t(No symbol) [0x00007FF69C1EF4D4]\n\t(No symbol) [0x00007FF69C1F05F1]\n\tGetHandleVerifier [0x00007FF69C719B9D+3730157]\n\tGetHandleVerifier [0x00007FF69C76F02D+4079485]\n\tGetHandleVerifier [0x00007FF69C7675D3+4048163]\n\tGetHandleVerifier [0x00007FF69C43A649+718233]\n\t(No symbol) [0x00007FF69C314A3F]\n\t(No symbol) [0x00007FF69C30FA94]\n\t(No symbol) [0x00007FF69C30FBC2]\n\t(No symbol) [0x00007FF69C2FF2E4]\n\tBaseThreadInitThunk [0x00007FFBF442257D+29]\n\tRtlUserThreadStart [0x00007FFBF594AA58+40]\n"
     ]
    }
   ],
   "source": [
    "df = pd.DataFrame([x.split(' ') for x in driver.find_element(By.XPATH, '/html/body/div[4]/div[4]/div[3]/main/div[3]/div[2]/div[1]/div[1]/div/div').text.split('\\n')]).dropna(how = 'all', axis = 1)\n",
    "headers = [x for x in df.iloc[0].to_list() if x != None]\n",
    "df = df.drop(0, axis = 0)\n",
    "df = df.drop(0, axis = 1)\n",
    "df = df.reset_index(drop = True)\n",
    "\n",
    "for row in range(len(df)):\n",
    "    \n",
    "    if df[21][row] != None:\n",
    "        \n",
    "        l_temp = [x for x in df.loc[row].to_list() if x != None]\n",
    "        l_temp[0] = l_temp[0] + ' ' + l_temp[1] + ' ' + l_temp[2]\n",
    "        del(l_temp[1])\n",
    "        del(l_temp[2])\n",
    "        l_temp.append(None)\n",
    "        l_temp.append(None)\n",
    "\n",
    "        df.loc[row] = l_temp\n",
    "        \n",
    "        pass\n",
    "        \n",
    "    elif df[21][row] == None and df[20][row] != None:\n",
    "        \n",
    "        l_temp = [x for x in df.loc[row].to_list() if x != None]\n",
    "        l_temp[0] = l_temp[0] + ' ' + l_temp[1]\n",
    "        del(l_temp[1])\n",
    "        l_temp.append(None)\n",
    "        l_temp.append(None)\n",
    "        df.loc[row] = l_temp\n",
    "\n",
    "df = df.drop([20, 21], axis = 1)\n",
    " \n",
    "df.columns = headers\n",
    "\n",
    "df"
   ]
  },
  {
   "cell_type": "code",
   "execution_count": 79,
   "metadata": {
    "scrolled": true
   },
   "outputs": [],
   "source": [
    "df.to_csv('export_lol_champs.csv')"
   ]
  },
  {
   "cell_type": "markdown",
   "metadata": {},
   "source": [
    "# RIOT API"
   ]
  },
  {
   "cell_type": "code",
   "execution_count": 9,
   "metadata": {},
   "outputs": [],
   "source": [
    "import cassiopeia as cass"
   ]
  },
  {
   "cell_type": "code",
   "execution_count": 10,
   "metadata": {},
   "outputs": [],
   "source": [
    "api_key = 'RGAPI-48470758-b1f3-446c-94db-789f6554795c'"
   ]
  },
  {
   "cell_type": "code",
   "execution_count": 11,
   "metadata": {},
   "outputs": [],
   "source": [
    "cass.set_riot_api_key(api_key)"
   ]
  },
  {
   "cell_type": "code",
   "execution_count": 27,
   "metadata": {},
   "outputs": [],
   "source": [
    "champions = cass.get_champions(region = 'EUW')"
   ]
  },
  {
   "cell_type": "code",
   "execution_count": 52,
   "metadata": {},
   "outputs": [
    {
     "data": {
      "text/plain": [
       "'{\"version\": \"14.11.1\", \"locale\": \"en_GB\", \"includedData\": [\"all\"], \"region\": \"europe_west\"}'"
      ]
     },
     "execution_count": 52,
     "metadata": {},
     "output_type": "execute_result"
    }
   ],
   "source": [
    "champions.to_json()"
   ]
  },
  {
   "cell_type": "code",
   "execution_count": 100,
   "metadata": {},
   "outputs": [
    {
     "name": "stdout",
     "output_type": "stream",
     "text": [
      "['Use Umbral Dash while casting The Darkin Blade to increase your chances of hitting the enemy.', \"Crowd Control abilities like Infernal Chains or your allies' immobilizing effects will help you set up The Darkin Blade.\", 'Cast World Ender when you are sure you can force a fight.']\n",
      "{}\n",
      "[\"Aatrox's attacks are very telegraphed, so use the time to dodge the hit zones.\", \"Aatrox's Infernal Chains are easier to exit when running towards the sides or at Aatrox.\", 'Keep your distance when Aatrox uses his Ultimate to prevent him from reviving.']\n",
      "266\n",
      "Aatrox\n",
      "Once honored defenders of Shurima against the Void, Aatrox and his brethren would eventually become an even greater threat to Runeterra, and were defeated only by cunning mortal sorcery. But after centuries of imprisonment, Aatrox was the first to find freedom once more, corrupting and transforming those foolish enough to try and wield the magical weapon that contained his essence. Now, with stolen flesh, he walks Runeterra in a brutal approximation of his previous form, seeking an apocalyptic and long overdue vengeance.\n",
      "Aatrox\n",
      "{'name': 'Deathbringer Stance', 'version': '14.11.1', 'description': \"Periodically, Aatrox's next basic attack deals bonus <physicalDamage>physical damage</physicalDamage> and heals him, based on the target's max health. \", 'image': {'y': 0, 'sprite': 'passive0.png', 'full': 'Aatrox_Passive.png', 'version': '14.11.1', 'group': 'passive', 'width': 48, 'height': 48, 'x': 0}, 'sanitizedDescription': \"Periodically, Aatrox's next basic attack deals bonus <physicalDamage>physical damage</physicalDamage> and heals him, based on the target's max health. \"}\n",
      "[<cassiopeia.core.staticdata.champion.ChampionSpell object at 0x00000219E476C750>, <cassiopeia.core.staticdata.champion.ChampionSpell object at 0x00000219E3DAC4D0>, <cassiopeia.core.staticdata.champion.ChampionSpell object at 0x00000219E2173390>, <cassiopeia.core.staticdata.champion.ChampionSpell object at 0x00000219E47A0290>]\n",
      "{<Position.top: 'TOP'>: 4.442, <Position.jungle: 'JUNGLE'>: 0, <Position.middle: 'MIDDLE'>: 0, <Position.bottom: 'BOTTOM'>: 0, <Position.utility: 'UTILITY'>: 0}\n",
      "[]\n",
      "2013-06-13T00:00:00+00:00\n",
      "[<cassiopeia.core.staticdata.champion.Skin object at 0x00000219E4867610>, <cassiopeia.core.staticdata.champion.Skin object at 0x00000219E4840650>, <cassiopeia.core.staticdata.champion.Skin object at 0x00000219E4840610>, <cassiopeia.core.staticdata.champion.Skin object at 0x00000219E4868CD0>, <cassiopeia.core.staticdata.champion.Skin object at 0x00000219E486A4D0>, <cassiopeia.core.staticdata.champion.Skin object at 0x00000219E486A410>, <cassiopeia.core.staticdata.champion.Skin object at 0x00000219E4869BD0>, <cassiopeia.core.staticdata.champion.Skin object at 0x00000219E4868750>, <cassiopeia.core.staticdata.champion.Skin object at 0x00000219E4868490>, <cassiopeia.core.staticdata.champion.Skin object at 0x00000219E4868550>, <cassiopeia.core.staticdata.champion.Skin object at 0x00000219E486A090>, <cassiopeia.core.staticdata.champion.Skin object at 0x00000219E4869AD0>]\n",
      "{\"<class 'cassiopeia.core.staticdata.champion.StatsData'>\": '<cassiopeia.core.staticdata.champion.StatsData object at 0x00000219E3C948D0>'}\n",
      "the Darkin Blade\n",
      "14.11.1\n",
      "{}\n",
      "8\n",
      "4\n",
      "4\n",
      "3\n",
      "{'mana': 0, 'movespeed': 345, 'criticalStrikeChancePerLevel': 0, 'healthRegenPerLevel': 1, 'attackDamagePerLevel': 5, 'magicResistPerLevel': 2.05, 'health': 650, 'manaRegenPerLevel': 0, 'manaRegen': 0, 'percentAttackSpeedPerLevel': 2.5, 'attackDamage': 60, 'armorPerLevel': 4.45, 'armor': 38, 'healthPerLevel': 114, 'magicResist': 32, 'attackSpeedOffset': 0.651, 'healthRegen': 3, 'manaPerLevel': 0, 'attackRange': 175, 'criticalStrikeChance': 0}\n"
     ]
    }
   ],
   "source": [
    "for champion in champions[0:1]:\n",
    "    print(champion.ally_tips)\n",
    "    print(champion.ban_rates)\n",
    "    print(champion.enemy_tips)\n",
    "    #print(champion.free_to_play)\n",
    "    print(champion.id)\n",
    "    print(champion.key)\n",
    "    print(champion.lore)\n",
    "    print(champion.name)\n",
    "    print(champion.passive.to_dict())\n",
    "    print(champion.spells)\n",
    "    print(champion.play_rates)\n",
    "    print(champion.recommended_itemsets)\n",
    "    print(champion.release_date)\n",
    "    print(champion.skins)\n",
    "    print(champion.stats)\n",
    "    print(champion.title)\n",
    "    print(champion.version)\n",
    "    print(champion.win_rates)\n",
    "    print(champion.info.attack)\n",
    "    print(champion.info.defense)\n",
    "    print(champion.info.difficulty)\n",
    "    print(champion.info.magic)\n",
    "    print(champion.stats.to_dict())"
   ]
  },
  {
   "cell_type": "code",
   "execution_count": 121,
   "metadata": {},
   "outputs": [
    {
     "data": {
      "text/html": [
       "<div>\n",
       "<style scoped>\n",
       "    .dataframe tbody tr th:only-of-type {\n",
       "        vertical-align: middle;\n",
       "    }\n",
       "\n",
       "    .dataframe tbody tr th {\n",
       "        vertical-align: top;\n",
       "    }\n",
       "\n",
       "    .dataframe thead th {\n",
       "        text-align: right;\n",
       "    }\n",
       "</style>\n",
       "<table border=\"1\" class=\"dataframe\">\n",
       "  <thead>\n",
       "    <tr style=\"text-align: right;\">\n",
       "      <th></th>\n",
       "      <th>mana</th>\n",
       "      <th>movespeed</th>\n",
       "      <th>criticalStrikeChancePerLevel</th>\n",
       "      <th>healthRegenPerLevel</th>\n",
       "      <th>attackDamagePerLevel</th>\n",
       "      <th>magicResistPerLevel</th>\n",
       "      <th>health</th>\n",
       "      <th>manaRegenPerLevel</th>\n",
       "      <th>manaRegen</th>\n",
       "      <th>percentAttackSpeedPerLevel</th>\n",
       "      <th>attackDamage</th>\n",
       "      <th>armorPerLevel</th>\n",
       "      <th>armor</th>\n",
       "      <th>healthPerLevel</th>\n",
       "      <th>magicResist</th>\n",
       "      <th>attackSpeedOffset</th>\n",
       "      <th>healthRegen</th>\n",
       "      <th>manaPerLevel</th>\n",
       "      <th>attackRange</th>\n",
       "      <th>criticalStrikeChance</th>\n",
       "    </tr>\n",
       "  </thead>\n",
       "  <tbody>\n",
       "    <tr>\n",
       "      <th>0</th>\n",
       "      <td>0</td>\n",
       "      <td>345</td>\n",
       "      <td>0</td>\n",
       "      <td>1</td>\n",
       "      <td>5</td>\n",
       "      <td>2.05</td>\n",
       "      <td>650</td>\n",
       "      <td>0</td>\n",
       "      <td>0</td>\n",
       "      <td>2.5</td>\n",
       "      <td>60</td>\n",
       "      <td>4.45</td>\n",
       "      <td>38</td>\n",
       "      <td>114</td>\n",
       "      <td>32</td>\n",
       "      <td>0.651</td>\n",
       "      <td>3</td>\n",
       "      <td>0</td>\n",
       "      <td>175</td>\n",
       "      <td>0</td>\n",
       "    </tr>\n",
       "  </tbody>\n",
       "</table>\n",
       "</div>"
      ],
      "text/plain": [
       "   mana  movespeed  criticalStrikeChancePerLevel  healthRegenPerLevel  \\\n",
       "0     0        345                             0                    1   \n",
       "\n",
       "   attackDamagePerLevel  magicResistPerLevel  health  manaRegenPerLevel  \\\n",
       "0                     5                 2.05     650                  0   \n",
       "\n",
       "   manaRegen  percentAttackSpeedPerLevel  attackDamage  armorPerLevel  armor  \\\n",
       "0          0                         2.5            60           4.45     38   \n",
       "\n",
       "   healthPerLevel  magicResist  attackSpeedOffset  healthRegen  manaPerLevel  \\\n",
       "0             114           32              0.651            3             0   \n",
       "\n",
       "   attackRange  criticalStrikeChance  \n",
       "0          175                     0  "
      ]
     },
     "execution_count": 121,
     "metadata": {},
     "output_type": "execute_result"
    }
   ],
   "source": [
    "pd.DataFrame.from_dict([champion.stats.to_dict()])"
   ]
  }
 ],
 "metadata": {
  "kernelspec": {
   "display_name": "Python 3",
   "language": "python",
   "name": "python3"
  },
  "language_info": {
   "codemirror_mode": {
    "name": "ipython",
    "version": 3
   },
   "file_extension": ".py",
   "mimetype": "text/x-python",
   "name": "python",
   "nbconvert_exporter": "python",
   "pygments_lexer": "ipython3",
   "version": "3.11.9"
  },
  "toc": {
   "base_numbering": 1,
   "nav_menu": {},
   "number_sections": true,
   "sideBar": true,
   "skip_h1_title": false,
   "title_cell": "Table of Contents",
   "title_sidebar": "Contents",
   "toc_cell": false,
   "toc_position": {},
   "toc_section_display": true,
   "toc_window_display": false
  },
  "vscode": {
   "interpreter": {
    "hash": "38ab5aec3b6b6d2a13455cf3c0e7673913054737acc71c96a9f271dcbc4106af"
   }
  }
 },
 "nbformat": 4,
 "nbformat_minor": 4
}

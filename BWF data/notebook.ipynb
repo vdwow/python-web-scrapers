{
 "cells": [
  {
   "attachments": {},
   "cell_type": "markdown",
   "metadata": {},
   "source": [
    "# IMPORTING LIBRARIES"
   ]
  },
  {
   "cell_type": "code",
   "execution_count": 1,
   "metadata": {
    "ExecuteTime": {
     "end_time": "2021-11-24T16:23:43.921478Z",
     "start_time": "2021-11-24T16:23:42.563633Z"
    }
   },
   "outputs": [],
   "source": [
    "import pandas as pd\n",
    "from selenium import webdriver\n",
    "import time\n",
    "import datetime\n",
    "#\n",
    "from selenium.webdriver.common.keys import Keys\n",
    "from selenium.webdriver import ActionChains\n",
    "from selenium.common.exceptions import NoSuchElementException\n",
    "from selenium.webdriver.common.by import By\n",
    "from selenium.webdriver.support.ui import Select\n",
    "#\n",
    "import bs4\n",
    "import urllib\n",
    "#\n",
    "import random"
   ]
  },
  {
   "attachments": {},
   "cell_type": "markdown",
   "metadata": {},
   "source": [
    "# SCRAPPING RANKING DATA"
   ]
  },
  {
   "cell_type": "markdown",
   "metadata": {},
   "source": [
    "### IMPORTING LAST DATA"
   ]
  },
  {
   "cell_type": "code",
   "execution_count": 2,
   "metadata": {},
   "outputs": [],
   "source": [
    "data_old = pd.read_csv('bwf_historic_rankings.csv')\n",
    "data_old = data_old.drop('Unnamed: 0', axis = 1)"
   ]
  },
  {
   "cell_type": "code",
   "execution_count": 3,
   "metadata": {},
   "outputs": [
    {
     "name": "stdout",
     "output_type": "stream",
     "text": [
      "2023-10-23\n"
     ]
    }
   ],
   "source": [
    "last_fetched_date = data_old['date'].max()\n",
    "print(last_fetched_date)"
   ]
  },
  {
   "cell_type": "code",
   "execution_count": 5,
   "metadata": {},
   "outputs": [],
   "source": [
    "driver = webdriver.Chrome()"
   ]
  },
  {
   "cell_type": "code",
   "execution_count": 7,
   "metadata": {
    "ExecuteTime": {
     "end_time": "2021-10-27T19:07:35.234928Z",
     "start_time": "2021-10-27T19:07:33.374036Z"
    }
   },
   "outputs": [],
   "source": [
    "driver.get('https://badmintonstatistics.net/Rankings')\n",
    "driver.maximize_window()"
   ]
  },
  {
   "cell_type": "code",
   "execution_count": 9,
   "metadata": {},
   "outputs": [],
   "source": [
    "select = Select(driver.find_element(By.XPATH, '//*[@id=\"rankingPeriodsSelect\"]'))\n",
    "# select by visible text\n",
    "select.select_by_index('0')"
   ]
  },
  {
   "cell_type": "code",
   "execution_count": 10,
   "metadata": {},
   "outputs": [
    {
     "data": {
      "text/plain": [
       "'23-10-2023'"
      ]
     },
     "execution_count": 10,
     "metadata": {},
     "output_type": "execute_result"
    }
   ],
   "source": [
    "#getting last ID vs historic data\n",
    "last_current_week = driver.find_element(By.XPATH, '//*[@id=\"rankingPeriodsSelect\"]/option[1]').text.replace('/', '-')\n",
    "last_current_week"
   ]
  },
  {
   "cell_type": "code",
   "execution_count": 10,
   "metadata": {
    "ExecuteTime": {
     "end_time": "2021-10-27T19:49:09.971782Z",
     "start_time": "2021-10-27T19:49:09.956768Z"
    }
   },
   "outputs": [],
   "source": [
    "dic_ranking = {'date':[], 'draw':[], 'top_100':[], 'country':[]}"
   ]
  },
  {
   "cell_type": "code",
   "execution_count": 11,
   "metadata": {},
   "outputs": [
    {
     "data": {
      "text/plain": [
       "['2023-10-23', '2023-10-16', '2023-10-09', '2023-10-02', '2023-09-25']"
      ]
     },
     "execution_count": 11,
     "metadata": {},
     "output_type": "execute_result"
    }
   ],
   "source": [
    "date_listing = driver.find_element(By.XPATH, '//*[@id=\"rankingPeriodsSelect\"]').text\n",
    "date_listing = date_listing.replace(' ','').replace('/','-').split('\\n')\n",
    "date_listing = [x[6:10] + '-' + x[3:5] + '-' + x[0:2] for x in date_listing]\n",
    "date_listing[0:5]"
   ]
  },
  {
   "cell_type": "code",
   "execution_count": 12,
   "metadata": {},
   "outputs": [
    {
     "data": {
      "text/plain": [
       "['2023-10-23', '2023-10-16', '2023-10-09', '2023-10-02', '2023-09-25']"
      ]
     },
     "metadata": {},
     "output_type": "display_data"
    },
    {
     "data": {
      "text/plain": [
       "['2023-08-21', '2023-08-14', '2023-08-07', '2023-07-31', '2023-07-24']"
      ]
     },
     "metadata": {},
     "output_type": "display_data"
    }
   ],
   "source": [
    "date_listing_filtered = [x for x in date_listing if x > last_fetched_date]\n",
    "display(date_listing_filtered[:5])\n",
    "display(date_listing_filtered[-5:])"
   ]
  },
  {
   "cell_type": "markdown",
   "metadata": {},
   "source": [
    "### SCRAPPING DELTA"
   ]
  },
  {
   "cell_type": "code",
   "execution_count": 13,
   "metadata": {
    "ExecuteTime": {
     "end_time": "2021-10-27T21:14:20.751485Z",
     "start_time": "2021-10-27T20:49:50.118567Z"
    }
   },
   "outputs": [],
   "source": [
    "for date in date_listing_filtered:\n",
    "\n",
    "    for draw in ['MS','WS','MD','WD','XD']:\n",
    "        \n",
    "        driver.get('https://badmintonstatistics.net/Rankings?date=' + date + '&category=' + draw + '&country=%&page=1&pagesize=100')\n",
    "\n",
    "        top_100 = driver.find_element(By.XPATH, '//*[@id=\"RankingList\"]/div[2]/table/tbody')\n",
    "\n",
    "        countries = []\n",
    "        \n",
    "        for n in range(1,101):\n",
    "            \n",
    "            country = driver.find_element(By.XPATH, '//*[@id=\"RankingList\"]/div[2]/table/tbody/tr['+str(n)+']/td[1]/img[1]').get_attribute('src')\n",
    "            countries.append(country)\n",
    "        \n",
    "        dic_ranking['date'].append(date)\n",
    "        dic_ranking['draw'].append(draw)\n",
    "        dic_ranking['top_100'].append(top_100.text)\n",
    "        dic_ranking['country'].append(countries)\n",
    "\n",
    "        #time.sleep(random.randint(3,5))"
   ]
  },
  {
   "cell_type": "code",
   "execution_count": 14,
   "metadata": {
    "ExecuteTime": {
     "end_time": "2021-10-27T21:15:12.428438Z",
     "start_time": "2021-10-27T21:15:12.409420Z"
    }
   },
   "outputs": [
    {
     "data": {
      "text/html": [
       "<div>\n",
       "<style scoped>\n",
       "    .dataframe tbody tr th:only-of-type {\n",
       "        vertical-align: middle;\n",
       "    }\n",
       "\n",
       "    .dataframe tbody tr th {\n",
       "        vertical-align: top;\n",
       "    }\n",
       "\n",
       "    .dataframe thead th {\n",
       "        text-align: right;\n",
       "    }\n",
       "</style>\n",
       "<table border=\"1\" class=\"dataframe\">\n",
       "  <thead>\n",
       "    <tr style=\"text-align: right;\">\n",
       "      <th></th>\n",
       "      <th>date</th>\n",
       "      <th>draw</th>\n",
       "      <th>top_100</th>\n",
       "      <th>country</th>\n",
       "    </tr>\n",
       "  </thead>\n",
       "  <tbody>\n",
       "    <tr>\n",
       "      <th>0</th>\n",
       "      <td>2023-10-23</td>\n",
       "      <td>MS</td>\n",
       "      <td>Viktor AXELSEN 1 MS 107455\\nAnthony Sinisuka G...</td>\n",
       "      <td>[https://badmintonstatistics.net/img/flags/Den...</td>\n",
       "    </tr>\n",
       "    <tr>\n",
       "      <th>1</th>\n",
       "      <td>2023-10-23</td>\n",
       "      <td>WS</td>\n",
       "      <td>Se Young AN 1 WS 113314\\nAkane YAMAGUCHI 2 WS ...</td>\n",
       "      <td>[https://badmintonstatistics.net/img/flags/Kor...</td>\n",
       "    </tr>\n",
       "    <tr>\n",
       "      <th>2</th>\n",
       "      <td>2023-10-23</td>\n",
       "      <td>MD</td>\n",
       "      <td>Satwiksairaj RANKIREDDY / Chirag SHETTY 1 MD 9...</td>\n",
       "      <td>[https://badmintonstatistics.net/img/flags/Ind...</td>\n",
       "    </tr>\n",
       "    <tr>\n",
       "      <th>3</th>\n",
       "      <td>2023-10-23</td>\n",
       "      <td>WD</td>\n",
       "      <td>CHEN Qingchen / JIA Yifan 1 WD 113104\\nBAEK Ha...</td>\n",
       "      <td>[https://badmintonstatistics.net/img/flags/Chi...</td>\n",
       "    </tr>\n",
       "    <tr>\n",
       "      <th>4</th>\n",
       "      <td>2023-10-23</td>\n",
       "      <td>XD</td>\n",
       "      <td>ZHENG Siwei / HUANG Yaqiong 1 XD 114256\\nYuta ...</td>\n",
       "      <td>[https://badmintonstatistics.net/img/flags/Chi...</td>\n",
       "    </tr>\n",
       "    <tr>\n",
       "      <th>...</th>\n",
       "      <td>...</td>\n",
       "      <td>...</td>\n",
       "      <td>...</td>\n",
       "      <td>...</td>\n",
       "    </tr>\n",
       "    <tr>\n",
       "      <th>65</th>\n",
       "      <td>2023-07-24</td>\n",
       "      <td>MS</td>\n",
       "      <td>Viktor AXELSEN 1 MS 101205\\nAnthony Sinisuka G...</td>\n",
       "      <td>[https://badmintonstatistics.net/img/flags/Den...</td>\n",
       "    </tr>\n",
       "    <tr>\n",
       "      <th>66</th>\n",
       "      <td>2023-07-24</td>\n",
       "      <td>WS</td>\n",
       "      <td>Akane YAMAGUCHI 1 WS 104517\\nSe Young AN 2 WS ...</td>\n",
       "      <td>[https://badmintonstatistics.net/img/flags/Jap...</td>\n",
       "    </tr>\n",
       "    <tr>\n",
       "      <th>67</th>\n",
       "      <td>2023-07-24</td>\n",
       "      <td>MD</td>\n",
       "      <td>Fajar ALFIAN / Muhammad Rian ARDIANTO 1 MD 916...</td>\n",
       "      <td>[https://badmintonstatistics.net/img/flags/Ind...</td>\n",
       "    </tr>\n",
       "    <tr>\n",
       "      <th>68</th>\n",
       "      <td>2023-07-24</td>\n",
       "      <td>WD</td>\n",
       "      <td>CHEN Qingchen / JIA Yifan 1 WD 103254\\nBAEK Ha...</td>\n",
       "      <td>[https://badmintonstatistics.net/img/flags/Chi...</td>\n",
       "    </tr>\n",
       "    <tr>\n",
       "      <th>69</th>\n",
       "      <td>2023-07-24</td>\n",
       "      <td>XD</td>\n",
       "      <td>ZHENG Siwei / HUANG Yaqiong 1 XD 113606\\nYuta ...</td>\n",
       "      <td>[https://badmintonstatistics.net/img/flags/Chi...</td>\n",
       "    </tr>\n",
       "  </tbody>\n",
       "</table>\n",
       "<p>70 rows × 4 columns</p>\n",
       "</div>"
      ],
      "text/plain": [
       "          date draw                                            top_100  \\\n",
       "0   2023-10-23   MS  Viktor AXELSEN 1 MS 107455\\nAnthony Sinisuka G...   \n",
       "1   2023-10-23   WS  Se Young AN 1 WS 113314\\nAkane YAMAGUCHI 2 WS ...   \n",
       "2   2023-10-23   MD  Satwiksairaj RANKIREDDY / Chirag SHETTY 1 MD 9...   \n",
       "3   2023-10-23   WD  CHEN Qingchen / JIA Yifan 1 WD 113104\\nBAEK Ha...   \n",
       "4   2023-10-23   XD  ZHENG Siwei / HUANG Yaqiong 1 XD 114256\\nYuta ...   \n",
       "..         ...  ...                                                ...   \n",
       "65  2023-07-24   MS  Viktor AXELSEN 1 MS 101205\\nAnthony Sinisuka G...   \n",
       "66  2023-07-24   WS  Akane YAMAGUCHI 1 WS 104517\\nSe Young AN 2 WS ...   \n",
       "67  2023-07-24   MD  Fajar ALFIAN / Muhammad Rian ARDIANTO 1 MD 916...   \n",
       "68  2023-07-24   WD  CHEN Qingchen / JIA Yifan 1 WD 103254\\nBAEK Ha...   \n",
       "69  2023-07-24   XD  ZHENG Siwei / HUANG Yaqiong 1 XD 113606\\nYuta ...   \n",
       "\n",
       "                                              country  \n",
       "0   [https://badmintonstatistics.net/img/flags/Den...  \n",
       "1   [https://badmintonstatistics.net/img/flags/Kor...  \n",
       "2   [https://badmintonstatistics.net/img/flags/Ind...  \n",
       "3   [https://badmintonstatistics.net/img/flags/Chi...  \n",
       "4   [https://badmintonstatistics.net/img/flags/Chi...  \n",
       "..                                                ...  \n",
       "65  [https://badmintonstatistics.net/img/flags/Den...  \n",
       "66  [https://badmintonstatistics.net/img/flags/Jap...  \n",
       "67  [https://badmintonstatistics.net/img/flags/Ind...  \n",
       "68  [https://badmintonstatistics.net/img/flags/Chi...  \n",
       "69  [https://badmintonstatistics.net/img/flags/Chi...  \n",
       "\n",
       "[70 rows x 4 columns]"
      ]
     },
     "execution_count": 14,
     "metadata": {},
     "output_type": "execute_result"
    }
   ],
   "source": [
    "delta = pd.DataFrame.from_dict(dic_ranking)\n",
    "delta"
   ]
  },
  {
   "cell_type": "code",
   "execution_count": 15,
   "metadata": {
    "ExecuteTime": {
     "end_time": "2021-10-27T21:15:43.724489Z",
     "start_time": "2021-10-27T21:15:43.149967Z"
    }
   },
   "outputs": [],
   "source": [
    "delta.to_csv('export_delta_top100_bwf.csv')"
   ]
  },
  {
   "cell_type": "markdown",
   "metadata": {},
   "source": [
    "### CLEANING DATA"
   ]
  },
  {
   "cell_type": "code",
   "execution_count": 16,
   "metadata": {},
   "outputs": [],
   "source": [
    "#if loaded from csv\n",
    "#delta = pd.read_csv('export_delta_top100_bwf.csv')"
   ]
  },
  {
   "cell_type": "code",
   "execution_count": 17,
   "metadata": {},
   "outputs": [],
   "source": [
    "flat_list = [item for sublist in delta['country'].to_list() for item in sublist]\n",
    "flat_list = [item.split('/')[-1].replace('.png', '').replace('%20', '-') for item in flat_list]"
   ]
  },
  {
   "cell_type": "code",
   "execution_count": 18,
   "metadata": {},
   "outputs": [],
   "source": [
    "delta_prep = pd.DataFrame(delta.top_100.str.split('\\n').tolist(), index=delta[['date','draw']]).stack().reset_index()\n",
    "delta_prep = pd.concat([delta_prep, pd.DataFrame(flat_list)], axis = 1)\n",
    "delta_prep.columns = ['date-draw', 'to_drop', 'to_split', 'country']"
   ]
  },
  {
   "cell_type": "code",
   "execution_count": 19,
   "metadata": {},
   "outputs": [
    {
     "data": {
      "text/html": [
       "<div>\n",
       "<style scoped>\n",
       "    .dataframe tbody tr th:only-of-type {\n",
       "        vertical-align: middle;\n",
       "    }\n",
       "\n",
       "    .dataframe tbody tr th {\n",
       "        vertical-align: top;\n",
       "    }\n",
       "\n",
       "    .dataframe thead th {\n",
       "        text-align: right;\n",
       "    }\n",
       "</style>\n",
       "<table border=\"1\" class=\"dataframe\">\n",
       "  <thead>\n",
       "    <tr style=\"text-align: right;\">\n",
       "      <th></th>\n",
       "      <th>country</th>\n",
       "      <th>date</th>\n",
       "      <th>draw</th>\n",
       "      <th>rank</th>\n",
       "      <th>points</th>\n",
       "      <th>name</th>\n",
       "    </tr>\n",
       "  </thead>\n",
       "  <tbody>\n",
       "    <tr>\n",
       "      <th>0</th>\n",
       "      <td>DENMARK</td>\n",
       "      <td>2023-10-23</td>\n",
       "      <td>MS</td>\n",
       "      <td>1</td>\n",
       "      <td>107455</td>\n",
       "      <td>VIKTOR AXELSEN</td>\n",
       "    </tr>\n",
       "    <tr>\n",
       "      <th>1</th>\n",
       "      <td>INDONESIA</td>\n",
       "      <td>2023-10-23</td>\n",
       "      <td>MS</td>\n",
       "      <td>2</td>\n",
       "      <td>86611</td>\n",
       "      <td>ANTHONY SINISUKA GINTING</td>\n",
       "    </tr>\n",
       "    <tr>\n",
       "      <th>2</th>\n",
       "      <td>JAPAN</td>\n",
       "      <td>2023-10-23</td>\n",
       "      <td>MS</td>\n",
       "      <td>3</td>\n",
       "      <td>82015</td>\n",
       "      <td>KODAI NARAOKA</td>\n",
       "    </tr>\n",
       "    <tr>\n",
       "      <th>3</th>\n",
       "      <td>THAILAND</td>\n",
       "      <td>2023-10-23</td>\n",
       "      <td>MS</td>\n",
       "      <td>4</td>\n",
       "      <td>79778</td>\n",
       "      <td>KUNLAVUT VITIDSARN</td>\n",
       "    </tr>\n",
       "    <tr>\n",
       "      <th>4</th>\n",
       "      <td>CHINA</td>\n",
       "      <td>2023-10-23</td>\n",
       "      <td>MS</td>\n",
       "      <td>5</td>\n",
       "      <td>78548</td>\n",
       "      <td>LI SHIFENG</td>\n",
       "    </tr>\n",
       "    <tr>\n",
       "      <th>...</th>\n",
       "      <td>...</td>\n",
       "      <td>...</td>\n",
       "      <td>...</td>\n",
       "      <td>...</td>\n",
       "      <td>...</td>\n",
       "      <td>...</td>\n",
       "    </tr>\n",
       "    <tr>\n",
       "      <th>6995</th>\n",
       "      <td>CHINA</td>\n",
       "      <td>2023-07-24</td>\n",
       "      <td>XD</td>\n",
       "      <td>96</td>\n",
       "      <td>11180</td>\n",
       "      <td>GUO XINWA / ZHANG SHUXIAN</td>\n",
       "    </tr>\n",
       "    <tr>\n",
       "      <th>6996</th>\n",
       "      <td>GERMANY</td>\n",
       "      <td>2023-07-24</td>\n",
       "      <td>XD</td>\n",
       "      <td>97</td>\n",
       "      <td>11160</td>\n",
       "      <td>MALIK BOURAKKADI / LEONA MICHALSKI</td>\n",
       "    </tr>\n",
       "    <tr>\n",
       "      <th>6997</th>\n",
       "      <td>INDIA</td>\n",
       "      <td>2023-07-24</td>\n",
       "      <td>XD</td>\n",
       "      <td>98</td>\n",
       "      <td>11100</td>\n",
       "      <td>SAIPRATHEEK. K KRISHNAPRASAD / TANISHA CRASTO</td>\n",
       "    </tr>\n",
       "    <tr>\n",
       "      <th>6998</th>\n",
       "      <td>MEXICO</td>\n",
       "      <td>2023-07-24</td>\n",
       "      <td>XD</td>\n",
       "      <td>99</td>\n",
       "      <td>11048</td>\n",
       "      <td>LUIS ARMANDO MONTOYA NAVARRO / MIRIAM JACQUELI...</td>\n",
       "    </tr>\n",
       "    <tr>\n",
       "      <th>6999</th>\n",
       "      <td>PERU</td>\n",
       "      <td>2023-07-24</td>\n",
       "      <td>XD</td>\n",
       "      <td>100</td>\n",
       "      <td>10923</td>\n",
       "      <td>DIEGO MINI / PAULA LA TORRE REGAL</td>\n",
       "    </tr>\n",
       "  </tbody>\n",
       "</table>\n",
       "<p>7000 rows × 6 columns</p>\n",
       "</div>"
      ],
      "text/plain": [
       "        country        date draw  rank  points  \\\n",
       "0       DENMARK  2023-10-23   MS     1  107455   \n",
       "1     INDONESIA  2023-10-23   MS     2   86611   \n",
       "2         JAPAN  2023-10-23   MS     3   82015   \n",
       "3      THAILAND  2023-10-23   MS     4   79778   \n",
       "4         CHINA  2023-10-23   MS     5   78548   \n",
       "...         ...         ...  ...   ...     ...   \n",
       "6995      CHINA  2023-07-24   XD    96   11180   \n",
       "6996    GERMANY  2023-07-24   XD    97   11160   \n",
       "6997      INDIA  2023-07-24   XD    98   11100   \n",
       "6998     MEXICO  2023-07-24   XD    99   11048   \n",
       "6999       PERU  2023-07-24   XD   100   10923   \n",
       "\n",
       "                                                   name  \n",
       "0                                        VIKTOR AXELSEN  \n",
       "1                              ANTHONY SINISUKA GINTING  \n",
       "2                                         KODAI NARAOKA  \n",
       "3                                    KUNLAVUT VITIDSARN  \n",
       "4                                            LI SHIFENG  \n",
       "...                                                 ...  \n",
       "6995                          GUO XINWA / ZHANG SHUXIAN  \n",
       "6996                 MALIK BOURAKKADI / LEONA MICHALSKI  \n",
       "6997      SAIPRATHEEK. K KRISHNAPRASAD / TANISHA CRASTO  \n",
       "6998  LUIS ARMANDO MONTOYA NAVARRO / MIRIAM JACQUELI...  \n",
       "6999                  DIEGO MINI / PAULA LA TORRE REGAL  \n",
       "\n",
       "[7000 rows x 6 columns]"
      ]
     },
     "execution_count": 19,
     "metadata": {},
     "output_type": "execute_result"
    }
   ],
   "source": [
    "delta_prep['date'] = delta_prep['date-draw'].str[0]\n",
    "delta_prep['draw'] = delta_prep['date-draw'].str[1]\n",
    "\n",
    "delta_prep['rank'] = delta_prep['to_split'].str.split(' ').str[-3]\n",
    "delta_prep['rank'] = delta_prep['rank'].astype('int')\n",
    "\n",
    "delta_prep['points'] = delta_prep['to_split'].str.split(' ').str[-1]\n",
    "delta_prep['points'] = delta_prep['points'].astype('int')\n",
    "\n",
    "delta_prep['draw'] = delta_prep['to_split'].str.split(' ').str[-2]\n",
    "\n",
    "delta_prep['name'] = delta_prep['to_split'].str.split(' ').str[0:-3]\n",
    "delta_prep['name'] = delta_prep['name'].apply(lambda x: ','.join(map(str, x)))\n",
    "delta_prep['name'] = delta_prep['name'].str.replace(',',' ').str.upper()\n",
    "\n",
    "delta_prep['country'] = delta_prep['country'].str.upper()\n",
    "\n",
    "delta_prep = delta_prep.drop(['date-draw','to_split', 'to_drop'], axis = 1)\n",
    "\n",
    "delta_prep"
   ]
  },
  {
   "cell_type": "markdown",
   "metadata": {},
   "source": [
    "### MERGING DATA"
   ]
  },
  {
   "cell_type": "code",
   "execution_count": 20,
   "metadata": {},
   "outputs": [],
   "source": [
    "data_full = pd.concat([delta_prep, data_old], ignore_index=True)"
   ]
  },
  {
   "cell_type": "code",
   "execution_count": 21,
   "metadata": {},
   "outputs": [
    {
     "data": {
      "text/html": [
       "<div>\n",
       "<style scoped>\n",
       "    .dataframe tbody tr th:only-of-type {\n",
       "        vertical-align: middle;\n",
       "    }\n",
       "\n",
       "    .dataframe tbody tr th {\n",
       "        vertical-align: top;\n",
       "    }\n",
       "\n",
       "    .dataframe thead th {\n",
       "        text-align: right;\n",
       "    }\n",
       "</style>\n",
       "<table border=\"1\" class=\"dataframe\">\n",
       "  <thead>\n",
       "    <tr style=\"text-align: right;\">\n",
       "      <th></th>\n",
       "      <th>country</th>\n",
       "      <th>date</th>\n",
       "      <th>draw</th>\n",
       "      <th>rank</th>\n",
       "      <th>points</th>\n",
       "      <th>name</th>\n",
       "    </tr>\n",
       "  </thead>\n",
       "  <tbody>\n",
       "    <tr>\n",
       "      <th>0</th>\n",
       "      <td>DENMARK</td>\n",
       "      <td>2023-10-23</td>\n",
       "      <td>MS</td>\n",
       "      <td>1</td>\n",
       "      <td>107455</td>\n",
       "      <td>VIKTOR AXELSEN</td>\n",
       "    </tr>\n",
       "    <tr>\n",
       "      <th>1</th>\n",
       "      <td>INDONESIA</td>\n",
       "      <td>2023-10-23</td>\n",
       "      <td>MS</td>\n",
       "      <td>2</td>\n",
       "      <td>86611</td>\n",
       "      <td>ANTHONY SINISUKA GINTING</td>\n",
       "    </tr>\n",
       "    <tr>\n",
       "      <th>2</th>\n",
       "      <td>JAPAN</td>\n",
       "      <td>2023-10-23</td>\n",
       "      <td>MS</td>\n",
       "      <td>3</td>\n",
       "      <td>82015</td>\n",
       "      <td>KODAI NARAOKA</td>\n",
       "    </tr>\n",
       "    <tr>\n",
       "      <th>3</th>\n",
       "      <td>THAILAND</td>\n",
       "      <td>2023-10-23</td>\n",
       "      <td>MS</td>\n",
       "      <td>4</td>\n",
       "      <td>79778</td>\n",
       "      <td>KUNLAVUT VITIDSARN</td>\n",
       "    </tr>\n",
       "    <tr>\n",
       "      <th>4</th>\n",
       "      <td>CHINA</td>\n",
       "      <td>2023-10-23</td>\n",
       "      <td>MS</td>\n",
       "      <td>5</td>\n",
       "      <td>78548</td>\n",
       "      <td>LI SHIFENG</td>\n",
       "    </tr>\n",
       "  </tbody>\n",
       "</table>\n",
       "</div>"
      ],
      "text/plain": [
       "     country        date draw  rank  points                      name\n",
       "0    DENMARK  2023-10-23   MS     1  107455            VIKTOR AXELSEN\n",
       "1  INDONESIA  2023-10-23   MS     2   86611  ANTHONY SINISUKA GINTING\n",
       "2      JAPAN  2023-10-23   MS     3   82015             KODAI NARAOKA\n",
       "3   THAILAND  2023-10-23   MS     4   79778        KUNLAVUT VITIDSARN\n",
       "4      CHINA  2023-10-23   MS     5   78548                LI SHIFENG"
      ]
     },
     "execution_count": 21,
     "metadata": {},
     "output_type": "execute_result"
    }
   ],
   "source": [
    "data_full.head()"
   ]
  },
  {
   "cell_type": "code",
   "execution_count": 22,
   "metadata": {},
   "outputs": [],
   "source": [
    "data_full.to_csv('bwf_historic_rankings.csv')"
   ]
  },
  {
   "cell_type": "markdown",
   "metadata": {},
   "source": [
    "### DATA QUALITY CHECKS"
   ]
  },
  {
   "cell_type": "code",
   "execution_count": 23,
   "metadata": {},
   "outputs": [
    {
     "data": {
      "text/plain": [
       "date\n",
       "2023-10-23    500\n",
       "2000-10-23    500\n",
       "2000-11-06    500\n",
       "2000-11-13    500\n",
       "2000-11-20    500\n",
       "             ... \n",
       "2012-01-09    500\n",
       "2012-01-16    500\n",
       "2012-01-23    500\n",
       "2012-01-30    500\n",
       "1990-01-01    500\n",
       "Name: count, Length: 1720, dtype: int64"
      ]
     },
     "execution_count": 23,
     "metadata": {},
     "output_type": "execute_result"
    }
   ],
   "source": [
    "data_full['date'].value_counts()"
   ]
  },
  {
   "cell_type": "code",
   "execution_count": 24,
   "metadata": {},
   "outputs": [
    {
     "data": {
      "text/plain": [
       "rank\n",
       "1      8600\n",
       "64     8600\n",
       "74     8600\n",
       "73     8600\n",
       "72     8600\n",
       "       ... \n",
       "31     8600\n",
       "30     8600\n",
       "29     8600\n",
       "28     8600\n",
       "100    8600\n",
       "Name: count, Length: 100, dtype: int64"
      ]
     },
     "execution_count": 24,
     "metadata": {},
     "output_type": "execute_result"
    }
   ],
   "source": [
    "data_full['rank'].value_counts()"
   ]
  },
  {
   "attachments": {},
   "cell_type": "markdown",
   "metadata": {},
   "source": [
    "## SCRAPPING TOURNAMENTS DATA"
   ]
  },
  {
   "cell_type": "code",
   "execution_count": 70,
   "metadata": {},
   "outputs": [],
   "source": [
    "driver = webdriver.Chrome()\n",
    "l_final = []\n",
    "months = ['JANUARY', 'FEBRUARY', 'MARCH', 'APRIL', 'MAY', 'JUNE', 'JULY', 'AUGUST', 'SEPTEMBER', 'OCTOBER', 'NOVEMBER', 'DECEMBER']\n",
    "\n",
    "for year in range(2018, 2024):\n",
    "    \n",
    "    driver.get('https://bwfworldtour.bwfbadminton.com/calendar/?cyear='+str(year))\n",
    "    \n",
    "    l_tour = driver.find_element(By.XPATH, '//*[@id=\"page\"]/div/div[1]/div/div/div/div').text.split('\\n')\n",
    "    l_tour = [x for x in l_tour if x not in months]\n",
    "    \n",
    "    for x in range(5, len(l_tour), 5):\n",
    "    \n",
    "        l_final.append(l_tour[x-5:x])"
   ]
  },
  {
   "cell_type": "code",
   "execution_count": 71,
   "metadata": {},
   "outputs": [
    {
     "data": {
      "text/html": [
       "<div>\n",
       "<style scoped>\n",
       "    .dataframe tbody tr th:only-of-type {\n",
       "        vertical-align: middle;\n",
       "    }\n",
       "\n",
       "    .dataframe tbody tr th {\n",
       "        vertical-align: top;\n",
       "    }\n",
       "\n",
       "    .dataframe thead th {\n",
       "        text-align: right;\n",
       "    }\n",
       "</style>\n",
       "<table border=\"1\" class=\"dataframe\">\n",
       "  <thead>\n",
       "    <tr style=\"text-align: right;\">\n",
       "      <th></th>\n",
       "      <th>0</th>\n",
       "      <th>1</th>\n",
       "      <th>2</th>\n",
       "      <th>3</th>\n",
       "      <th>4</th>\n",
       "    </tr>\n",
       "  </thead>\n",
       "  <tbody>\n",
       "    <tr>\n",
       "      <th>0</th>\n",
       "      <td>PRINCESS SIRIVANNAVARI Thailand Masters 2018</td>\n",
       "      <td>09 - 14 JANUARY</td>\n",
       "      <td>PRIZE MONEY USD $150,000</td>\n",
       "      <td>Bangkok</td>\n",
       "      <td>Thailand</td>\n",
       "    </tr>\n",
       "    <tr>\n",
       "      <th>1</th>\n",
       "      <td>PERODUA Malaysia Masters 2018</td>\n",
       "      <td>16 - 21 JANUARY</td>\n",
       "      <td>PRIZE MONEY USD $350,000</td>\n",
       "      <td>Bukit Jalil</td>\n",
       "      <td>Malaysia</td>\n",
       "    </tr>\n",
       "    <tr>\n",
       "      <th>2</th>\n",
       "      <td>DAIHATSU Indonesia Masters 2018</td>\n",
       "      <td>23 - 28 JANUARY</td>\n",
       "      <td>PRIZE MONEY USD $350,000</td>\n",
       "      <td>Jakarta</td>\n",
       "      <td>Indonesia</td>\n",
       "    </tr>\n",
       "    <tr>\n",
       "      <th>3</th>\n",
       "      <td>YONEX-SUNRISE DR. AKHILESH DAS GUPTA India Ope...</td>\n",
       "      <td>30 JANUARY - 04 FEBRUARY</td>\n",
       "      <td>PRIZE MONEY USD $350,000</td>\n",
       "      <td>New Delhi</td>\n",
       "      <td>India</td>\n",
       "    </tr>\n",
       "    <tr>\n",
       "      <th>4</th>\n",
       "      <td>YONEX Swiss Open 2018</td>\n",
       "      <td>20 - 25 FEBRUARY</td>\n",
       "      <td>PRIZE MONEY USD $150,000</td>\n",
       "      <td>Basel</td>\n",
       "      <td>Switzerland</td>\n",
       "    </tr>\n",
       "    <tr>\n",
       "      <th>...</th>\n",
       "      <td>...</td>\n",
       "      <td>...</td>\n",
       "      <td>...</td>\n",
       "      <td>...</td>\n",
       "      <td>...</td>\n",
       "    </tr>\n",
       "    <tr>\n",
       "      <th>106</th>\n",
       "      <td>SimInvest Indonesia Open 2021(New dates)</td>\n",
       "      <td>23 - 28 NOVEMBER</td>\n",
       "      <td>PRIZE MONEY USD $850,000</td>\n",
       "      <td>Bali</td>\n",
       "      <td>Indonesia</td>\n",
       "    </tr>\n",
       "    <tr>\n",
       "      <th>107</th>\n",
       "      <td>Korea Masters 2023</td>\n",
       "      <td>07 - 12 NOVEMBER</td>\n",
       "      <td>PRIZE MONEY USD $210,000</td>\n",
       "      <td>Gwangju</td>\n",
       "      <td>Korea</td>\n",
       "    </tr>\n",
       "    <tr>\n",
       "      <th>108</th>\n",
       "      <td>Kumamoto Masters Japan 2023</td>\n",
       "      <td>14 - 19 NOVEMBER</td>\n",
       "      <td>PRIZE MONEY USD $420,000</td>\n",
       "      <td>Kumamoto</td>\n",
       "      <td>Japan</td>\n",
       "    </tr>\n",
       "    <tr>\n",
       "      <th>109</th>\n",
       "      <td>China Masters 2023</td>\n",
       "      <td>21 - 26 NOVEMBER</td>\n",
       "      <td>PRIZE MONEY USD $1,000,000</td>\n",
       "      <td>Shenzhen</td>\n",
       "      <td>China</td>\n",
       "    </tr>\n",
       "    <tr>\n",
       "      <th>110</th>\n",
       "      <td>Syed Modi India International 2023</td>\n",
       "      <td>28 NOVEMBER - 03 DECEMBER</td>\n",
       "      <td>PRIZE MONEY USD $210,000</td>\n",
       "      <td>Lucknow</td>\n",
       "      <td>India</td>\n",
       "    </tr>\n",
       "  </tbody>\n",
       "</table>\n",
       "<p>111 rows × 5 columns</p>\n",
       "</div>"
      ],
      "text/plain": [
       "                                                     0  \\\n",
       "0         PRINCESS SIRIVANNAVARI Thailand Masters 2018   \n",
       "1                        PERODUA Malaysia Masters 2018   \n",
       "2                      DAIHATSU Indonesia Masters 2018   \n",
       "3    YONEX-SUNRISE DR. AKHILESH DAS GUPTA India Ope...   \n",
       "4                                YONEX Swiss Open 2018   \n",
       "..                                                 ...   \n",
       "106           SimInvest Indonesia Open 2021(New dates)   \n",
       "107                                 Korea Masters 2023   \n",
       "108                        Kumamoto Masters Japan 2023   \n",
       "109                                 China Masters 2023   \n",
       "110                 Syed Modi India International 2023   \n",
       "\n",
       "                             1                           2            3  \\\n",
       "0              09 - 14 JANUARY    PRIZE MONEY USD $150,000      Bangkok   \n",
       "1              16 - 21 JANUARY    PRIZE MONEY USD $350,000  Bukit Jalil   \n",
       "2              23 - 28 JANUARY    PRIZE MONEY USD $350,000      Jakarta   \n",
       "3     30 JANUARY - 04 FEBRUARY    PRIZE MONEY USD $350,000    New Delhi   \n",
       "4             20 - 25 FEBRUARY    PRIZE MONEY USD $150,000        Basel   \n",
       "..                         ...                         ...          ...   \n",
       "106           23 - 28 NOVEMBER    PRIZE MONEY USD $850,000         Bali   \n",
       "107           07 - 12 NOVEMBER    PRIZE MONEY USD $210,000      Gwangju   \n",
       "108           14 - 19 NOVEMBER    PRIZE MONEY USD $420,000     Kumamoto   \n",
       "109           21 - 26 NOVEMBER  PRIZE MONEY USD $1,000,000     Shenzhen   \n",
       "110  28 NOVEMBER - 03 DECEMBER    PRIZE MONEY USD $210,000      Lucknow   \n",
       "\n",
       "               4  \n",
       "0       Thailand  \n",
       "1       Malaysia  \n",
       "2      Indonesia  \n",
       "3          India  \n",
       "4    Switzerland  \n",
       "..           ...  \n",
       "106    Indonesia  \n",
       "107        Korea  \n",
       "108        Japan  \n",
       "109        China  \n",
       "110        India  \n",
       "\n",
       "[111 rows x 5 columns]"
      ]
     },
     "execution_count": 71,
     "metadata": {},
     "output_type": "execute_result"
    }
   ],
   "source": [
    "df = pd.DataFrame(l_final)\n",
    "df"
   ]
  },
  {
   "cell_type": "code",
   "execution_count": 41,
   "metadata": {},
   "outputs": [
    {
     "name": "stdout",
     "output_type": "stream",
     "text": [
      "https://bwfworldtour.bwfbadminton.com/tournament/3139/princess-sirivannavari-thailand-masters-2018\n",
      "https://bwfworldtour.bwfbadminton.com/tournament/3143/perodua-malaysia-masters-2018\n",
      "https://bwfworldtour.bwfbadminton.com/tournament/3140/daihatsu-indonesia-masters-2018\n",
      "https://bwfworldtour.bwfbadminton.com/tournament/3170/yonex-sunrise-dr-akhilesh-das-gupta-india-open-2018\n",
      "https://bwfworldtour.bwfbadminton.com/tournament/3144/yonex-swiss-open-2018\n",
      "https://bwfworldtour.bwfbadminton.com/tournament/3146/yonex-german-open-2018\n",
      "https://bwfworldtour.bwfbadminton.com/tournament/3141/yonex-all-england-open-2018\n",
      "https://bwfworldtour.bwfbadminton.com/tournament/3147/barfoot-thompson-new-zealand-open-2018\n",
      "https://bwfworldtour.bwfbadminton.com/tournament/3148/crown-group-australian-open-2018\n",
      "https://bwfworldtour.bwfbadminton.com/tournament/3216/2018-yonex-us-open\n",
      "https://bwfworldtour.bwfbadminton.com/tournament/3142/celcom-axiata-malaysia-open-2018\n",
      "https://bwfworldtour.bwfbadminton.com/tournament/3149/blibli-indonesia-open-2018\n",
      "https://bwfworldtour.bwfbadminton.com/tournament/3150/toyota-thailand-open-2018\n",
      "https://bwfworldtour.bwfbadminton.com/tournament/3151/singapore-open-2018\n",
      "https://bwfworldtour.bwfbadminton.com/tournament/3145/barcelona-spain-masters-2018\n",
      "https://bwfworldtour.bwfbadminton.com/tournament/3152/daihatsu-yonex-japan-open-2018\n",
      "https://bwfworldtour.bwfbadminton.com/tournament/3153/victor-china-open-2018\n",
      "https://bwfworldtour.bwfbadminton.com/tournament/3154/victor-korea-open-2018\n",
      "https://bwfworldtour.bwfbadminton.com/tournament/3156/danisa-denmark-open-2018\n",
      "https://bwfworldtour.bwfbadminton.com/tournament/3157/yonex-french-open-2018\n",
      "https://bwfworldtour.bwfbadminton.com/tournament/3158/macau-open-2018\n",
      "https://bwfworldtour.bwfbadminton.com/tournament/3159/fuzhou-china-open-2018\n",
      "https://bwfworldtour.bwfbadminton.com/tournament/3337/yonex-sunrise-hong-kong-open-2018\n",
      "https://bwfworldtour.bwfbadminton.com/tournament/3171/syed-modi-international-badminton-championships-2018\n",
      "https://bwfworldtour.bwfbadminton.com/tournament/3161/gwangju-korea-masters-2018\n"
     ]
    }
   ],
   "source": [
    "lnks=driver.find_elements(By.TAG_NAME, \"a\")\n",
    "\n",
    "for lnk in lnks:\n",
    "   if \"tournament\" in lnk.get_attribute('href'):\n",
    "      print(lnk.get_attribute('href'))"
   ]
  },
  {
   "cell_type": "code",
   "execution_count": null,
   "metadata": {},
   "outputs": [],
   "source": []
  }
 ],
 "metadata": {
  "hide_input": false,
  "kernelspec": {
   "display_name": "Python 3.10.5 64-bit",
   "language": "python",
   "name": "python3"
  },
  "language_info": {
   "codemirror_mode": {
    "name": "ipython",
    "version": 3
   },
   "file_extension": ".py",
   "mimetype": "text/x-python",
   "name": "python",
   "nbconvert_exporter": "python",
   "pygments_lexer": "ipython3",
   "version": "3.11.8"
  },
  "toc": {
   "base_numbering": 1,
   "nav_menu": {},
   "number_sections": true,
   "sideBar": true,
   "skip_h1_title": false,
   "title_cell": "Table of Contents",
   "title_sidebar": "Contents",
   "toc_cell": false,
   "toc_position": {},
   "toc_section_display": true,
   "toc_window_display": false
  },
  "vscode": {
   "interpreter": {
    "hash": "38ab5aec3b6b6d2a13455cf3c0e7673913054737acc71c96a9f271dcbc4106af"
   }
  }
 },
 "nbformat": 4,
 "nbformat_minor": 4
}

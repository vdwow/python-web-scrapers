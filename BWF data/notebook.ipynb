{
 "cells": [
  {
   "attachments": {},
   "cell_type": "markdown",
   "metadata": {},
   "source": [
    "## IMPORTING LIBRARIES"
   ]
  },
  {
   "cell_type": "code",
   "execution_count": 1,
   "metadata": {
    "ExecuteTime": {
     "end_time": "2021-11-24T16:23:43.921478Z",
     "start_time": "2021-11-24T16:23:42.563633Z"
    }
   },
   "outputs": [],
   "source": [
    "import pandas as pd\n",
    "from selenium import webdriver\n",
    "import time\n",
    "import datetime\n",
    "#\n",
    "from selenium.webdriver.common.keys import Keys\n",
    "from selenium.webdriver import ActionChains\n",
    "from selenium.common.exceptions import NoSuchElementException\n",
    "from selenium.webdriver.common.by import By\n",
    "from selenium.webdriver.support.ui import Select\n",
    "#\n",
    "import bs4\n",
    "import urllib\n",
    "#\n",
    "import random"
   ]
  },
  {
   "attachments": {},
   "cell_type": "markdown",
   "metadata": {},
   "source": [
    "## SCRAPPING RANKING DATA"
   ]
  },
  {
   "cell_type": "code",
   "execution_count": null,
   "metadata": {},
   "outputs": [],
   "source": [
    "data_old = pd.read_csv('bwf_historic_rankings.csv')\n",
    "data_old = data_old.drop('Unnamed: 0', axis = 1)"
   ]
  },
  {
   "cell_type": "code",
   "execution_count": null,
   "metadata": {},
   "outputs": [],
   "source": [
    "data_old.head()"
   ]
  },
  {
   "cell_type": "code",
   "execution_count": null,
   "metadata": {},
   "outputs": [],
   "source": [
    "last_fetched_date = data_old['date'].max()\n",
    "last_fetched_date = '2022-08-15'"
   ]
  },
  {
   "cell_type": "code",
   "execution_count": null,
   "metadata": {},
   "outputs": [],
   "source": [
    "last_fetched_date"
   ]
  },
  {
   "cell_type": "code",
   "execution_count": null,
   "metadata": {
    "ExecuteTime": {
     "end_time": "2021-10-27T19:07:35.234928Z",
     "start_time": "2021-10-27T19:07:33.374036Z"
    }
   },
   "outputs": [],
   "source": [
    "driver = webdriver.Chrome()\n",
    "\n",
    "driver.get('https://badmintonstatistics.net/Rankings')\n",
    "driver.maximize_window()"
   ]
  },
  {
   "cell_type": "code",
   "execution_count": null,
   "metadata": {},
   "outputs": [],
   "source": [
    "select = Select(driver.find_element(By.XPATH, '//*[@id=\"rankingPeriodsSelect\"]'))\n",
    "# select by visible text\n",
    "select.select_by_index('0')"
   ]
  },
  {
   "cell_type": "code",
   "execution_count": null,
   "metadata": {},
   "outputs": [],
   "source": [
    "#getting last ID vs historic data\n",
    "last_current_week = driver.find_element(By.XPATH, '//*[@id=\"rankingPeriodsSelect\"]/option[1]').text.replace('/', '-')\n",
    "last_current_week"
   ]
  },
  {
   "cell_type": "code",
   "execution_count": null,
   "metadata": {
    "ExecuteTime": {
     "end_time": "2021-10-27T19:49:09.971782Z",
     "start_time": "2021-10-27T19:49:09.956768Z"
    }
   },
   "outputs": [],
   "source": [
    "dic_ranking = {'date':[], 'draw':[], 'top_100':[]}"
   ]
  },
  {
   "cell_type": "code",
   "execution_count": null,
   "metadata": {},
   "outputs": [],
   "source": [
    "last_fetched_date"
   ]
  },
  {
   "cell_type": "code",
   "execution_count": null,
   "metadata": {},
   "outputs": [],
   "source": [
    "date_listing = driver.find_element(By.XPATH, '//*[@id=\"rankingPeriodsSelect\"]').text\n",
    "date_listing = date_listing.replace(' ','').replace('/','-').split('\\n')\n",
    "date_listing = [x[6:10] + '-' + x[3:5] + '-' + x[0:2] for x in date_listing]\n",
    "date_listing[0:5]"
   ]
  },
  {
   "cell_type": "code",
   "execution_count": null,
   "metadata": {},
   "outputs": [],
   "source": [
    "date_listing_filtered = [x for x in date_listing if x > last_fetched_date]\n",
    "display(date_listing_filtered[:5])\n",
    "display(date_listing_filtered[-5:])"
   ]
  },
  {
   "cell_type": "code",
   "execution_count": null,
   "metadata": {
    "ExecuteTime": {
     "end_time": "2021-10-27T21:14:20.751485Z",
     "start_time": "2021-10-27T20:49:50.118567Z"
    }
   },
   "outputs": [],
   "source": [
    "for date in date_listing_filtered:\n",
    "\n",
    "    for draw in ['MS','WS','MD','WD','XD']:\n",
    "        \n",
    "        driver.get('https://badmintonstatistics.net/Rankings?date=' + date + '&category=' + draw + '&country=%&page=1&pagesize=100')\n",
    "\n",
    "        top_100 = driver.find_element(By.XPATH, '//*[@id=\"RankingList\"]/div[2]/table/tbody')\n",
    "\n",
    "        dic_ranking['date'].append(date)\n",
    "        dic_ranking['draw'].append(draw)\n",
    "        dic_ranking['top_100'].append(top_100.text)\n",
    "\n",
    "        #time.sleep(random.randint(3,5))"
   ]
  },
  {
   "cell_type": "code",
   "execution_count": null,
   "metadata": {},
   "outputs": [],
   "source": [
    "driver.get('https://badmintonstatistics.net/Rankings?date=' + date + '&category=' + draw + '&country=%&page=1&pagesize=100')"
   ]
  },
  {
   "cell_type": "code",
   "execution_count": null,
   "metadata": {},
   "outputs": [],
   "source": [
    "driver.find_element(By.XPATH, '//*[@id=\"RankingList\"]/div[2]/table/tbody/tr[1]/td[2]/img[2]').text"
   ]
  },
  {
   "cell_type": "code",
   "execution_count": null,
   "metadata": {},
   "outputs": [],
   "source": [
    "driver.find_element(By.XPATH, '//*[@id=\"RankingList\"]/div[2]/table/tbody').item"
   ]
  },
  {
   "cell_type": "code",
   "execution_count": null,
   "metadata": {},
   "outputs": [],
   "source": [
    "dic_ranking['top_100'].append(top_100.text)"
   ]
  },
  {
   "cell_type": "code",
   "execution_count": null,
   "metadata": {
    "ExecuteTime": {
     "end_time": "2021-10-27T21:15:12.428438Z",
     "start_time": "2021-10-27T21:15:12.409420Z"
    }
   },
   "outputs": [],
   "source": [
    "delta = pd.DataFrame.from_dict(dic_ranking)\n",
    "delta"
   ]
  },
  {
   "cell_type": "code",
   "execution_count": null,
   "metadata": {
    "ExecuteTime": {
     "end_time": "2021-10-27T21:15:43.724489Z",
     "start_time": "2021-10-27T21:15:43.149967Z"
    }
   },
   "outputs": [],
   "source": [
    "delta.to_csv('export_delta_top100_bwf.csv')"
   ]
  },
  {
   "cell_type": "markdown",
   "metadata": {},
   "source": [
    "## CLEANING DATA"
   ]
  },
  {
   "cell_type": "code",
   "execution_count": null,
   "metadata": {},
   "outputs": [],
   "source": [
    "def prep_data(df):\n",
    "\n",
    "    df = pd.DataFrame(df.top_100.str.split('\\n').tolist(), index=df[['date','draw']]).stack().reset_index()\n",
    "    \n",
    "    df.columns = ['date / draw', 'to_drop', 'content']\n",
    "\n",
    "    df['date'] = df['date / draw'].str[0]\n",
    "\n",
    "    df['draw'] = df['date / draw'].str[1]\n",
    "\n",
    "    df['rank'] = df['content'].str.split(' ', 1).str[0]\n",
    "\n",
    "    df['points'] = df['content'].str.split(' ').str[-1]\n",
    "\n",
    "    df['country'] = df['content'].str.split(' ').str[-3].str.upper()\n",
    "    \n",
    "    df['name'] = df['content'].str.split(' ').str[1:-3]\n",
    "\n",
    "    df['country'] = df['country'].str.replace('KONG','HONG KONG')\n",
    "    df['country'] = df['country'].str.replace('TAIPEI','CHINESE TAIPEI')\n",
    "    \n",
    "    df['name'] = df['name'].apply(lambda x: ','.join(map(str, x)))\n",
    "    df['name'] = df['name'].str.replace(',',' ').str.upper()\n",
    "    df['name'] = df['name'].str.replace('CHINESE','')\n",
    "    \n",
    "    df['points'] = df['points'].astype('int')\n",
    "    \n",
    "    df['rank'] = df['rank'].astype('int')\n",
    "\n",
    "    df = df.drop(['date / draw','content', 'to_drop'], axis = 1)\n",
    "    \n",
    "    display(df.info())\n",
    "    display(df.head())\n",
    "    \n",
    "    return df"
   ]
  },
  {
   "cell_type": "code",
   "execution_count": null,
   "metadata": {},
   "outputs": [],
   "source": [
    "pd.DataFrame(delta.top_100.str.split('\\n').tolist(), index=delta[['date','draw']]).stack().reset_index()"
   ]
  },
  {
   "cell_type": "code",
   "execution_count": null,
   "metadata": {
    "ExecuteTime": {
     "end_time": "2021-11-24T16:25:08.785938Z",
     "start_time": "2021-11-24T16:25:01.073953Z"
    }
   },
   "outputs": [],
   "source": [
    "delta_prep = prep_data(delta)"
   ]
  },
  {
   "cell_type": "code",
   "execution_count": null,
   "metadata": {},
   "outputs": [],
   "source": [
    "print(delta_prep.shape)\n",
    "print(data_old.shape)"
   ]
  },
  {
   "cell_type": "code",
   "execution_count": null,
   "metadata": {},
   "outputs": [],
   "source": [
    "data_full = pd.concat([delta_prep, data_old], ignore_index=True)"
   ]
  },
  {
   "cell_type": "code",
   "execution_count": null,
   "metadata": {},
   "outputs": [],
   "source": [
    "data_full.head()"
   ]
  },
  {
   "cell_type": "code",
   "execution_count": null,
   "metadata": {},
   "outputs": [],
   "source": [
    "data_full.to_csv('bwf_historic_rankings.csv')"
   ]
  },
  {
   "attachments": {},
   "cell_type": "markdown",
   "metadata": {},
   "source": [
    "## SCRAPPING TOURNAMENTS DATA"
   ]
  },
  {
   "cell_type": "code",
   "execution_count": 2,
   "metadata": {},
   "outputs": [],
   "source": [
    "driver = webdriver.Chrome()\n",
    "\n",
    "driver.get('https://bwfworldtour.bwfbadminton.com/calendar/?cyear=2018')\n",
    "driver.maximize_window()"
   ]
  },
  {
   "cell_type": "code",
   "execution_count": 3,
   "metadata": {},
   "outputs": [
    {
     "data": {
      "text/plain": [
       "['JANUARY',\n",
       " 'PRINCESS SIRIVANNAVARI Thailand Masters 2018',\n",
       " '09 - 14 JANUARY',\n",
       " 'PRIZE MONEY USD $150,000',\n",
       " 'Bangkok',\n",
       " 'Thailand',\n",
       " 'PERODUA Malaysia Masters 2018',\n",
       " '16 - 21 JANUARY',\n",
       " 'PRIZE MONEY USD $350,000',\n",
       " 'Bukit Jalil']"
      ]
     },
     "execution_count": 3,
     "metadata": {},
     "output_type": "execute_result"
    }
   ],
   "source": [
    "driver.find_element(By.XPATH, '//*[@id=\"page\"]/div/div[1]/div/div/div/div').text.split('\\n')[:10]"
   ]
  },
  {
   "cell_type": "code",
   "execution_count": 5,
   "metadata": {},
   "outputs": [],
   "source": [
    "# identify elements with tagname <a>\n",
    "lnks=driver.find_elements(By.TAG_NAME, \"a\")\n",
    "# traverse list\n",
    "for lnk in lnks:\n",
    "   # get_attribute() to get all href\n",
    "   print(lnk.get_attribute(href))"
   ]
  },
  {
   "cell_type": "code",
   "execution_count": null,
   "metadata": {},
   "outputs": [],
   "source": [
    "driver.find_element(By.XPATH, '/html/body/div[2]/div/div[1]/div/div/div/div').href"
   ]
  },
  {
   "cell_type": "code",
   "execution_count": null,
   "metadata": {},
   "outputs": [],
   "source": [
    "elems = driver.find_elements(By.XPATH, \"/html/body/div[2]/div/div[1]/div/div/div/div\")\n",
    "for elem in elems:\n",
    "    print(elem.get_attribute(\"href\"))"
   ]
  }
 ],
 "metadata": {
  "hide_input": false,
  "kernelspec": {
   "display_name": "Python 3.10.5 64-bit",
   "language": "python",
   "name": "python3"
  },
  "language_info": {
   "codemirror_mode": {
    "name": "ipython",
    "version": 3
   },
   "file_extension": ".py",
   "mimetype": "text/x-python",
   "name": "python",
   "nbconvert_exporter": "python",
   "pygments_lexer": "ipython3",
   "version": "3.10.5 (tags/v3.10.5:f377153, Jun  6 2022, 16:14:13) [MSC v.1929 64 bit (AMD64)]"
  },
  "toc": {
   "base_numbering": 1,
   "nav_menu": {},
   "number_sections": true,
   "sideBar": true,
   "skip_h1_title": false,
   "title_cell": "Table of Contents",
   "title_sidebar": "Contents",
   "toc_cell": false,
   "toc_position": {},
   "toc_section_display": true,
   "toc_window_display": false
  },
  "vscode": {
   "interpreter": {
    "hash": "38ab5aec3b6b6d2a13455cf3c0e7673913054737acc71c96a9f271dcbc4106af"
   }
  }
 },
 "nbformat": 4,
 "nbformat_minor": 4
}

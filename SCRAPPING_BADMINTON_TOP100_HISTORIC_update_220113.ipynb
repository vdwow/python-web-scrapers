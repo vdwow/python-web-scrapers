{
 "cells": [
  {
   "cell_type": "code",
   "execution_count": 2,
   "metadata": {
    "ExecuteTime": {
     "end_time": "2021-11-24T16:23:43.921478Z",
     "start_time": "2021-11-24T16:23:42.563633Z"
    }
   },
   "outputs": [],
   "source": [
    "import pandas as pd\n",
    "from selenium import webdriver\n",
    "import time\n",
    "from selenium.webdriver.common.keys import Keys\n",
    "from selenium.webdriver import ActionChains\n",
    "from selenium.common.exceptions import NoSuchElementException\n",
    "\n",
    "import bs4\n",
    "import urllib\n",
    "\n",
    "\n",
    "import random"
   ]
  },
  {
   "cell_type": "markdown",
   "metadata": {},
   "source": [
    "## SCRAPPING DATA"
   ]
  },
  {
   "cell_type": "code",
   "execution_count": 3,
   "metadata": {
    "ExecuteTime": {
     "end_time": "2021-10-27T19:07:35.234928Z",
     "start_time": "2021-10-27T19:07:33.374036Z"
    }
   },
   "outputs": [],
   "source": [
    "driver = webdriver.Chrome()\n",
    "\n",
    "driver.get('https://badmintonstatistics.net/Rankings?date=2021-10-25&category=MS&country=%&page=1&pagesize=100')\n",
    "driver.maximize_window()"
   ]
  },
  {
   "cell_type": "code",
   "execution_count": 4,
   "metadata": {
    "ExecuteTime": {
     "end_time": "2021-10-27T19:49:09.971782Z",
     "start_time": "2021-10-27T19:49:09.956768Z"
    }
   },
   "outputs": [],
   "source": [
    "dic_ranking = {'date':[], 'draw':[], 'top_100':[]}"
   ]
  },
  {
   "cell_type": "code",
   "execution_count": 53,
   "metadata": {
    "ExecuteTime": {
     "end_time": "2021-10-27T21:14:20.751485Z",
     "start_time": "2021-10-27T20:49:50.118567Z"
    }
   },
   "outputs": [],
   "source": [
    "date_listing = driver.find_element_by_xpath('//*[@id=\"rankingPeriodsSelect\"]').text\n",
    "date_listing = date_listing.replace(' ','').replace('/','-').split('\\n')\n",
    "\n",
    "for date in date_listing[1000:]:\n",
    "    \n",
    "    temp_date = date[6:10]+'-'+date[3:5]+'-'+date[0:2]\n",
    "\n",
    "    for draw in ['MS','WS','MD','WD','XD']:\n",
    "        \n",
    "        driver.get('https://badmintonstatistics.net/Rankings?date='+temp_date+'&category='+draw+'&country=%&page=1&pagesize=100')\n",
    "\n",
    "        top_100 = driver.find_elements_by_xpath('//*[@id=\"RankingList\"]/div[2]/table/tbody')\n",
    "\n",
    "        dic_ranking['date'].append(temp_date)\n",
    "        dic_ranking['draw'].append(draw)\n",
    "        dic_ranking['top_100'].append(top_100[0].text)\n",
    "\n",
    "        #time.sleep(random.randint(3,5))"
   ]
  },
  {
   "cell_type": "code",
   "execution_count": 54,
   "metadata": {
    "ExecuteTime": {
     "end_time": "2021-10-27T21:15:12.428438Z",
     "start_time": "2021-10-27T21:15:12.409420Z"
    }
   },
   "outputs": [],
   "source": [
    "top_100 = pd.DataFrame.from_dict(dic_ranking)"
   ]
  },
  {
   "cell_type": "code",
   "execution_count": 56,
   "metadata": {
    "ExecuteTime": {
     "end_time": "2021-10-27T21:15:43.724489Z",
     "start_time": "2021-10-27T21:15:43.149967Z"
    }
   },
   "outputs": [],
   "source": [
    "top_100.to_csv('export_histo_top100_badminton.csv')"
   ]
  },
  {
   "cell_type": "markdown",
   "metadata": {},
   "source": [
    "## LOADING DATA"
   ]
  },
  {
   "cell_type": "code",
   "execution_count": 74,
   "metadata": {},
   "outputs": [],
   "source": [
    "#checking last scraped data\n",
    "data = pd.read_csv(\".\\export_histo_top100_badminton.csv\")"
   ]
  },
  {
   "cell_type": "code",
   "execution_count": 75,
   "metadata": {},
   "outputs": [
    {
     "data": {
      "text/html": [
       "<div>\n",
       "<style scoped>\n",
       "    .dataframe tbody tr th:only-of-type {\n",
       "        vertical-align: middle;\n",
       "    }\n",
       "\n",
       "    .dataframe tbody tr th {\n",
       "        vertical-align: top;\n",
       "    }\n",
       "\n",
       "    .dataframe thead th {\n",
       "        text-align: right;\n",
       "    }\n",
       "</style>\n",
       "<table border=\"1\" class=\"dataframe\">\n",
       "  <thead>\n",
       "    <tr style=\"text-align: right;\">\n",
       "      <th></th>\n",
       "      <th>Unnamed: 0</th>\n",
       "      <th>date</th>\n",
       "      <th>draw</th>\n",
       "      <th>top_100</th>\n",
       "    </tr>\n",
       "  </thead>\n",
       "  <tbody>\n",
       "    <tr>\n",
       "      <th>0</th>\n",
       "      <td>0</td>\n",
       "      <td>2021-10-25</td>\n",
       "      <td>MS</td>\n",
       "      <td>Rank Players Country Category Points\\n1 Kento ...</td>\n",
       "    </tr>\n",
       "    <tr>\n",
       "      <th>1</th>\n",
       "      <td>1</td>\n",
       "      <td>2021-10-25</td>\n",
       "      <td>WS</td>\n",
       "      <td>Rank Players Country Category Points\\n1 TAI Tz...</td>\n",
       "    </tr>\n",
       "    <tr>\n",
       "      <th>2</th>\n",
       "      <td>2</td>\n",
       "      <td>2021-10-25</td>\n",
       "      <td>MD</td>\n",
       "      <td>Rank Players Country Category Points\\n1 Marcus...</td>\n",
       "    </tr>\n",
       "    <tr>\n",
       "      <th>3</th>\n",
       "      <td>3</td>\n",
       "      <td>2021-10-25</td>\n",
       "      <td>WD</td>\n",
       "      <td>Rank Players Country Category Points\\n1 Yuki F...</td>\n",
       "    </tr>\n",
       "    <tr>\n",
       "      <th>4</th>\n",
       "      <td>4</td>\n",
       "      <td>2021-10-25</td>\n",
       "      <td>XD</td>\n",
       "      <td>Rank Players Country Category Points\\n1 ZHENG ...</td>\n",
       "    </tr>\n",
       "  </tbody>\n",
       "</table>\n",
       "</div>"
      ],
      "text/plain": [
       "   Unnamed: 0        date draw  \\\n",
       "0           0  2021-10-25   MS   \n",
       "1           1  2021-10-25   WS   \n",
       "2           2  2021-10-25   MD   \n",
       "3           3  2021-10-25   WD   \n",
       "4           4  2021-10-25   XD   \n",
       "\n",
       "                                             top_100  \n",
       "0  Rank Players Country Category Points\\n1 Kento ...  \n",
       "1  Rank Players Country Category Points\\n1 TAI Tz...  \n",
       "2  Rank Players Country Category Points\\n1 Marcus...  \n",
       "3  Rank Players Country Category Points\\n1 Yuki F...  \n",
       "4  Rank Players Country Category Points\\n1 ZHENG ...  "
      ]
     },
     "execution_count": 75,
     "metadata": {},
     "output_type": "execute_result"
    }
   ],
   "source": [
    "data.head()"
   ]
  },
  {
   "cell_type": "markdown",
   "metadata": {},
   "source": [
    "## FORMATING DATA"
   ]
  },
  {
   "cell_type": "code",
   "execution_count": 102,
   "metadata": {},
   "outputs": [],
   "source": [
    "def prep_data(df):\n",
    "\n",
    "    df = df.drop('Unnamed: 0', axis = 1)\n",
    "\n",
    "    df = pd.DataFrame(df.top_100.str.split('\\n').tolist(), index=df[['date','draw']]).stack().reset_index()\n",
    "    \n",
    "    df.columns = ['date / draw', 'to_drop', 'content']\n",
    "\n",
    "    df = df[df['to_drop'] != 0].drop('to_drop', axis = 1)\n",
    "\n",
    "    df['date'] = df['date / draw'].str[0]\n",
    "    df['draw'] = df['date / draw'].str[1]\n",
    "    df['rank'] = df['content'].str.split(' ', 1).str[0]\n",
    "    df['points'] = df['content'].str.split(' ').str[-1]\n",
    "    df['country'] = df['content'].str.split(' ').str[-3].str.upper()\n",
    "    df['name'] = df['content'].str.split(' ').str[1:-3]\n",
    "\n",
    "    df['country'] = df['country'].str.replace('KONG','HONG KONG')\n",
    "    df['country'] = df['country'].str.replace('TAIPEI','CHINESE TAIPEI')\n",
    "    \n",
    "    df['name'] = df['name'].apply(lambda x: ','.join(map(str, x)))\n",
    "    df['name'] = df['name'].str.replace(',',' ').str.upper()\n",
    "    df['name'] = df['name'].str.replace('CHINESE','')\n",
    "    \n",
    "    df['points'] = df['points'].astype('int')\n",
    "    \n",
    "    df['rank'] = df['rank'].astype('int')\n",
    "\n",
    "    df = df.drop(['date / draw','content'], axis = 1)\n",
    "    \n",
    "    print(df.info())\n",
    "    print(df.head())\n",
    "    \n",
    "    return df"
   ]
  },
  {
   "cell_type": "code",
   "execution_count": 103,
   "metadata": {
    "ExecuteTime": {
     "end_time": "2021-11-24T16:25:08.785938Z",
     "start_time": "2021-11-24T16:25:01.073953Z"
    }
   },
   "outputs": [
    {
     "name": "stdout",
     "output_type": "stream",
     "text": [
      "<class 'pandas.core.frame.DataFrame'>\n",
      "Int64Index: 808000 entries, 1 to 816079\n",
      "Data columns (total 6 columns):\n",
      " #   Column   Non-Null Count   Dtype \n",
      "---  ------   --------------   ----- \n",
      " 0   date     808000 non-null  object\n",
      " 1   draw     808000 non-null  object\n",
      " 2   rank     808000 non-null  int32 \n",
      " 3   points   808000 non-null  int32 \n",
      " 4   country  808000 non-null  object\n",
      " 5   name     808000 non-null  object\n",
      "dtypes: int32(2), object(4)\n",
      "memory usage: 37.0+ MB\n",
      "None\n",
      "         date draw  rank  points         country                      name\n",
      "1  2021-10-25   MS     1  109118           JAPAN              KENTO MOMOTA\n",
      "2  2021-10-25   MS     2  103786         DENMARK            VIKTOR AXELSEN\n",
      "3  2021-10-25   MS     3   94875         DENMARK           ANDERS ANTONSEN\n",
      "4  2021-10-25   MS     4   89828  CHINESE TAIPEI           CHOU TIEN CHEN \n",
      "5  2021-10-25   MS     5   85332       INDONESIA  ANTHONY SINISUKA GINTING\n"
     ]
    }
   ],
   "source": [
    "data_prep = prep_data(data)"
   ]
  },
  {
   "cell_type": "code",
   "execution_count": 96,
   "metadata": {
    "ExecuteTime": {
     "end_time": "2021-11-24T16:28:11.173304Z",
     "start_time": "2021-11-24T16:28:11.157346Z"
    }
   },
   "outputs": [
    {
     "data": {
      "text/plain": [
       "INDONESIA         68050\n",
       "CHINA             67326\n",
       "DENMARK           65930\n",
       "MALAYSIA          50995\n",
       "KOREA             47178\n",
       "JAPAN             45130\n",
       "ENGLAND           44912\n",
       "CHINESE TAIPEI    31760\n",
       "GERMANY           29778\n",
       "THAILAND          27756\n",
       "Name: country, dtype: int64"
      ]
     },
     "execution_count": 96,
     "metadata": {},
     "output_type": "execute_result"
    }
   ],
   "source": [
    "data_prep['country'].value_counts().head(10)"
   ]
  },
  {
   "cell_type": "code",
   "execution_count": 94,
   "metadata": {},
   "outputs": [
    {
     "data": {
      "text/plain": [
       "LIN DAN             1011\n",
       "BOONSAK PONSANA      980\n",
       "PETER HOEG GADE      952\n",
       "LEE CHONG WEI        935\n",
       "LEE HYUN IL          928\n",
       "SONY DWI KUNCORO     891\n",
       "CHARMAINE REID       884\n",
       "ZHANG NING           881\n",
       "PETYA NEDELCHEVA     872\n",
       "JURGEN KOCH          865\n",
       "Name: name, dtype: int64"
      ]
     },
     "execution_count": 94,
     "metadata": {},
     "output_type": "execute_result"
    }
   ],
   "source": [
    "data_prep['name'].value_counts().head(10)"
   ]
  },
  {
   "cell_type": "code",
   "execution_count": 99,
   "metadata": {},
   "outputs": [
    {
     "data": {
      "text/plain": [
       "LEE CHONG WEI                                       400\n",
       "ZHANG NAN / ZHAO YUNLEI                             244\n",
       "LIN DAN                                             212\n",
       "SUSI SUSANTI                                        189\n",
       "MARCUS FERNALDI GIDEON / KEVIN SANJAYA SUKAMULJO    179\n",
       "GE FEI / GU JUN                                     178\n",
       "TAI TZU YING                                        177\n",
       "GAO LING / HUANG SUI CHINA /                        170\n",
       "YANG WEI / ZHANG JIEWEN                             161\n",
       "ARDY B WIRANATA                                     157\n",
       "Name: name, dtype: int64"
      ]
     },
     "execution_count": 99,
     "metadata": {},
     "output_type": "execute_result"
    }
   ],
   "source": [
    "data_prep[data_prep['rank'] == '1']['name'].value_counts().head(10)"
   ]
  },
  {
   "cell_type": "code",
   "execution_count": 106,
   "metadata": {},
   "outputs": [
    {
     "data": {
      "text/html": [
       "<div>\n",
       "<style scoped>\n",
       "    .dataframe tbody tr th:only-of-type {\n",
       "        vertical-align: middle;\n",
       "    }\n",
       "\n",
       "    .dataframe tbody tr th {\n",
       "        vertical-align: top;\n",
       "    }\n",
       "\n",
       "    .dataframe thead th {\n",
       "        text-align: right;\n",
       "    }\n",
       "</style>\n",
       "<table border=\"1\" class=\"dataframe\">\n",
       "  <thead>\n",
       "    <tr style=\"text-align: right;\">\n",
       "      <th></th>\n",
       "      <th>date</th>\n",
       "      <th>draw</th>\n",
       "      <th>rank</th>\n",
       "      <th>points</th>\n",
       "      <th>country</th>\n",
       "      <th>name</th>\n",
       "    </tr>\n",
       "  </thead>\n",
       "  <tbody>\n",
       "    <tr>\n",
       "      <th>32725</th>\n",
       "      <td>2019-09-23</td>\n",
       "      <td>XD</td>\n",
       "      <td>1</td>\n",
       "      <td>115902</td>\n",
       "      <td>CHINA</td>\n",
       "      <td>ZHENG SIWEI / HUANG YAQIONG</td>\n",
       "    </tr>\n",
       "  </tbody>\n",
       "</table>\n",
       "</div>"
      ],
      "text/plain": [
       "             date draw  rank  points country                         name\n",
       "32725  2019-09-23   XD     1  115902   CHINA  ZHENG SIWEI / HUANG YAQIONG"
      ]
     },
     "execution_count": 106,
     "metadata": {},
     "output_type": "execute_result"
    }
   ],
   "source": [
    "data_prep.sort_values(by='points', ascending=False).head(1)"
   ]
  },
  {
   "cell_type": "code",
   "execution_count": null,
   "metadata": {},
   "outputs": [],
   "source": []
  }
 ],
 "metadata": {
  "hide_input": false,
  "kernelspec": {
   "display_name": "Python 3",
   "language": "python",
   "name": "python3"
  },
  "language_info": {
   "codemirror_mode": {
    "name": "ipython",
    "version": 3
   },
   "file_extension": ".py",
   "mimetype": "text/x-python",
   "name": "python",
   "nbconvert_exporter": "python",
   "pygments_lexer": "ipython3",
   "version": "3.9.7"
  },
  "toc": {
   "base_numbering": 1,
   "nav_menu": {},
   "number_sections": true,
   "sideBar": true,
   "skip_h1_title": false,
   "title_cell": "Table of Contents",
   "title_sidebar": "Contents",
   "toc_cell": false,
   "toc_position": {},
   "toc_section_display": true,
   "toc_window_display": false
  }
 },
 "nbformat": 4,
 "nbformat_minor": 4
}

{
 "cells": [
  {
   "attachments": {},
   "cell_type": "markdown",
   "metadata": {},
   "source": [
    "# JOBS WEB SCRAPPER"
   ]
  },
  {
   "attachments": {},
   "cell_type": "markdown",
   "metadata": {},
   "source": [
    "## TO DO :"
   ]
  },
  {
   "attachments": {},
   "cell_type": "markdown",
   "metadata": {},
   "source": [
    "- how to get pubilshing data\n",
    "- for a given set of words (ex : PowerBI), analyze frequency, use in given companies, evolution of use, ..."
   ]
  },
  {
   "cell_type": "code",
   "execution_count": null,
   "metadata": {
    "ExecuteTime": {
     "end_time": "2021-10-27T07:28:54.987761Z",
     "start_time": "2021-10-27T07:28:53.286637Z"
    }
   },
   "outputs": [],
   "source": [
    "import pandas as pd\n",
    "from selenium import webdriver\n",
    "import time\n",
    "from selenium.webdriver.common.keys import Keys\n",
    "from selenium.webdriver import ActionChains\n",
    "from selenium.common.exceptions import NoSuchElementException\n",
    "\n",
    "import bs4\n",
    "import urllib\n",
    "\n",
    "\n",
    "import random"
   ]
  },
  {
   "cell_type": "markdown",
   "metadata": {},
   "source": [
    "## LINKEDIN"
   ]
  },
  {
   "cell_type": "code",
   "execution_count": null,
   "metadata": {
    "ExecuteTime": {
     "end_time": "2021-10-27T07:29:11.405425Z",
     "start_time": "2021-10-27T07:28:56.943593Z"
    }
   },
   "outputs": [],
   "source": [
    "driver = webdriver.Chrome()\n",
    "\n",
    "email = \"\"\n",
    "password = \"\"\n",
    "\n",
    "# Go to linkedin and login\n",
    "driver.get('https://www.linkedin.com/login')\n",
    "time.sleep(3)\n",
    "driver.find_element_by_id('username').send_keys(email)\n",
    "driver.find_element_by_id('password').send_keys(password)\n",
    "driver.find_element_by_id('password').send_keys(Keys.RETURN)\n",
    "time.sleep(5)\n",
    "\n",
    "driver.maximize_window()\n",
    "\n",
    "driver.get(\"https://www.linkedin.com/jobs/\")\n",
    "time.sleep(5)\n",
    "\n",
    "#ActionChains(driver).click(driver.find_element_by_xpath('//*[@id=\"ember121\"]/div/div/p[1]')).perform()"
   ]
  },
  {
   "cell_type": "code",
   "execution_count": null,
   "metadata": {
    "ExecuteTime": {
     "end_time": "2021-10-27T08:29:20.066868Z",
     "start_time": "2021-10-27T08:27:17.957694Z"
    }
   },
   "outputs": [],
   "source": [
    "dic_annonces = {'title':[],'company':[],'place':[],'n_appliants':[],'content':[],\n",
    "               'type':[], 'ppl_domain':[], 'date':[]}\n",
    "\n",
    "# scrolls a single page:\n",
    "for n_page in range(30):\n",
    "    \n",
    "    # get a list of all the listings elements's in the side bar\n",
    "    list_items = driver.find_elements_by_class_name(\"occludable-update\")\n",
    "    \n",
    "    for each_job in list_items:\n",
    "\n",
    "        # executes JavaScript to scroll the div into view\n",
    "        driver.execute_script(\"arguments[0].scrollIntoView();\", each_job)\n",
    "        each_job.click()\n",
    "        time.sleep(random.randint(5,10))\n",
    "\n",
    "        # get info:\n",
    "\n",
    "        title_temp = each_job.text.split('\\n')[0]\n",
    "        company_temp = each_job.text.split('\\n')[1]\n",
    "        place_temp = each_job.text.split('\\n')[2]\n",
    "        \n",
    "        if len(each_job.text.split('\\n')) > 6 :\n",
    "               n_appliants_temp = each_job.text.split('\\n')[6]\n",
    "        else :\n",
    "               n_appliants_temp = \"unknown\"\n",
    "        \n",
    "        try:\n",
    "            content_temp = \"Content : \" + driver.find_element_by_id(\"job-details\").text\n",
    "        except NoSuchElementException:\n",
    "            content_temp = \"NA\"\n",
    "        \n",
    "        try:\n",
    "            type_temp = driver.find_element_by_xpath('/html/body/div[6]/div[3]/div[3]/div[2]/div/section[2]/div/div/div[1]/div/div[1]/div/div[2]/div[2]/div[1]/span').text\n",
    "        except NoSuchElementException:\n",
    "            type_temp = \"NA\"\n",
    "        \n",
    "        try:\n",
    "            date_temp = driver.find_element_by_xpath('/html/body/div[6]/div[3]/div[3]/div[2]/div/section[2]/div/div/div[1]/div/div[1]/div/div[2]/div[1]/span[2]/span[1]').text\n",
    "        except NoSuchElementException:\n",
    "            date_temp = \"NA\"\n",
    "        \n",
    "        try:\n",
    "            ppl_domain_temp = driver.find_element_by_xpath('/html/body/div[6]/div[3]/div[3]/div[2]/div/section[2]/div/div/div[1]/div/div[1]/div/div[2]/div[2]/div[2]/span').text\n",
    "        except NoSuchElementException:\n",
    "            ppl_domain_temp = \"NA\"\n",
    "        \n",
    "        dic_annonces['title'].append(title_temp)\n",
    "        dic_annonces['company'].append(company_temp)\n",
    "        dic_annonces['place'].append(place_temp)\n",
    "        dic_annonces['n_appliants'].append(n_appliants_temp)\n",
    "        dic_annonces['content'].append(content_temp)\n",
    "        dic_annonces['ppl_domain'].append(ppl_domain_temp)\n",
    "        dic_annonces['date'].append(date_temp)\n",
    "        dic_annonces['type'].append(type_temp)\n",
    "\n",
    "    time.sleep(10)\n",
    "    \n",
    "    first_url = driver.current_url\n",
    "    \n",
    "    driver.get(driver.current_url+'&start='+str(len(dic_annonces['title'])))"
   ]
  },
  {
   "cell_type": "code",
   "execution_count": null,
   "metadata": {
    "ExecuteTime": {
     "end_time": "2021-10-27T08:29:23.016749Z",
     "start_time": "2021-10-27T08:29:22.998733Z"
    }
   },
   "outputs": [],
   "source": [
    "RTE = pd.DataFrame.from_dict(dic_annonces)\n",
    "display(RTE.head())\n",
    "RTE.info()"
   ]
  },
  {
   "cell_type": "code",
   "execution_count": null,
   "metadata": {
    "ExecuteTime": {
     "end_time": "2021-10-27T08:30:41.890840Z",
     "start_time": "2021-10-27T08:30:41.876829Z"
    }
   },
   "outputs": [],
   "source": [
    "def prep_dataset(df) :\n",
    "    \n",
    "    df = df.applymap(lambda s:s.upper() if type(s) == str else s)\n",
    "    df['place'] = df['place'].str.split(',', expand = True)[0]\n",
    "    df['n_appliants'] = df['n_appliants'].str.split(' ', expand = True)[0]\n",
    "    df['size_company'] = df['ppl_domain'].str.split('·', expand = True)[0]\n",
    "    #df['domain_company'] = df['ppl_domain'].str.split('·', expand = True)[1]\n",
    "    df = df.drop(['ppl_domain','n_appliants'], axis = 1)\n",
    "    df['content'] = df['content'].str.replace('\\n','')\n",
    "    \n",
    "    #print(df.head())\n",
    "    \n",
    "    return df"
   ]
  },
  {
   "cell_type": "code",
   "execution_count": null,
   "metadata": {
    "ExecuteTime": {
     "end_time": "2021-10-27T08:30:42.323232Z",
     "start_time": "2021-10-27T08:30:42.312223Z"
    }
   },
   "outputs": [],
   "source": [
    "RTE = prep_dataset(RTE)"
   ]
  },
  {
   "cell_type": "code",
   "execution_count": null,
   "metadata": {
    "ExecuteTime": {
     "end_time": "2021-10-27T08:30:43.195777Z",
     "start_time": "2021-10-27T08:30:43.175760Z"
    }
   },
   "outputs": [],
   "source": [
    "RTE.info()"
   ]
  },
  {
   "cell_type": "code",
   "execution_count": null,
   "metadata": {
    "ExecuteTime": {
     "end_time": "2021-10-27T08:30:43.576123Z",
     "start_time": "2021-10-27T08:30:43.559107Z"
    }
   },
   "outputs": [],
   "source": [
    "RTE.head(50)"
   ]
  },
  {
   "cell_type": "markdown",
   "metadata": {},
   "source": [
    "## INDEED"
   ]
  },
  {
   "cell_type": "code",
   "execution_count": null,
   "metadata": {},
   "outputs": [],
   "source": []
  },
  {
   "cell_type": "markdown",
   "metadata": {},
   "source": [
    "## GLASSDOOR"
   ]
  },
  {
   "cell_type": "code",
   "execution_count": null,
   "metadata": {},
   "outputs": [],
   "source": []
  },
  {
   "cell_type": "markdown",
   "metadata": {},
   "source": [
    "## CADREMPLOI"
   ]
  },
  {
   "cell_type": "code",
   "execution_count": null,
   "metadata": {},
   "outputs": [],
   "source": []
  }
 ],
 "metadata": {
  "kernelspec": {
   "display_name": ".venv",
   "language": "python",
   "name": "python3"
  },
  "language_info": {
   "codemirror_mode": {
    "name": "ipython",
    "version": 3
   },
   "file_extension": ".py",
   "mimetype": "text/x-python",
   "name": "python",
   "nbconvert_exporter": "python",
   "pygments_lexer": "ipython3",
   "version": "3.10.5 (tags/v3.10.5:f377153, Jun  6 2022, 16:14:13) [MSC v.1929 64 bit (AMD64)]"
  },
  "toc": {
   "base_numbering": 1,
   "nav_menu": {},
   "number_sections": true,
   "sideBar": true,
   "skip_h1_title": false,
   "title_cell": "Table of Contents",
   "title_sidebar": "Contents",
   "toc_cell": false,
   "toc_position": {},
   "toc_section_display": true,
   "toc_window_display": true
  },
  "vscode": {
   "interpreter": {
    "hash": "cd2596a3224796df96bb1fafe678147d2ebc5b1638457130feb5565309556409"
   }
  }
 },
 "nbformat": 4,
 "nbformat_minor": 4
}
